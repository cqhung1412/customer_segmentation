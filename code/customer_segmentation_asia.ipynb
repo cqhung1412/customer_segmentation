{
  "nbformat": 4,
  "nbformat_minor": 0,
  "metadata": {
    "kernelspec": {
      "display_name": "Python 3",
      "language": "python",
      "name": "python3"
    },
    "language_info": {
      "codemirror_mode": {
        "name": "ipython",
        "version": 3
      },
      "file_extension": ".py",
      "mimetype": "text/x-python",
      "name": "python",
      "nbconvert_exporter": "python",
      "pygments_lexer": "ipython3",
      "version": "3.7.7"
    },
    "colab": {
      "name": "customer_segmentation_asia.ipynb",
      "provenance": [],
      "collapsed_sections": [
        "eXjAtAMhdxLy",
        "6c0RhcucdxLz",
        "YHaw_3YadxL0"
      ],
      "include_colab_link": true
    }
  },
  "cells": [
    {
      "cell_type": "markdown",
      "metadata": {
        "id": "view-in-github",
        "colab_type": "text"
      },
      "source": [
        "<a href=\"https://colab.research.google.com/github/daniel-isidro/customer_segmentation/blob/main/code/customer_segmentation_asia.ipynb\" target=\"_parent\"><img src=\"https://colab.research.google.com/assets/colab-badge.svg\" alt=\"Open In Colab\"/></a>"
      ]
    },
    {
      "cell_type": "code",
      "metadata": {
        "id": "FCEovcSJdxLw"
      },
      "source": [
        "import numpy as np\n",
        "import pandas as pd\n",
        "import math\n",
        "from datetime import timedelta, datetime\n",
        "import matplotlib.pyplot as plt\n",
        "%matplotlib inline\n",
        "plt.style.use(\"seaborn\")\n",
        "plt.rcParams[\"figure.figsize\"] = (25, 5)"
      ],
      "execution_count": 97,
      "outputs": []
    },
    {
      "cell_type": "markdown",
      "metadata": {
        "id": "MmOaye24dxLw"
      },
      "source": [
        "### Exploring and preparing the data"
      ]
    },
    {
      "cell_type": "code",
      "metadata": {
        "id": "r6hCnPlddxLw"
      },
      "source": [
        "df1 = pd.read_csv('https://raw.githubusercontent.com/daniel-isidro/customer_segmentation/main/data/sales_asia.csv', \n",
        "                  dtype={'week.year': str}, \n",
        "                  sep=';', \n",
        "                  decimal=',')"
      ],
      "execution_count": 98,
      "outputs": []
    },
    {
      "cell_type": "code",
      "metadata": {
        "colab": {
          "base_uri": "https://localhost:8080/",
          "height": 204
        },
        "id": "b047nH2FdxLw",
        "outputId": "481f93d7-2dc8-4054-80f7-ab174b5cb55d"
      },
      "source": [
        "df1.head()"
      ],
      "execution_count": 99,
      "outputs": [
        {
          "output_type": "execute_result",
          "data": {
            "text/html": [
              "<div>\n",
              "<style scoped>\n",
              "    .dataframe tbody tr th:only-of-type {\n",
              "        vertical-align: middle;\n",
              "    }\n",
              "\n",
              "    .dataframe tbody tr th {\n",
              "        vertical-align: top;\n",
              "    }\n",
              "\n",
              "    .dataframe thead th {\n",
              "        text-align: right;\n",
              "    }\n",
              "</style>\n",
              "<table border=\"1\" class=\"dataframe\">\n",
              "  <thead>\n",
              "    <tr style=\"text-align: right;\">\n",
              "      <th></th>\n",
              "      <th>country</th>\n",
              "      <th>id</th>\n",
              "      <th>week.year</th>\n",
              "      <th>revenue</th>\n",
              "      <th>units</th>\n",
              "    </tr>\n",
              "  </thead>\n",
              "  <tbody>\n",
              "    <tr>\n",
              "      <th>0</th>\n",
              "      <td>KR</td>\n",
              "      <td>702234</td>\n",
              "      <td>03.2019</td>\n",
              "      <td>808.08</td>\n",
              "      <td>1</td>\n",
              "    </tr>\n",
              "    <tr>\n",
              "      <th>1</th>\n",
              "      <td>KR</td>\n",
              "      <td>702234</td>\n",
              "      <td>06.2019</td>\n",
              "      <td>1606.80</td>\n",
              "      <td>2</td>\n",
              "    </tr>\n",
              "    <tr>\n",
              "      <th>2</th>\n",
              "      <td>KR</td>\n",
              "      <td>3618438</td>\n",
              "      <td>08.2019</td>\n",
              "      <td>803.40</td>\n",
              "      <td>1</td>\n",
              "    </tr>\n",
              "    <tr>\n",
              "      <th>3</th>\n",
              "      <td>KR</td>\n",
              "      <td>3618438</td>\n",
              "      <td>09.2019</td>\n",
              "      <td>803.40</td>\n",
              "      <td>1</td>\n",
              "    </tr>\n",
              "    <tr>\n",
              "      <th>4</th>\n",
              "      <td>KR</td>\n",
              "      <td>3618438</td>\n",
              "      <td>09.2019</td>\n",
              "      <td>803.40</td>\n",
              "      <td>1</td>\n",
              "    </tr>\n",
              "  </tbody>\n",
              "</table>\n",
              "</div>"
            ],
            "text/plain": [
              "  country       id week.year  revenue  units\n",
              "0      KR   702234   03.2019   808.08      1\n",
              "1      KR   702234   06.2019  1606.80      2\n",
              "2      KR  3618438   08.2019   803.40      1\n",
              "3      KR  3618438   09.2019   803.40      1\n",
              "4      KR  3618438   09.2019   803.40      1"
            ]
          },
          "metadata": {
            "tags": []
          },
          "execution_count": 99
        }
      ]
    },
    {
      "cell_type": "code",
      "metadata": {
        "colab": {
          "base_uri": "https://localhost:8080/",
          "height": 204
        },
        "id": "h84CBjJbwC55",
        "outputId": "ce008888-2500-465f-b8a9-bb98f0e2e678"
      },
      "source": [
        "df1.tail()"
      ],
      "execution_count": 100,
      "outputs": [
        {
          "output_type": "execute_result",
          "data": {
            "text/html": [
              "<div>\n",
              "<style scoped>\n",
              "    .dataframe tbody tr th:only-of-type {\n",
              "        vertical-align: middle;\n",
              "    }\n",
              "\n",
              "    .dataframe tbody tr th {\n",
              "        vertical-align: top;\n",
              "    }\n",
              "\n",
              "    .dataframe thead th {\n",
              "        text-align: right;\n",
              "    }\n",
              "</style>\n",
              "<table border=\"1\" class=\"dataframe\">\n",
              "  <thead>\n",
              "    <tr style=\"text-align: right;\">\n",
              "      <th></th>\n",
              "      <th>country</th>\n",
              "      <th>id</th>\n",
              "      <th>week.year</th>\n",
              "      <th>revenue</th>\n",
              "      <th>units</th>\n",
              "    </tr>\n",
              "  </thead>\n",
              "  <tbody>\n",
              "    <tr>\n",
              "      <th>235569</th>\n",
              "      <td>CN</td>\n",
              "      <td>2452476</td>\n",
              "      <td>27.2020</td>\n",
              "      <td>41160.0</td>\n",
              "      <td>200</td>\n",
              "    </tr>\n",
              "    <tr>\n",
              "      <th>235570</th>\n",
              "      <td>CN</td>\n",
              "      <td>2452476</td>\n",
              "      <td>27.2020</td>\n",
              "      <td>50856.0</td>\n",
              "      <td>400</td>\n",
              "    </tr>\n",
              "    <tr>\n",
              "      <th>235571</th>\n",
              "      <td>CN</td>\n",
              "      <td>2452476</td>\n",
              "      <td>27.2020</td>\n",
              "      <td>79920.0</td>\n",
              "      <td>1200</td>\n",
              "    </tr>\n",
              "    <tr>\n",
              "      <th>235572</th>\n",
              "      <td>CN</td>\n",
              "      <td>4553904</td>\n",
              "      <td>27.2020</td>\n",
              "      <td>4788.0</td>\n",
              "      <td>100</td>\n",
              "    </tr>\n",
              "    <tr>\n",
              "      <th>235573</th>\n",
              "      <td>CN</td>\n",
              "      <td>4553904</td>\n",
              "      <td>27.2020</td>\n",
              "      <td>4188.0</td>\n",
              "      <td>100</td>\n",
              "    </tr>\n",
              "  </tbody>\n",
              "</table>\n",
              "</div>"
            ],
            "text/plain": [
              "       country       id week.year  revenue  units\n",
              "235569      CN  2452476   27.2020  41160.0    200\n",
              "235570      CN  2452476   27.2020  50856.0    400\n",
              "235571      CN  2452476   27.2020  79920.0   1200\n",
              "235572      CN  4553904   27.2020   4788.0    100\n",
              "235573      CN  4553904   27.2020   4188.0    100"
            ]
          },
          "metadata": {
            "tags": []
          },
          "execution_count": 100
        }
      ]
    },
    {
      "cell_type": "code",
      "metadata": {
        "colab": {
          "base_uri": "https://localhost:8080/"
        },
        "id": "MIVB5Y5jdxLx",
        "outputId": "1b5a948f-67e4-490b-84aa-0badec44dfde"
      },
      "source": [
        "df1.shape"
      ],
      "execution_count": 101,
      "outputs": [
        {
          "output_type": "execute_result",
          "data": {
            "text/plain": [
              "(235574, 5)"
            ]
          },
          "metadata": {
            "tags": []
          },
          "execution_count": 101
        }
      ]
    },
    {
      "cell_type": "code",
      "metadata": {
        "scrolled": true,
        "colab": {
          "base_uri": "https://localhost:8080/"
        },
        "id": "R5YQvU9VdxLx",
        "outputId": "1f7f239b-a384-4974-aa9c-ca8fe96750d0"
      },
      "source": [
        "df1.info()"
      ],
      "execution_count": 102,
      "outputs": [
        {
          "output_type": "stream",
          "text": [
            "<class 'pandas.core.frame.DataFrame'>\n",
            "RangeIndex: 235574 entries, 0 to 235573\n",
            "Data columns (total 5 columns):\n",
            " #   Column     Non-Null Count   Dtype  \n",
            "---  ------     --------------   -----  \n",
            " 0   country    235574 non-null  object \n",
            " 1   id         235574 non-null  int64  \n",
            " 2   week.year  235574 non-null  object \n",
            " 3   revenue    235574 non-null  float64\n",
            " 4   units      235574 non-null  int64  \n",
            "dtypes: float64(1), int64(2), object(2)\n",
            "memory usage: 9.0+ MB\n"
          ],
          "name": "stdout"
        }
      ]
    },
    {
      "cell_type": "code",
      "metadata": {
        "id": "D0ihJZAVdxLx"
      },
      "source": [
        "# Splitting 'week.year' column on '.' and creating 'week' and 'year' columns\n",
        "\n",
        "df1['week'] = df1['week.year'].astype(str).str.split('.').str[0]\n",
        "df1['year'] = df1['week.year'].astype(str).str.split('.').str[1]"
      ],
      "execution_count": 103,
      "outputs": []
    },
    {
      "cell_type": "code",
      "metadata": {
        "colab": {
          "base_uri": "https://localhost:8080/",
          "height": 204
        },
        "id": "OI2P55WCv2ZV",
        "outputId": "2c6e5a3b-af77-4728-e89c-637946796e50"
      },
      "source": [
        "df1.head()"
      ],
      "execution_count": 104,
      "outputs": [
        {
          "output_type": "execute_result",
          "data": {
            "text/html": [
              "<div>\n",
              "<style scoped>\n",
              "    .dataframe tbody tr th:only-of-type {\n",
              "        vertical-align: middle;\n",
              "    }\n",
              "\n",
              "    .dataframe tbody tr th {\n",
              "        vertical-align: top;\n",
              "    }\n",
              "\n",
              "    .dataframe thead th {\n",
              "        text-align: right;\n",
              "    }\n",
              "</style>\n",
              "<table border=\"1\" class=\"dataframe\">\n",
              "  <thead>\n",
              "    <tr style=\"text-align: right;\">\n",
              "      <th></th>\n",
              "      <th>country</th>\n",
              "      <th>id</th>\n",
              "      <th>week.year</th>\n",
              "      <th>revenue</th>\n",
              "      <th>units</th>\n",
              "      <th>week</th>\n",
              "      <th>year</th>\n",
              "    </tr>\n",
              "  </thead>\n",
              "  <tbody>\n",
              "    <tr>\n",
              "      <th>0</th>\n",
              "      <td>KR</td>\n",
              "      <td>702234</td>\n",
              "      <td>03.2019</td>\n",
              "      <td>808.08</td>\n",
              "      <td>1</td>\n",
              "      <td>03</td>\n",
              "      <td>2019</td>\n",
              "    </tr>\n",
              "    <tr>\n",
              "      <th>1</th>\n",
              "      <td>KR</td>\n",
              "      <td>702234</td>\n",
              "      <td>06.2019</td>\n",
              "      <td>1606.80</td>\n",
              "      <td>2</td>\n",
              "      <td>06</td>\n",
              "      <td>2019</td>\n",
              "    </tr>\n",
              "    <tr>\n",
              "      <th>2</th>\n",
              "      <td>KR</td>\n",
              "      <td>3618438</td>\n",
              "      <td>08.2019</td>\n",
              "      <td>803.40</td>\n",
              "      <td>1</td>\n",
              "      <td>08</td>\n",
              "      <td>2019</td>\n",
              "    </tr>\n",
              "    <tr>\n",
              "      <th>3</th>\n",
              "      <td>KR</td>\n",
              "      <td>3618438</td>\n",
              "      <td>09.2019</td>\n",
              "      <td>803.40</td>\n",
              "      <td>1</td>\n",
              "      <td>09</td>\n",
              "      <td>2019</td>\n",
              "    </tr>\n",
              "    <tr>\n",
              "      <th>4</th>\n",
              "      <td>KR</td>\n",
              "      <td>3618438</td>\n",
              "      <td>09.2019</td>\n",
              "      <td>803.40</td>\n",
              "      <td>1</td>\n",
              "      <td>09</td>\n",
              "      <td>2019</td>\n",
              "    </tr>\n",
              "  </tbody>\n",
              "</table>\n",
              "</div>"
            ],
            "text/plain": [
              "  country       id week.year  revenue  units week  year\n",
              "0      KR   702234   03.2019   808.08      1   03  2019\n",
              "1      KR   702234   06.2019  1606.80      2   06  2019\n",
              "2      KR  3618438   08.2019   803.40      1   08  2019\n",
              "3      KR  3618438   09.2019   803.40      1   09  2019\n",
              "4      KR  3618438   09.2019   803.40      1   09  2019"
            ]
          },
          "metadata": {
            "tags": []
          },
          "execution_count": 104
        }
      ]
    },
    {
      "cell_type": "code",
      "metadata": {
        "id": "I-36EMcXdxLx"
      },
      "source": [
        "# Converting year and week into date, using Monday as first day of the week\n",
        "df1['date'] = pd.to_datetime(df1['year'].map(str) + df1['week'].map(str) + '-1', format='%Y%W-%w')"
      ],
      "execution_count": 105,
      "outputs": []
    },
    {
      "cell_type": "code",
      "metadata": {
        "colab": {
          "base_uri": "https://localhost:8080/",
          "height": 204
        },
        "id": "OBqDEwUFyu0B",
        "outputId": "f7a9bd1d-199f-40ea-b348-715e57b845c2"
      },
      "source": [
        "df1.head()"
      ],
      "execution_count": 106,
      "outputs": [
        {
          "output_type": "execute_result",
          "data": {
            "text/html": [
              "<div>\n",
              "<style scoped>\n",
              "    .dataframe tbody tr th:only-of-type {\n",
              "        vertical-align: middle;\n",
              "    }\n",
              "\n",
              "    .dataframe tbody tr th {\n",
              "        vertical-align: top;\n",
              "    }\n",
              "\n",
              "    .dataframe thead th {\n",
              "        text-align: right;\n",
              "    }\n",
              "</style>\n",
              "<table border=\"1\" class=\"dataframe\">\n",
              "  <thead>\n",
              "    <tr style=\"text-align: right;\">\n",
              "      <th></th>\n",
              "      <th>country</th>\n",
              "      <th>id</th>\n",
              "      <th>week.year</th>\n",
              "      <th>revenue</th>\n",
              "      <th>units</th>\n",
              "      <th>week</th>\n",
              "      <th>year</th>\n",
              "      <th>date</th>\n",
              "    </tr>\n",
              "  </thead>\n",
              "  <tbody>\n",
              "    <tr>\n",
              "      <th>0</th>\n",
              "      <td>KR</td>\n",
              "      <td>702234</td>\n",
              "      <td>03.2019</td>\n",
              "      <td>808.08</td>\n",
              "      <td>1</td>\n",
              "      <td>03</td>\n",
              "      <td>2019</td>\n",
              "      <td>2019-01-21</td>\n",
              "    </tr>\n",
              "    <tr>\n",
              "      <th>1</th>\n",
              "      <td>KR</td>\n",
              "      <td>702234</td>\n",
              "      <td>06.2019</td>\n",
              "      <td>1606.80</td>\n",
              "      <td>2</td>\n",
              "      <td>06</td>\n",
              "      <td>2019</td>\n",
              "      <td>2019-02-11</td>\n",
              "    </tr>\n",
              "    <tr>\n",
              "      <th>2</th>\n",
              "      <td>KR</td>\n",
              "      <td>3618438</td>\n",
              "      <td>08.2019</td>\n",
              "      <td>803.40</td>\n",
              "      <td>1</td>\n",
              "      <td>08</td>\n",
              "      <td>2019</td>\n",
              "      <td>2019-02-25</td>\n",
              "    </tr>\n",
              "    <tr>\n",
              "      <th>3</th>\n",
              "      <td>KR</td>\n",
              "      <td>3618438</td>\n",
              "      <td>09.2019</td>\n",
              "      <td>803.40</td>\n",
              "      <td>1</td>\n",
              "      <td>09</td>\n",
              "      <td>2019</td>\n",
              "      <td>2019-03-04</td>\n",
              "    </tr>\n",
              "    <tr>\n",
              "      <th>4</th>\n",
              "      <td>KR</td>\n",
              "      <td>3618438</td>\n",
              "      <td>09.2019</td>\n",
              "      <td>803.40</td>\n",
              "      <td>1</td>\n",
              "      <td>09</td>\n",
              "      <td>2019</td>\n",
              "      <td>2019-03-04</td>\n",
              "    </tr>\n",
              "  </tbody>\n",
              "</table>\n",
              "</div>"
            ],
            "text/plain": [
              "  country       id week.year  revenue  units week  year       date\n",
              "0      KR   702234   03.2019   808.08      1   03  2019 2019-01-21\n",
              "1      KR   702234   06.2019  1606.80      2   06  2019 2019-02-11\n",
              "2      KR  3618438   08.2019   803.40      1   08  2019 2019-02-25\n",
              "3      KR  3618438   09.2019   803.40      1   09  2019 2019-03-04\n",
              "4      KR  3618438   09.2019   803.40      1   09  2019 2019-03-04"
            ]
          },
          "metadata": {
            "tags": []
          },
          "execution_count": 106
        }
      ]
    },
    {
      "cell_type": "code",
      "metadata": {
        "colab": {
          "base_uri": "https://localhost:8080/"
        },
        "id": "dMrWJNfzdxLx",
        "outputId": "32b160a5-4704-4955-9781-f2ed2784cee4"
      },
      "source": [
        "df1.columns"
      ],
      "execution_count": 107,
      "outputs": [
        {
          "output_type": "execute_result",
          "data": {
            "text/plain": [
              "Index(['country', 'id', 'week.year', 'revenue', 'units', 'week', 'year',\n",
              "       'date'],\n",
              "      dtype='object')"
            ]
          },
          "metadata": {
            "tags": []
          },
          "execution_count": 107
        }
      ]
    },
    {
      "cell_type": "code",
      "metadata": {
        "id": "Ex5z6Kl1dxLx"
      },
      "source": [
        "# Removing unnecesary columns\n",
        "df2 = df1.drop(['week.year', 'week', 'year'], axis=1)"
      ],
      "execution_count": 108,
      "outputs": []
    },
    {
      "cell_type": "code",
      "metadata": {
        "colab": {
          "base_uri": "https://localhost:8080/",
          "height": 204
        },
        "id": "C6tCJ3yQzGDN",
        "outputId": "6589f721-cc13-404f-db44-9b19759b5b11"
      },
      "source": [
        "df2.head()"
      ],
      "execution_count": 109,
      "outputs": [
        {
          "output_type": "execute_result",
          "data": {
            "text/html": [
              "<div>\n",
              "<style scoped>\n",
              "    .dataframe tbody tr th:only-of-type {\n",
              "        vertical-align: middle;\n",
              "    }\n",
              "\n",
              "    .dataframe tbody tr th {\n",
              "        vertical-align: top;\n",
              "    }\n",
              "\n",
              "    .dataframe thead th {\n",
              "        text-align: right;\n",
              "    }\n",
              "</style>\n",
              "<table border=\"1\" class=\"dataframe\">\n",
              "  <thead>\n",
              "    <tr style=\"text-align: right;\">\n",
              "      <th></th>\n",
              "      <th>country</th>\n",
              "      <th>id</th>\n",
              "      <th>revenue</th>\n",
              "      <th>units</th>\n",
              "      <th>date</th>\n",
              "    </tr>\n",
              "  </thead>\n",
              "  <tbody>\n",
              "    <tr>\n",
              "      <th>0</th>\n",
              "      <td>KR</td>\n",
              "      <td>702234</td>\n",
              "      <td>808.08</td>\n",
              "      <td>1</td>\n",
              "      <td>2019-01-21</td>\n",
              "    </tr>\n",
              "    <tr>\n",
              "      <th>1</th>\n",
              "      <td>KR</td>\n",
              "      <td>702234</td>\n",
              "      <td>1606.80</td>\n",
              "      <td>2</td>\n",
              "      <td>2019-02-11</td>\n",
              "    </tr>\n",
              "    <tr>\n",
              "      <th>2</th>\n",
              "      <td>KR</td>\n",
              "      <td>3618438</td>\n",
              "      <td>803.40</td>\n",
              "      <td>1</td>\n",
              "      <td>2019-02-25</td>\n",
              "    </tr>\n",
              "    <tr>\n",
              "      <th>3</th>\n",
              "      <td>KR</td>\n",
              "      <td>3618438</td>\n",
              "      <td>803.40</td>\n",
              "      <td>1</td>\n",
              "      <td>2019-03-04</td>\n",
              "    </tr>\n",
              "    <tr>\n",
              "      <th>4</th>\n",
              "      <td>KR</td>\n",
              "      <td>3618438</td>\n",
              "      <td>803.40</td>\n",
              "      <td>1</td>\n",
              "      <td>2019-03-04</td>\n",
              "    </tr>\n",
              "  </tbody>\n",
              "</table>\n",
              "</div>"
            ],
            "text/plain": [
              "  country       id  revenue  units       date\n",
              "0      KR   702234   808.08      1 2019-01-21\n",
              "1      KR   702234  1606.80      2 2019-02-11\n",
              "2      KR  3618438   803.40      1 2019-02-25\n",
              "3      KR  3618438   803.40      1 2019-03-04\n",
              "4      KR  3618438   803.40      1 2019-03-04"
            ]
          },
          "metadata": {
            "tags": []
          },
          "execution_count": 109
        }
      ]
    },
    {
      "cell_type": "code",
      "metadata": {
        "id": "Hv7y4c2-dxLx"
      },
      "source": [
        "#Rename columns\n",
        "\n",
        "df2.rename({'revenue': 'monetary'}, axis = \"columns\", inplace = True)"
      ],
      "execution_count": 110,
      "outputs": []
    },
    {
      "cell_type": "code",
      "metadata": {
        "colab": {
          "base_uri": "https://localhost:8080/",
          "height": 204
        },
        "id": "Wdgm1Vj7dxLy",
        "outputId": "89aadc6c-e576-4fa2-a138-3969f11e9a15"
      },
      "source": [
        "df2.head()"
      ],
      "execution_count": 111,
      "outputs": [
        {
          "output_type": "execute_result",
          "data": {
            "text/html": [
              "<div>\n",
              "<style scoped>\n",
              "    .dataframe tbody tr th:only-of-type {\n",
              "        vertical-align: middle;\n",
              "    }\n",
              "\n",
              "    .dataframe tbody tr th {\n",
              "        vertical-align: top;\n",
              "    }\n",
              "\n",
              "    .dataframe thead th {\n",
              "        text-align: right;\n",
              "    }\n",
              "</style>\n",
              "<table border=\"1\" class=\"dataframe\">\n",
              "  <thead>\n",
              "    <tr style=\"text-align: right;\">\n",
              "      <th></th>\n",
              "      <th>country</th>\n",
              "      <th>id</th>\n",
              "      <th>monetary</th>\n",
              "      <th>units</th>\n",
              "      <th>date</th>\n",
              "    </tr>\n",
              "  </thead>\n",
              "  <tbody>\n",
              "    <tr>\n",
              "      <th>0</th>\n",
              "      <td>KR</td>\n",
              "      <td>702234</td>\n",
              "      <td>808.08</td>\n",
              "      <td>1</td>\n",
              "      <td>2019-01-21</td>\n",
              "    </tr>\n",
              "    <tr>\n",
              "      <th>1</th>\n",
              "      <td>KR</td>\n",
              "      <td>702234</td>\n",
              "      <td>1606.80</td>\n",
              "      <td>2</td>\n",
              "      <td>2019-02-11</td>\n",
              "    </tr>\n",
              "    <tr>\n",
              "      <th>2</th>\n",
              "      <td>KR</td>\n",
              "      <td>3618438</td>\n",
              "      <td>803.40</td>\n",
              "      <td>1</td>\n",
              "      <td>2019-02-25</td>\n",
              "    </tr>\n",
              "    <tr>\n",
              "      <th>3</th>\n",
              "      <td>KR</td>\n",
              "      <td>3618438</td>\n",
              "      <td>803.40</td>\n",
              "      <td>1</td>\n",
              "      <td>2019-03-04</td>\n",
              "    </tr>\n",
              "    <tr>\n",
              "      <th>4</th>\n",
              "      <td>KR</td>\n",
              "      <td>3618438</td>\n",
              "      <td>803.40</td>\n",
              "      <td>1</td>\n",
              "      <td>2019-03-04</td>\n",
              "    </tr>\n",
              "  </tbody>\n",
              "</table>\n",
              "</div>"
            ],
            "text/plain": [
              "  country       id  monetary  units       date\n",
              "0      KR   702234    808.08      1 2019-01-21\n",
              "1      KR   702234   1606.80      2 2019-02-11\n",
              "2      KR  3618438    803.40      1 2019-02-25\n",
              "3      KR  3618438    803.40      1 2019-03-04\n",
              "4      KR  3618438    803.40      1 2019-03-04"
            ]
          },
          "metadata": {
            "tags": []
          },
          "execution_count": 111
        }
      ]
    },
    {
      "cell_type": "code",
      "metadata": {
        "colab": {
          "base_uri": "https://localhost:8080/"
        },
        "id": "oBC8ZeQDdxLy",
        "outputId": "61151b4f-7650-4512-f827-16e474ec9d60"
      },
      "source": [
        "df2.info()"
      ],
      "execution_count": 112,
      "outputs": [
        {
          "output_type": "stream",
          "text": [
            "<class 'pandas.core.frame.DataFrame'>\n",
            "RangeIndex: 235574 entries, 0 to 235573\n",
            "Data columns (total 5 columns):\n",
            " #   Column    Non-Null Count   Dtype         \n",
            "---  ------    --------------   -----         \n",
            " 0   country   235574 non-null  object        \n",
            " 1   id        235574 non-null  int64         \n",
            " 2   monetary  235574 non-null  float64       \n",
            " 3   units     235574 non-null  int64         \n",
            " 4   date      235574 non-null  datetime64[ns]\n",
            "dtypes: datetime64[ns](1), float64(1), int64(2), object(1)\n",
            "memory usage: 9.0+ MB\n"
          ],
          "name": "stdout"
        }
      ]
    },
    {
      "cell_type": "code",
      "metadata": {
        "colab": {
          "base_uri": "https://localhost:8080/",
          "height": 297
        },
        "id": "WV5lfK4IdxLy",
        "outputId": "4e0702fb-f023-471d-90be-ea9fbf9d412b"
      },
      "source": [
        "df2.describe()"
      ],
      "execution_count": 113,
      "outputs": [
        {
          "output_type": "execute_result",
          "data": {
            "text/html": [
              "<div>\n",
              "<style scoped>\n",
              "    .dataframe tbody tr th:only-of-type {\n",
              "        vertical-align: middle;\n",
              "    }\n",
              "\n",
              "    .dataframe tbody tr th {\n",
              "        vertical-align: top;\n",
              "    }\n",
              "\n",
              "    .dataframe thead th {\n",
              "        text-align: right;\n",
              "    }\n",
              "</style>\n",
              "<table border=\"1\" class=\"dataframe\">\n",
              "  <thead>\n",
              "    <tr style=\"text-align: right;\">\n",
              "      <th></th>\n",
              "      <th>id</th>\n",
              "      <th>monetary</th>\n",
              "      <th>units</th>\n",
              "    </tr>\n",
              "  </thead>\n",
              "  <tbody>\n",
              "    <tr>\n",
              "      <th>count</th>\n",
              "      <td>2.355740e+05</td>\n",
              "      <td>2.355740e+05</td>\n",
              "      <td>235574.000000</td>\n",
              "    </tr>\n",
              "    <tr>\n",
              "      <th>mean</th>\n",
              "      <td>3.193118e+06</td>\n",
              "      <td>2.840211e+03</td>\n",
              "      <td>8.599642</td>\n",
              "    </tr>\n",
              "    <tr>\n",
              "      <th>std</th>\n",
              "      <td>7.371744e+06</td>\n",
              "      <td>2.247532e+04</td>\n",
              "      <td>602.939290</td>\n",
              "    </tr>\n",
              "    <tr>\n",
              "      <th>min</th>\n",
              "      <td>6.000180e+05</td>\n",
              "      <td>-1.061539e+05</td>\n",
              "      <td>-150000.000000</td>\n",
              "    </tr>\n",
              "    <tr>\n",
              "      <th>25%</th>\n",
              "      <td>2.214396e+06</td>\n",
              "      <td>3.994800e+02</td>\n",
              "      <td>1.000000</td>\n",
              "    </tr>\n",
              "    <tr>\n",
              "      <th>50%</th>\n",
              "      <td>3.140856e+06</td>\n",
              "      <td>1.150320e+03</td>\n",
              "      <td>1.000000</td>\n",
              "    </tr>\n",
              "    <tr>\n",
              "      <th>75%</th>\n",
              "      <td>3.892650e+06</td>\n",
              "      <td>2.216160e+03</td>\n",
              "      <td>2.000000</td>\n",
              "    </tr>\n",
              "    <tr>\n",
              "      <th>max</th>\n",
              "      <td>2.419308e+08</td>\n",
              "      <td>2.415857e+06</td>\n",
              "      <td>150000.000000</td>\n",
              "    </tr>\n",
              "  </tbody>\n",
              "</table>\n",
              "</div>"
            ],
            "text/plain": [
              "                 id      monetary          units\n",
              "count  2.355740e+05  2.355740e+05  235574.000000\n",
              "mean   3.193118e+06  2.840211e+03       8.599642\n",
              "std    7.371744e+06  2.247532e+04     602.939290\n",
              "min    6.000180e+05 -1.061539e+05 -150000.000000\n",
              "25%    2.214396e+06  3.994800e+02       1.000000\n",
              "50%    3.140856e+06  1.150320e+03       1.000000\n",
              "75%    3.892650e+06  2.216160e+03       2.000000\n",
              "max    2.419308e+08  2.415857e+06  150000.000000"
            ]
          },
          "metadata": {
            "tags": []
          },
          "execution_count": 113
        }
      ]
    },
    {
      "cell_type": "code",
      "metadata": {
        "id": "g3NeSfPA46JM"
      },
      "source": [
        "# We have 235574 transactions in the period of time icluded in the dataset\n",
        "# Biggest transaction was 150,000 units. But it seems there was a reeturn of that amount as well, -150,000 units\n",
        "# Most expensive purchase was 2.41 Millions"
      ],
      "execution_count": 114,
      "outputs": []
    },
    {
      "cell_type": "code",
      "metadata": {
        "colab": {
          "base_uri": "https://localhost:8080/"
        },
        "id": "SMjrADYXdxLy",
        "outputId": "492d2088-b1d3-481d-9dba-0ae6ca8828e7"
      },
      "source": [
        "df2.isnull().sum()"
      ],
      "execution_count": 115,
      "outputs": [
        {
          "output_type": "execute_result",
          "data": {
            "text/plain": [
              "country     0\n",
              "id          0\n",
              "monetary    0\n",
              "units       0\n",
              "date        0\n",
              "dtype: int64"
            ]
          },
          "metadata": {
            "tags": []
          },
          "execution_count": 115
        }
      ]
    },
    {
      "cell_type": "code",
      "metadata": {
        "colab": {
          "base_uri": "https://localhost:8080/"
        },
        "id": "VfddguWY4TUf",
        "outputId": "44bccbf8-4ca4-4e47-c7f0-5b3c6f37f545"
      },
      "source": [
        "# Let's view the period of time included in the dataset\n",
        "\n",
        "df2['date'].min()"
      ],
      "execution_count": 116,
      "outputs": [
        {
          "output_type": "execute_result",
          "data": {
            "text/plain": [
              "Timestamp('2019-01-07 00:00:00')"
            ]
          },
          "metadata": {
            "tags": []
          },
          "execution_count": 116
        }
      ]
    },
    {
      "cell_type": "code",
      "metadata": {
        "colab": {
          "base_uri": "https://localhost:8080/"
        },
        "id": "UmiL25se4TQL",
        "outputId": "37d48aea-08e1-4ddd-f149-138e47c0559d"
      },
      "source": [
        "df2['date'].max()"
      ],
      "execution_count": 117,
      "outputs": [
        {
          "output_type": "execute_result",
          "data": {
            "text/plain": [
              "Timestamp('2020-11-30 00:00:00')"
            ]
          },
          "metadata": {
            "tags": []
          },
          "execution_count": 117
        }
      ]
    },
    {
      "cell_type": "code",
      "metadata": {
        "colab": {
          "base_uri": "https://localhost:8080/"
        },
        "id": "wGNkehy83Sy7",
        "outputId": "72efa372-82d9-4c8e-c1f8-a0f5f36e5fed"
      },
      "source": [
        "# Let's explore in how many different countries we have sales in that period\n",
        "\n",
        "df2['country'].unique()"
      ],
      "execution_count": 118,
      "outputs": [
        {
          "output_type": "execute_result",
          "data": {
            "text/plain": [
              "array(['KR', 'PK', 'MM', 'VN', 'IN', 'SA', 'PH', 'AF', 'CN', 'BD', 'ID',\n",
              "       'TH', 'IQ', 'MY', 'JP', 'IR', 'TR', 'UZ'], dtype=object)"
            ]
          },
          "metadata": {
            "tags": []
          },
          "execution_count": 118
        }
      ]
    },
    {
      "cell_type": "code",
      "metadata": {
        "colab": {
          "base_uri": "https://localhost:8080/"
        },
        "id": "EzqHjFq531Sw",
        "outputId": "7c3726a1-03ad-42b1-8183-b65ecc4342aa"
      },
      "source": [
        "df2['country'].nunique()"
      ],
      "execution_count": 119,
      "outputs": [
        {
          "output_type": "execute_result",
          "data": {
            "text/plain": [
              "18"
            ]
          },
          "metadata": {
            "tags": []
          },
          "execution_count": 119
        }
      ]
    },
    {
      "cell_type": "code",
      "metadata": {
        "colab": {
          "base_uri": "https://localhost:8080/"
        },
        "id": "_NfRCnq131Ob",
        "outputId": "503183c9-877a-40d4-cca6-99037c6c6b2c"
      },
      "source": [
        "# And now how many different customers in all countries\n",
        "\n",
        "df2['id'].nunique()"
      ],
      "execution_count": 120,
      "outputs": [
        {
          "output_type": "execute_result",
          "data": {
            "text/plain": [
              "21837"
            ]
          },
          "metadata": {
            "tags": []
          },
          "execution_count": 120
        }
      ]
    },
    {
      "cell_type": "code",
      "metadata": {
        "colab": {
          "base_uri": "https://localhost:8080/",
          "height": 235
        },
        "id": "9UHW6jQh31KE",
        "outputId": "d0b17a6a-1598-4a40-a21e-d4ea5737cc54"
      },
      "source": [
        "# Let's put the date into the index for plotting the time series\n",
        "df2b = df2.set_index(\"date\")\n",
        "df2b.head()"
      ],
      "execution_count": 121,
      "outputs": [
        {
          "output_type": "execute_result",
          "data": {
            "text/html": [
              "<div>\n",
              "<style scoped>\n",
              "    .dataframe tbody tr th:only-of-type {\n",
              "        vertical-align: middle;\n",
              "    }\n",
              "\n",
              "    .dataframe tbody tr th {\n",
              "        vertical-align: top;\n",
              "    }\n",
              "\n",
              "    .dataframe thead th {\n",
              "        text-align: right;\n",
              "    }\n",
              "</style>\n",
              "<table border=\"1\" class=\"dataframe\">\n",
              "  <thead>\n",
              "    <tr style=\"text-align: right;\">\n",
              "      <th></th>\n",
              "      <th>country</th>\n",
              "      <th>id</th>\n",
              "      <th>monetary</th>\n",
              "      <th>units</th>\n",
              "    </tr>\n",
              "    <tr>\n",
              "      <th>date</th>\n",
              "      <th></th>\n",
              "      <th></th>\n",
              "      <th></th>\n",
              "      <th></th>\n",
              "    </tr>\n",
              "  </thead>\n",
              "  <tbody>\n",
              "    <tr>\n",
              "      <th>2019-01-21</th>\n",
              "      <td>KR</td>\n",
              "      <td>702234</td>\n",
              "      <td>808.08</td>\n",
              "      <td>1</td>\n",
              "    </tr>\n",
              "    <tr>\n",
              "      <th>2019-02-11</th>\n",
              "      <td>KR</td>\n",
              "      <td>702234</td>\n",
              "      <td>1606.80</td>\n",
              "      <td>2</td>\n",
              "    </tr>\n",
              "    <tr>\n",
              "      <th>2019-02-25</th>\n",
              "      <td>KR</td>\n",
              "      <td>3618438</td>\n",
              "      <td>803.40</td>\n",
              "      <td>1</td>\n",
              "    </tr>\n",
              "    <tr>\n",
              "      <th>2019-03-04</th>\n",
              "      <td>KR</td>\n",
              "      <td>3618438</td>\n",
              "      <td>803.40</td>\n",
              "      <td>1</td>\n",
              "    </tr>\n",
              "    <tr>\n",
              "      <th>2019-03-04</th>\n",
              "      <td>KR</td>\n",
              "      <td>3618438</td>\n",
              "      <td>803.40</td>\n",
              "      <td>1</td>\n",
              "    </tr>\n",
              "  </tbody>\n",
              "</table>\n",
              "</div>"
            ],
            "text/plain": [
              "           country       id  monetary  units\n",
              "date                                        \n",
              "2019-01-21      KR   702234    808.08      1\n",
              "2019-02-11      KR   702234   1606.80      2\n",
              "2019-02-25      KR  3618438    803.40      1\n",
              "2019-03-04      KR  3618438    803.40      1\n",
              "2019-03-04      KR  3618438    803.40      1"
            ]
          },
          "metadata": {
            "tags": []
          },
          "execution_count": 121
        }
      ]
    },
    {
      "cell_type": "code",
      "metadata": {
        "colab": {
          "base_uri": "https://localhost:8080/",
          "height": 283
        },
        "id": "1z7xzmT78Mxh",
        "outputId": "84dfa5ff-19ff-4a50-e85f-db7eac55ef40"
      },
      "source": [
        "df2b['units'].plot();"
      ],
      "execution_count": 122,
      "outputs": [
        {
          "output_type": "display_data",
          "data": {
            "image/png": "[encoded data removed]",
            "text/plain": [
              "<Figure size 1800x360 with 1 Axes>"
            ]
          },
          "metadata": {
            "tags": []
          }
        }
      ]
    },
    {
      "cell_type": "code",
      "metadata": {
        "colab": {
          "base_uri": "https://localhost:8080/",
          "height": 297
        },
        "id": "giXyE1Vc8Mps",
        "outputId": "32be125a-d68d-4aa4-b0b8-fb77f353d4d3"
      },
      "source": [
        "df2b['monetary'].plot();"
      ],
      "execution_count": 123,
      "outputs": [
        {
          "output_type": "display_data",
          "data": {
            "image/png": "[encoded data removed]",
            "text/plain": [
              "<Figure size 1800x360 with 1 Axes>"
            ]
          },
          "metadata": {
            "tags": []
          }
        }
      ]
    },
    {
      "cell_type": "code",
      "metadata": {
        "id": "3tOL1QQc8MjN"
      },
      "source": [
        "# For greater visibility we convert the dates to monthly periods\n",
        "\n",
        "df2c = df2b.to_period(\"M\")"
      ],
      "execution_count": 124,
      "outputs": []
    },
    {
      "cell_type": "code",
      "metadata": {
        "colab": {
          "base_uri": "https://localhost:8080/",
          "height": 235
        },
        "id": "0iusXD4l89aJ",
        "outputId": "ae588622-9296-4474-d2bc-edb21f000f5d"
      },
      "source": [
        "df2c.head()"
      ],
      "execution_count": 125,
      "outputs": [
        {
          "output_type": "execute_result",
          "data": {
            "text/html": [
              "<div>\n",
              "<style scoped>\n",
              "    .dataframe tbody tr th:only-of-type {\n",
              "        vertical-align: middle;\n",
              "    }\n",
              "\n",
              "    .dataframe tbody tr th {\n",
              "        vertical-align: top;\n",
              "    }\n",
              "\n",
              "    .dataframe thead th {\n",
              "        text-align: right;\n",
              "    }\n",
              "</style>\n",
              "<table border=\"1\" class=\"dataframe\">\n",
              "  <thead>\n",
              "    <tr style=\"text-align: right;\">\n",
              "      <th></th>\n",
              "      <th>country</th>\n",
              "      <th>id</th>\n",
              "      <th>monetary</th>\n",
              "      <th>units</th>\n",
              "    </tr>\n",
              "    <tr>\n",
              "      <th>date</th>\n",
              "      <th></th>\n",
              "      <th></th>\n",
              "      <th></th>\n",
              "      <th></th>\n",
              "    </tr>\n",
              "  </thead>\n",
              "  <tbody>\n",
              "    <tr>\n",
              "      <th>2019-01</th>\n",
              "      <td>KR</td>\n",
              "      <td>702234</td>\n",
              "      <td>808.08</td>\n",
              "      <td>1</td>\n",
              "    </tr>\n",
              "    <tr>\n",
              "      <th>2019-02</th>\n",
              "      <td>KR</td>\n",
              "      <td>702234</td>\n",
              "      <td>1606.80</td>\n",
              "      <td>2</td>\n",
              "    </tr>\n",
              "    <tr>\n",
              "      <th>2019-02</th>\n",
              "      <td>KR</td>\n",
              "      <td>3618438</td>\n",
              "      <td>803.40</td>\n",
              "      <td>1</td>\n",
              "    </tr>\n",
              "    <tr>\n",
              "      <th>2019-03</th>\n",
              "      <td>KR</td>\n",
              "      <td>3618438</td>\n",
              "      <td>803.40</td>\n",
              "      <td>1</td>\n",
              "    </tr>\n",
              "    <tr>\n",
              "      <th>2019-03</th>\n",
              "      <td>KR</td>\n",
              "      <td>3618438</td>\n",
              "      <td>803.40</td>\n",
              "      <td>1</td>\n",
              "    </tr>\n",
              "  </tbody>\n",
              "</table>\n",
              "</div>"
            ],
            "text/plain": [
              "        country       id  monetary  units\n",
              "date                                     \n",
              "2019-01      KR   702234    808.08      1\n",
              "2019-02      KR   702234   1606.80      2\n",
              "2019-02      KR  3618438    803.40      1\n",
              "2019-03      KR  3618438    803.40      1\n",
              "2019-03      KR  3618438    803.40      1"
            ]
          },
          "metadata": {
            "tags": []
          },
          "execution_count": 125
        }
      ]
    },
    {
      "cell_type": "code",
      "metadata": {
        "colab": {
          "base_uri": "https://localhost:8080/",
          "height": 302
        },
        "id": "dF4zRcSqBLYR",
        "outputId": "4599a799-123a-4a94-a325-3be7f7e7ac13"
      },
      "source": [
        "df2c['units'].groupby('date').agg(sum).plot();"
      ],
      "execution_count": 126,
      "outputs": [
        {
          "output_type": "display_data",
          "data": {
            "image/png": "[encoded data removed]",
            "text/plain": [
              "<Figure size 1800x360 with 1 Axes>"
            ]
          },
          "metadata": {
            "tags": []
          }
        }
      ]
    },
    {
      "cell_type": "code",
      "metadata": {
        "colab": {
          "base_uri": "https://localhost:8080/",
          "height": 316
        },
        "id": "VkIOHaECB4pE",
        "outputId": "1b22a2f3-f1b8-441b-fdbd-d2e7146367d0"
      },
      "source": [
        "df2c['monetary'].groupby('date').agg(sum).plot();"
      ],
      "execution_count": 127,
      "outputs": [
        {
          "output_type": "display_data",
          "data": {
            "image/png": "[encoded data removed]",
            "text/plain": [
              "<Figure size 1800x360 with 1 Axes>"
            ]
          },
          "metadata": {
            "tags": []
          }
        }
      ]
    },
    {
      "cell_type": "markdown",
      "metadata": {
        "id": "eXjAtAMhdxLy"
      },
      "source": [
        "### Transform data to obtain RFM"
      ]
    },
    {
      "cell_type": "code",
      "metadata": {
        "colab": {
          "base_uri": "https://localhost:8080/"
        },
        "id": "hrcHkkTSdxLy",
        "outputId": "3a0c90d8-912b-44f0-b847-4798d8765dbf"
      },
      "source": [
        "print('Sales from {} to {}'.format(df2['date'].min(),\n",
        "                                    df2['date'].max()))"
      ],
      "execution_count": null,
      "outputs": [
        {
          "output_type": "stream",
          "text": [
            "Sales from 2019-01-07 00:00:00 to 2020-11-30 00:00:00\n"
          ],
          "name": "stdout"
        }
      ]
    },
    {
      "cell_type": "code",
      "metadata": {
        "colab": {
          "base_uri": "https://localhost:8080/",
          "height": 419
        },
        "id": "HqiYHbSWdxLy",
        "outputId": "8e97199a-393a-4902-c5ff-2408c827bb1e"
      },
      "source": [
        "#Let's focus on sales from last 365 days since most recent date\n",
        "period = 365\n",
        "#date_N_days_ago = datetime.now() - timedelta(days=period)\n",
        "date_N_days_ago = df2['date'].max() - timedelta(days=period)\n",
        "\n",
        "df2[df2['date'] > date_N_days_ago]"
      ],
      "execution_count": null,
      "outputs": [
        {
          "output_type": "execute_result",
          "data": {
            "text/html": [
              "<div>\n",
              "<style scoped>\n",
              "    .dataframe tbody tr th:only-of-type {\n",
              "        vertical-align: middle;\n",
              "    }\n",
              "\n",
              "    .dataframe tbody tr th {\n",
              "        vertical-align: top;\n",
              "    }\n",
              "\n",
              "    .dataframe thead th {\n",
              "        text-align: right;\n",
              "    }\n",
              "</style>\n",
              "<table border=\"1\" class=\"dataframe\">\n",
              "  <thead>\n",
              "    <tr style=\"text-align: right;\">\n",
              "      <th></th>\n",
              "      <th>country</th>\n",
              "      <th>id</th>\n",
              "      <th>monetary</th>\n",
              "      <th>units</th>\n",
              "      <th>date</th>\n",
              "    </tr>\n",
              "  </thead>\n",
              "  <tbody>\n",
              "    <tr>\n",
              "      <th>38</th>\n",
              "      <td>KR</td>\n",
              "      <td>4375152</td>\n",
              "      <td>773.58</td>\n",
              "      <td>1</td>\n",
              "      <td>2019-12-16</td>\n",
              "    </tr>\n",
              "    <tr>\n",
              "      <th>75</th>\n",
              "      <td>KR</td>\n",
              "      <td>705462</td>\n",
              "      <td>337.26</td>\n",
              "      <td>1</td>\n",
              "      <td>2019-12-09</td>\n",
              "    </tr>\n",
              "    <tr>\n",
              "      <th>76</th>\n",
              "      <td>KR</td>\n",
              "      <td>705462</td>\n",
              "      <td>337.26</td>\n",
              "      <td>1</td>\n",
              "      <td>2019-12-23</td>\n",
              "    </tr>\n",
              "    <tr>\n",
              "      <th>77</th>\n",
              "      <td>KR</td>\n",
              "      <td>705462</td>\n",
              "      <td>421.56</td>\n",
              "      <td>2</td>\n",
              "      <td>2019-12-16</td>\n",
              "    </tr>\n",
              "    <tr>\n",
              "      <th>78</th>\n",
              "      <td>KR</td>\n",
              "      <td>706854</td>\n",
              "      <td>391.50</td>\n",
              "      <td>1</td>\n",
              "      <td>2019-12-09</td>\n",
              "    </tr>\n",
              "    <tr>\n",
              "      <th>...</th>\n",
              "      <td>...</td>\n",
              "      <td>...</td>\n",
              "      <td>...</td>\n",
              "      <td>...</td>\n",
              "      <td>...</td>\n",
              "    </tr>\n",
              "    <tr>\n",
              "      <th>235569</th>\n",
              "      <td>CN</td>\n",
              "      <td>2452476</td>\n",
              "      <td>41160.00</td>\n",
              "      <td>200</td>\n",
              "      <td>2020-07-06</td>\n",
              "    </tr>\n",
              "    <tr>\n",
              "      <th>235570</th>\n",
              "      <td>CN</td>\n",
              "      <td>2452476</td>\n",
              "      <td>50856.00</td>\n",
              "      <td>400</td>\n",
              "      <td>2020-07-06</td>\n",
              "    </tr>\n",
              "    <tr>\n",
              "      <th>235571</th>\n",
              "      <td>CN</td>\n",
              "      <td>2452476</td>\n",
              "      <td>79920.00</td>\n",
              "      <td>1200</td>\n",
              "      <td>2020-07-06</td>\n",
              "    </tr>\n",
              "    <tr>\n",
              "      <th>235572</th>\n",
              "      <td>CN</td>\n",
              "      <td>4553904</td>\n",
              "      <td>4788.00</td>\n",
              "      <td>100</td>\n",
              "      <td>2020-07-06</td>\n",
              "    </tr>\n",
              "    <tr>\n",
              "      <th>235573</th>\n",
              "      <td>CN</td>\n",
              "      <td>4553904</td>\n",
              "      <td>4188.00</td>\n",
              "      <td>100</td>\n",
              "      <td>2020-07-06</td>\n",
              "    </tr>\n",
              "  </tbody>\n",
              "</table>\n",
              "<p>124640 rows × 5 columns</p>\n",
              "</div>"
            ],
            "text/plain": [
              "       country       id  monetary  units       date\n",
              "38          KR  4375152    773.58      1 2019-12-16\n",
              "75          KR   705462    337.26      1 2019-12-09\n",
              "76          KR   705462    337.26      1 2019-12-23\n",
              "77          KR   705462    421.56      2 2019-12-16\n",
              "78          KR   706854    391.50      1 2019-12-09\n",
              "...        ...      ...       ...    ...        ...\n",
              "235569      CN  2452476  41160.00    200 2020-07-06\n",
              "235570      CN  2452476  50856.00    400 2020-07-06\n",
              "235571      CN  2452476  79920.00   1200 2020-07-06\n",
              "235572      CN  4553904   4788.00    100 2020-07-06\n",
              "235573      CN  4553904   4188.00    100 2020-07-06\n",
              "\n",
              "[124640 rows x 5 columns]"
            ]
          },
          "metadata": {
            "tags": []
          },
          "execution_count": 21
        }
      ]
    },
    {
      "cell_type": "code",
      "metadata": {
        "id": "nx4-70VqdxLy"
      },
      "source": [
        "# We remove the rows with dates older than 365 days ago\n",
        "\n",
        "df2 = df2[df2['date']> date_N_days_ago]"
      ],
      "execution_count": null,
      "outputs": []
    },
    {
      "cell_type": "code",
      "metadata": {
        "id": "yIL6lZpedxLy"
      },
      "source": [
        "df2.reset_index(drop=True, inplace=True)"
      ],
      "execution_count": null,
      "outputs": []
    },
    {
      "cell_type": "code",
      "metadata": {
        "colab": {
          "base_uri": "https://localhost:8080/",
          "height": 204
        },
        "id": "zG7NiSRrdxLy",
        "outputId": "8c22c6bc-2085-4343-e3ee-85cf19e8019f"
      },
      "source": [
        "df2.head()"
      ],
      "execution_count": null,
      "outputs": [
        {
          "output_type": "execute_result",
          "data": {
            "text/html": [
              "<div>\n",
              "<style scoped>\n",
              "    .dataframe tbody tr th:only-of-type {\n",
              "        vertical-align: middle;\n",
              "    }\n",
              "\n",
              "    .dataframe tbody tr th {\n",
              "        vertical-align: top;\n",
              "    }\n",
              "\n",
              "    .dataframe thead th {\n",
              "        text-align: right;\n",
              "    }\n",
              "</style>\n",
              "<table border=\"1\" class=\"dataframe\">\n",
              "  <thead>\n",
              "    <tr style=\"text-align: right;\">\n",
              "      <th></th>\n",
              "      <th>country</th>\n",
              "      <th>id</th>\n",
              "      <th>monetary</th>\n",
              "      <th>units</th>\n",
              "      <th>date</th>\n",
              "    </tr>\n",
              "  </thead>\n",
              "  <tbody>\n",
              "    <tr>\n",
              "      <th>0</th>\n",
              "      <td>KR</td>\n",
              "      <td>4375152</td>\n",
              "      <td>773.58</td>\n",
              "      <td>1</td>\n",
              "      <td>2019-12-16</td>\n",
              "    </tr>\n",
              "    <tr>\n",
              "      <th>1</th>\n",
              "      <td>KR</td>\n",
              "      <td>705462</td>\n",
              "      <td>337.26</td>\n",
              "      <td>1</td>\n",
              "      <td>2019-12-09</td>\n",
              "    </tr>\n",
              "    <tr>\n",
              "      <th>2</th>\n",
              "      <td>KR</td>\n",
              "      <td>705462</td>\n",
              "      <td>337.26</td>\n",
              "      <td>1</td>\n",
              "      <td>2019-12-23</td>\n",
              "    </tr>\n",
              "    <tr>\n",
              "      <th>3</th>\n",
              "      <td>KR</td>\n",
              "      <td>705462</td>\n",
              "      <td>421.56</td>\n",
              "      <td>2</td>\n",
              "      <td>2019-12-16</td>\n",
              "    </tr>\n",
              "    <tr>\n",
              "      <th>4</th>\n",
              "      <td>KR</td>\n",
              "      <td>706854</td>\n",
              "      <td>391.50</td>\n",
              "      <td>1</td>\n",
              "      <td>2019-12-09</td>\n",
              "    </tr>\n",
              "  </tbody>\n",
              "</table>\n",
              "</div>"
            ],
            "text/plain": [
              "  country       id  monetary  units       date\n",
              "0      KR  4375152    773.58      1 2019-12-16\n",
              "1      KR   705462    337.26      1 2019-12-09\n",
              "2      KR   705462    337.26      1 2019-12-23\n",
              "3      KR   705462    421.56      2 2019-12-16\n",
              "4      KR   706854    391.50      1 2019-12-09"
            ]
          },
          "metadata": {
            "tags": []
          },
          "execution_count": 24
        }
      ]
    },
    {
      "cell_type": "code",
      "metadata": {
        "colab": {
          "base_uri": "https://localhost:8080/"
        },
        "id": "DoBmQt_WdxLy",
        "outputId": "c82f3611-b28a-4521-cf5f-ddd06ead6f9b"
      },
      "source": [
        "df2.info()"
      ],
      "execution_count": null,
      "outputs": [
        {
          "output_type": "stream",
          "text": [
            "<class 'pandas.core.frame.DataFrame'>\n",
            "RangeIndex: 124640 entries, 0 to 124639\n",
            "Data columns (total 5 columns):\n",
            " #   Column    Non-Null Count   Dtype         \n",
            "---  ------    --------------   -----         \n",
            " 0   country   124640 non-null  object        \n",
            " 1   id        124640 non-null  int64         \n",
            " 2   monetary  124640 non-null  float64       \n",
            " 3   units     124640 non-null  int64         \n",
            " 4   date      124640 non-null  datetime64[ns]\n",
            "dtypes: datetime64[ns](1), float64(1), int64(2), object(1)\n",
            "memory usage: 4.8+ MB\n"
          ],
          "name": "stdout"
        }
      ]
    },
    {
      "cell_type": "code",
      "metadata": {
        "id": "oVPHV_IzdxLy"
      },
      "source": [
        "# There are customers with the same 'id' in several countries. This causes errors in the monetary values\n",
        "# Let's create a unique 'id+' identifier\n",
        "\n",
        "df3 = df2.copy()\n",
        "\n",
        "df3['id+'] = df3['country'].map(str) + df3['id'].map(str)"
      ],
      "execution_count": null,
      "outputs": []
    },
    {
      "cell_type": "code",
      "metadata": {
        "colab": {
          "base_uri": "https://localhost:8080/",
          "height": 204
        },
        "id": "R-LIIoIhdxLy",
        "outputId": "62ba57c2-9d54-4a0c-8b4f-da271dab24ab"
      },
      "source": [
        "df3.head()"
      ],
      "execution_count": null,
      "outputs": [
        {
          "output_type": "execute_result",
          "data": {
            "text/html": [
              "<div>\n",
              "<style scoped>\n",
              "    .dataframe tbody tr th:only-of-type {\n",
              "        vertical-align: middle;\n",
              "    }\n",
              "\n",
              "    .dataframe tbody tr th {\n",
              "        vertical-align: top;\n",
              "    }\n",
              "\n",
              "    .dataframe thead th {\n",
              "        text-align: right;\n",
              "    }\n",
              "</style>\n",
              "<table border=\"1\" class=\"dataframe\">\n",
              "  <thead>\n",
              "    <tr style=\"text-align: right;\">\n",
              "      <th></th>\n",
              "      <th>country</th>\n",
              "      <th>id</th>\n",
              "      <th>monetary</th>\n",
              "      <th>units</th>\n",
              "      <th>date</th>\n",
              "      <th>id+</th>\n",
              "    </tr>\n",
              "  </thead>\n",
              "  <tbody>\n",
              "    <tr>\n",
              "      <th>0</th>\n",
              "      <td>KR</td>\n",
              "      <td>4375152</td>\n",
              "      <td>773.58</td>\n",
              "      <td>1</td>\n",
              "      <td>2019-12-16</td>\n",
              "      <td>KR4375152</td>\n",
              "    </tr>\n",
              "    <tr>\n",
              "      <th>1</th>\n",
              "      <td>KR</td>\n",
              "      <td>705462</td>\n",
              "      <td>337.26</td>\n",
              "      <td>1</td>\n",
              "      <td>2019-12-09</td>\n",
              "      <td>KR705462</td>\n",
              "    </tr>\n",
              "    <tr>\n",
              "      <th>2</th>\n",
              "      <td>KR</td>\n",
              "      <td>705462</td>\n",
              "      <td>337.26</td>\n",
              "      <td>1</td>\n",
              "      <td>2019-12-23</td>\n",
              "      <td>KR705462</td>\n",
              "    </tr>\n",
              "    <tr>\n",
              "      <th>3</th>\n",
              "      <td>KR</td>\n",
              "      <td>705462</td>\n",
              "      <td>421.56</td>\n",
              "      <td>2</td>\n",
              "      <td>2019-12-16</td>\n",
              "      <td>KR705462</td>\n",
              "    </tr>\n",
              "    <tr>\n",
              "      <th>4</th>\n",
              "      <td>KR</td>\n",
              "      <td>706854</td>\n",
              "      <td>391.50</td>\n",
              "      <td>1</td>\n",
              "      <td>2019-12-09</td>\n",
              "      <td>KR706854</td>\n",
              "    </tr>\n",
              "  </tbody>\n",
              "</table>\n",
              "</div>"
            ],
            "text/plain": [
              "  country       id  monetary  units       date        id+\n",
              "0      KR  4375152    773.58      1 2019-12-16  KR4375152\n",
              "1      KR   705462    337.26      1 2019-12-09   KR705462\n",
              "2      KR   705462    337.26      1 2019-12-23   KR705462\n",
              "3      KR   705462    421.56      2 2019-12-16   KR705462\n",
              "4      KR   706854    391.50      1 2019-12-09   KR706854"
            ]
          },
          "metadata": {
            "tags": []
          },
          "execution_count": 27
        }
      ]
    },
    {
      "cell_type": "code",
      "metadata": {
        "colab": {
          "base_uri": "https://localhost:8080/"
        },
        "id": "62vRI_-WdxLy",
        "outputId": "59ecea9e-e5ba-41f9-e64f-032ff681bbe4"
      },
      "source": [
        "# We set the NOW date one day after the last sale\n",
        "\n",
        "NOW = df3['date'].max() + timedelta(days=1)\n",
        "NOW"
      ],
      "execution_count": null,
      "outputs": [
        {
          "output_type": "execute_result",
          "data": {
            "text/plain": [
              "Timestamp('2020-12-01 00:00:00')"
            ]
          },
          "metadata": {
            "tags": []
          },
          "execution_count": 28
        }
      ]
    },
    {
      "cell_type": "code",
      "metadata": {
        "id": "uCQP5CrNdxLy"
      },
      "source": [
        "# We add a column with the days between purchase date and the latest date\n",
        "# Recency will be the minimum of that value for each customer\n",
        "\n",
        "df3['days_since_purchase'] = df3['date'].apply(lambda x:(NOW - x).days)"
      ],
      "execution_count": null,
      "outputs": []
    },
    {
      "cell_type": "code",
      "metadata": {
        "colab": {
          "base_uri": "https://localhost:8080/",
          "height": 204
        },
        "id": "f38RHlx0dxLy",
        "outputId": "bac65492-2476-4777-859b-77ce813103e7"
      },
      "source": [
        "df3.head()"
      ],
      "execution_count": null,
      "outputs": [
        {
          "output_type": "execute_result",
          "data": {
            "text/html": [
              "<div>\n",
              "<style scoped>\n",
              "    .dataframe tbody tr th:only-of-type {\n",
              "        vertical-align: middle;\n",
              "    }\n",
              "\n",
              "    .dataframe tbody tr th {\n",
              "        vertical-align: top;\n",
              "    }\n",
              "\n",
              "    .dataframe thead th {\n",
              "        text-align: right;\n",
              "    }\n",
              "</style>\n",
              "<table border=\"1\" class=\"dataframe\">\n",
              "  <thead>\n",
              "    <tr style=\"text-align: right;\">\n",
              "      <th></th>\n",
              "      <th>country</th>\n",
              "      <th>id</th>\n",
              "      <th>monetary</th>\n",
              "      <th>units</th>\n",
              "      <th>date</th>\n",
              "      <th>id+</th>\n",
              "      <th>days_since_purchase</th>\n",
              "    </tr>\n",
              "  </thead>\n",
              "  <tbody>\n",
              "    <tr>\n",
              "      <th>0</th>\n",
              "      <td>KR</td>\n",
              "      <td>4375152</td>\n",
              "      <td>773.58</td>\n",
              "      <td>1</td>\n",
              "      <td>2019-12-16</td>\n",
              "      <td>KR4375152</td>\n",
              "      <td>351</td>\n",
              "    </tr>\n",
              "    <tr>\n",
              "      <th>1</th>\n",
              "      <td>KR</td>\n",
              "      <td>705462</td>\n",
              "      <td>337.26</td>\n",
              "      <td>1</td>\n",
              "      <td>2019-12-09</td>\n",
              "      <td>KR705462</td>\n",
              "      <td>358</td>\n",
              "    </tr>\n",
              "    <tr>\n",
              "      <th>2</th>\n",
              "      <td>KR</td>\n",
              "      <td>705462</td>\n",
              "      <td>337.26</td>\n",
              "      <td>1</td>\n",
              "      <td>2019-12-23</td>\n",
              "      <td>KR705462</td>\n",
              "      <td>344</td>\n",
              "    </tr>\n",
              "    <tr>\n",
              "      <th>3</th>\n",
              "      <td>KR</td>\n",
              "      <td>705462</td>\n",
              "      <td>421.56</td>\n",
              "      <td>2</td>\n",
              "      <td>2019-12-16</td>\n",
              "      <td>KR705462</td>\n",
              "      <td>351</td>\n",
              "    </tr>\n",
              "    <tr>\n",
              "      <th>4</th>\n",
              "      <td>KR</td>\n",
              "      <td>706854</td>\n",
              "      <td>391.50</td>\n",
              "      <td>1</td>\n",
              "      <td>2019-12-09</td>\n",
              "      <td>KR706854</td>\n",
              "      <td>358</td>\n",
              "    </tr>\n",
              "  </tbody>\n",
              "</table>\n",
              "</div>"
            ],
            "text/plain": [
              "  country       id  monetary  units       date        id+  days_since_purchase\n",
              "0      KR  4375152    773.58      1 2019-12-16  KR4375152                  351\n",
              "1      KR   705462    337.26      1 2019-12-09   KR705462                  358\n",
              "2      KR   705462    337.26      1 2019-12-23   KR705462                  344\n",
              "3      KR   705462    421.56      2 2019-12-16   KR705462                  351\n",
              "4      KR   706854    391.50      1 2019-12-09   KR706854                  358"
            ]
          },
          "metadata": {
            "tags": []
          },
          "execution_count": 30
        }
      ]
    },
    {
      "cell_type": "code",
      "metadata": {
        "id": "TZR5VWPwdxLy"
      },
      "source": [
        "aggr = {\n",
        "    'days_since_purchase': lambda x:x.min(),\n",
        "    'date': lambda x: len([d for d in x if d >= NOW - timedelta(days=period)])\n",
        "}"
      ],
      "execution_count": null,
      "outputs": []
    },
    {
      "cell_type": "code",
      "metadata": {
        "colab": {
          "base_uri": "https://localhost:8080/"
        },
        "id": "grvBY7j2dxLy",
        "outputId": "1a03f228-afc2-4adf-e35c-614147e57964"
      },
      "source": [
        "aggr"
      ],
      "execution_count": null,
      "outputs": [
        {
          "output_type": "execute_result",
          "data": {
            "text/plain": [
              "{'date': <function __main__.<lambda>>,\n",
              " 'days_since_purchase': <function __main__.<lambda>>}"
            ]
          },
          "metadata": {
            "tags": []
          },
          "execution_count": 32
        }
      ]
    },
    {
      "cell_type": "code",
      "metadata": {
        "id": "xVi9-quwdxLy"
      },
      "source": [
        "rfm = df3.groupby(['id', 'id+', 'country']).agg(aggr).reset_index()\n",
        "rfm.rename(columns={'days_since_purchase': 'recency',\n",
        "                   'date': 'frequency'},\n",
        "          inplace=True)"
      ],
      "execution_count": null,
      "outputs": []
    },
    {
      "cell_type": "code",
      "metadata": {
        "colab": {
          "base_uri": "https://localhost:8080/",
          "height": 419
        },
        "id": "MyCgNUF0dxLy",
        "outputId": "1fc3710c-1d6f-45d5-a661-91db83477132"
      },
      "source": [
        "rfm"
      ],
      "execution_count": null,
      "outputs": [
        {
          "output_type": "execute_result",
          "data": {
            "text/html": [
              "<div>\n",
              "<style scoped>\n",
              "    .dataframe tbody tr th:only-of-type {\n",
              "        vertical-align: middle;\n",
              "    }\n",
              "\n",
              "    .dataframe tbody tr th {\n",
              "        vertical-align: top;\n",
              "    }\n",
              "\n",
              "    .dataframe thead th {\n",
              "        text-align: right;\n",
              "    }\n",
              "</style>\n",
              "<table border=\"1\" class=\"dataframe\">\n",
              "  <thead>\n",
              "    <tr style=\"text-align: right;\">\n",
              "      <th></th>\n",
              "      <th>id</th>\n",
              "      <th>id+</th>\n",
              "      <th>country</th>\n",
              "      <th>recency</th>\n",
              "      <th>frequency</th>\n",
              "    </tr>\n",
              "  </thead>\n",
              "  <tbody>\n",
              "    <tr>\n",
              "      <th>0</th>\n",
              "      <td>600018</td>\n",
              "      <td>CN600018</td>\n",
              "      <td>CN</td>\n",
              "      <td>29</td>\n",
              "      <td>7</td>\n",
              "    </tr>\n",
              "    <tr>\n",
              "      <th>1</th>\n",
              "      <td>600060</td>\n",
              "      <td>CN600060</td>\n",
              "      <td>CN</td>\n",
              "      <td>155</td>\n",
              "      <td>1</td>\n",
              "    </tr>\n",
              "    <tr>\n",
              "      <th>2</th>\n",
              "      <td>600462</td>\n",
              "      <td>CN600462</td>\n",
              "      <td>CN</td>\n",
              "      <td>211</td>\n",
              "      <td>2</td>\n",
              "    </tr>\n",
              "    <tr>\n",
              "      <th>3</th>\n",
              "      <td>600888</td>\n",
              "      <td>CN600888</td>\n",
              "      <td>CN</td>\n",
              "      <td>8</td>\n",
              "      <td>3</td>\n",
              "    </tr>\n",
              "    <tr>\n",
              "      <th>4</th>\n",
              "      <td>601014</td>\n",
              "      <td>CN601014</td>\n",
              "      <td>CN</td>\n",
              "      <td>225</td>\n",
              "      <td>1</td>\n",
              "    </tr>\n",
              "    <tr>\n",
              "      <th>...</th>\n",
              "      <td>...</td>\n",
              "      <td>...</td>\n",
              "      <td>...</td>\n",
              "      <td>...</td>\n",
              "      <td>...</td>\n",
              "    </tr>\n",
              "    <tr>\n",
              "      <th>16564</th>\n",
              "      <td>241575552</td>\n",
              "      <td>IQ241575552</td>\n",
              "      <td>IQ</td>\n",
              "      <td>15</td>\n",
              "      <td>1</td>\n",
              "    </tr>\n",
              "    <tr>\n",
              "      <th>16565</th>\n",
              "      <td>241794972</td>\n",
              "      <td>IQ241794972</td>\n",
              "      <td>IQ</td>\n",
              "      <td>351</td>\n",
              "      <td>1</td>\n",
              "    </tr>\n",
              "    <tr>\n",
              "      <th>16566</th>\n",
              "      <td>241888554</td>\n",
              "      <td>IQ241888554</td>\n",
              "      <td>IQ</td>\n",
              "      <td>43</td>\n",
              "      <td>1</td>\n",
              "    </tr>\n",
              "    <tr>\n",
              "      <th>16567</th>\n",
              "      <td>241900254</td>\n",
              "      <td>IQ241900254</td>\n",
              "      <td>IQ</td>\n",
              "      <td>8</td>\n",
              "      <td>62</td>\n",
              "    </tr>\n",
              "    <tr>\n",
              "      <th>16568</th>\n",
              "      <td>241930824</td>\n",
              "      <td>IQ241930824</td>\n",
              "      <td>IQ</td>\n",
              "      <td>36</td>\n",
              "      <td>2</td>\n",
              "    </tr>\n",
              "  </tbody>\n",
              "</table>\n",
              "<p>16569 rows × 5 columns</p>\n",
              "</div>"
            ],
            "text/plain": [
              "              id          id+ country  recency  frequency\n",
              "0         600018     CN600018      CN       29          7\n",
              "1         600060     CN600060      CN      155          1\n",
              "2         600462     CN600462      CN      211          2\n",
              "3         600888     CN600888      CN        8          3\n",
              "4         601014     CN601014      CN      225          1\n",
              "...          ...          ...     ...      ...        ...\n",
              "16564  241575552  IQ241575552      IQ       15          1\n",
              "16565  241794972  IQ241794972      IQ      351          1\n",
              "16566  241888554  IQ241888554      IQ       43          1\n",
              "16567  241900254  IQ241900254      IQ        8         62\n",
              "16568  241930824  IQ241930824      IQ       36          2\n",
              "\n",
              "[16569 rows x 5 columns]"
            ]
          },
          "metadata": {
            "tags": []
          },
          "execution_count": 34
        }
      ]
    },
    {
      "cell_type": "code",
      "metadata": {
        "colab": {
          "base_uri": "https://localhost:8080/",
          "height": 390
        },
        "id": "GHS2-oxAdxLz",
        "outputId": "2ab799d7-68c5-46bc-f1af-aef79b479fec"
      },
      "source": [
        "# Example customer with id==3790218 that exists in several countries\n",
        "\n",
        "rfm[rfm['id']==3790218]"
      ],
      "execution_count": null,
      "outputs": [
        {
          "output_type": "execute_result",
          "data": {
            "text/html": [
              "<div>\n",
              "<style scoped>\n",
              "    .dataframe tbody tr th:only-of-type {\n",
              "        vertical-align: middle;\n",
              "    }\n",
              "\n",
              "    .dataframe tbody tr th {\n",
              "        vertical-align: top;\n",
              "    }\n",
              "\n",
              "    .dataframe thead th {\n",
              "        text-align: right;\n",
              "    }\n",
              "</style>\n",
              "<table border=\"1\" class=\"dataframe\">\n",
              "  <thead>\n",
              "    <tr style=\"text-align: right;\">\n",
              "      <th></th>\n",
              "      <th>id</th>\n",
              "      <th>id+</th>\n",
              "      <th>country</th>\n",
              "      <th>recency</th>\n",
              "      <th>frequency</th>\n",
              "    </tr>\n",
              "  </thead>\n",
              "  <tbody>\n",
              "    <tr>\n",
              "      <th>11057</th>\n",
              "      <td>3790218</td>\n",
              "      <td>AF3790218</td>\n",
              "      <td>AF</td>\n",
              "      <td>309</td>\n",
              "      <td>1</td>\n",
              "    </tr>\n",
              "    <tr>\n",
              "      <th>11058</th>\n",
              "      <td>3790218</td>\n",
              "      <td>BD3790218</td>\n",
              "      <td>BD</td>\n",
              "      <td>176</td>\n",
              "      <td>4</td>\n",
              "    </tr>\n",
              "    <tr>\n",
              "      <th>11059</th>\n",
              "      <td>3790218</td>\n",
              "      <td>CN3790218</td>\n",
              "      <td>CN</td>\n",
              "      <td>1</td>\n",
              "      <td>60</td>\n",
              "    </tr>\n",
              "    <tr>\n",
              "      <th>11060</th>\n",
              "      <td>3790218</td>\n",
              "      <td>ID3790218</td>\n",
              "      <td>ID</td>\n",
              "      <td>260</td>\n",
              "      <td>9</td>\n",
              "    </tr>\n",
              "    <tr>\n",
              "      <th>11061</th>\n",
              "      <td>3790218</td>\n",
              "      <td>IQ3790218</td>\n",
              "      <td>IQ</td>\n",
              "      <td>176</td>\n",
              "      <td>1</td>\n",
              "    </tr>\n",
              "    <tr>\n",
              "      <th>11062</th>\n",
              "      <td>3790218</td>\n",
              "      <td>MM3790218</td>\n",
              "      <td>MM</td>\n",
              "      <td>183</td>\n",
              "      <td>3</td>\n",
              "    </tr>\n",
              "    <tr>\n",
              "      <th>11063</th>\n",
              "      <td>3790218</td>\n",
              "      <td>PH3790218</td>\n",
              "      <td>PH</td>\n",
              "      <td>127</td>\n",
              "      <td>3</td>\n",
              "    </tr>\n",
              "    <tr>\n",
              "      <th>11064</th>\n",
              "      <td>3790218</td>\n",
              "      <td>PK3790218</td>\n",
              "      <td>PK</td>\n",
              "      <td>43</td>\n",
              "      <td>5</td>\n",
              "    </tr>\n",
              "    <tr>\n",
              "      <th>11065</th>\n",
              "      <td>3790218</td>\n",
              "      <td>TH3790218</td>\n",
              "      <td>TH</td>\n",
              "      <td>295</td>\n",
              "      <td>1</td>\n",
              "    </tr>\n",
              "    <tr>\n",
              "      <th>11066</th>\n",
              "      <td>3790218</td>\n",
              "      <td>TR3790218</td>\n",
              "      <td>TR</td>\n",
              "      <td>29</td>\n",
              "      <td>10</td>\n",
              "    </tr>\n",
              "    <tr>\n",
              "      <th>11067</th>\n",
              "      <td>3790218</td>\n",
              "      <td>VN3790218</td>\n",
              "      <td>VN</td>\n",
              "      <td>302</td>\n",
              "      <td>1</td>\n",
              "    </tr>\n",
              "  </tbody>\n",
              "</table>\n",
              "</div>"
            ],
            "text/plain": [
              "            id        id+ country  recency  frequency\n",
              "11057  3790218  AF3790218      AF      309          1\n",
              "11058  3790218  BD3790218      BD      176          4\n",
              "11059  3790218  CN3790218      CN        1         60\n",
              "11060  3790218  ID3790218      ID      260          9\n",
              "11061  3790218  IQ3790218      IQ      176          1\n",
              "11062  3790218  MM3790218      MM      183          3\n",
              "11063  3790218  PH3790218      PH      127          3\n",
              "11064  3790218  PK3790218      PK       43          5\n",
              "11065  3790218  TH3790218      TH      295          1\n",
              "11066  3790218  TR3790218      TR       29         10\n",
              "11067  3790218  VN3790218      VN      302          1"
            ]
          },
          "metadata": {
            "tags": []
          },
          "execution_count": 35
        }
      ]
    },
    {
      "cell_type": "code",
      "metadata": {
        "scrolled": true,
        "colab": {
          "base_uri": "https://localhost:8080/"
        },
        "id": "oqtXiDvzdxLz",
        "outputId": "d7593646-dc8f-472f-8f07-277e173c716c"
      },
      "source": [
        "#We get the revenue of the last 365 days per customer\n",
        "\n",
        "df3[df3['date'] >= NOW - timedelta(days=period)]\\\n",
        "    .groupby('id+')['monetary'].sum()"
      ],
      "execution_count": null,
      "outputs": [
        {
          "output_type": "execute_result",
          "data": {
            "text/plain": [
              "id+\n",
              "AF186035892       277.86\n",
              "AF1915092      250651.86\n",
              "AF1915920        2238.60\n",
              "AF1916280         612.78\n",
              "AF1917144       29793.18\n",
              "                 ...    \n",
              "VN991620         1093.86\n",
              "VN993528         1018.86\n",
              "VN993996         4037.28\n",
              "VN995010          544.32\n",
              "VN998130          384.84\n",
              "Name: monetary, Length: 16569, dtype: float64"
            ]
          },
          "metadata": {
            "tags": []
          },
          "execution_count": 36
        }
      ]
    },
    {
      "cell_type": "code",
      "metadata": {
        "colab": {
          "base_uri": "https://localhost:8080/"
        },
        "id": "0UIQXnoddxLz",
        "outputId": "0373e956-fcf6-4e85-d10d-9aa754cb5bd7"
      },
      "source": [
        "# Example: getting only the monetary value for specific customer with id 3790218\n",
        "\n",
        "df3[ (df3['id'] == 3790218) & (df3['date'] >= NOW - timedelta(days=period))]\\\n",
        "    .groupby('id+')['monetary'].sum()"
      ],
      "execution_count": null,
      "outputs": [
        {
          "output_type": "execute_result",
          "data": {
            "text/plain": [
              "id+\n",
              "AF3790218      9706.08\n",
              "BD3790218      7267.38\n",
              "CN3790218    716199.60\n",
              "ID3790218     49154.22\n",
              "IQ3790218      1243.08\n",
              "MM3790218      7110.60\n",
              "PH3790218      1013.58\n",
              "PK3790218    211108.20\n",
              "TH3790218      1245.48\n",
              "TR3790218     16072.02\n",
              "VN3790218      3377.34\n",
              "Name: monetary, dtype: float64"
            ]
          },
          "metadata": {
            "tags": []
          },
          "execution_count": 37
        }
      ]
    },
    {
      "cell_type": "code",
      "metadata": {
        "id": "-qGxiJcpdxLz"
      },
      "source": [
        "# We add the revenue from df3 of last period per customer to rfm dataframe\n",
        "\n",
        "rfm['monetary'] = rfm['id+']\\\n",
        "    .apply(lambda x: df3[ (df3['id+'] == x) & (df3['date'] >= NOW - timedelta(days=period))]\\\n",
        "    .groupby(['id', 'country']).sum().iloc[0,0])"
      ],
      "execution_count": null,
      "outputs": []
    },
    {
      "cell_type": "code",
      "metadata": {
        "colab": {
          "base_uri": "https://localhost:8080/",
          "height": 204
        },
        "id": "B38deE94dxLz",
        "outputId": "800dedc6-5038-4975-9a43-92e5cc2d2e66"
      },
      "source": [
        "rfm.head()"
      ],
      "execution_count": null,
      "outputs": [
        {
          "output_type": "execute_result",
          "data": {
            "text/html": [
              "<div>\n",
              "<style scoped>\n",
              "    .dataframe tbody tr th:only-of-type {\n",
              "        vertical-align: middle;\n",
              "    }\n",
              "\n",
              "    .dataframe tbody tr th {\n",
              "        vertical-align: top;\n",
              "    }\n",
              "\n",
              "    .dataframe thead th {\n",
              "        text-align: right;\n",
              "    }\n",
              "</style>\n",
              "<table border=\"1\" class=\"dataframe\">\n",
              "  <thead>\n",
              "    <tr style=\"text-align: right;\">\n",
              "      <th></th>\n",
              "      <th>id</th>\n",
              "      <th>id+</th>\n",
              "      <th>country</th>\n",
              "      <th>recency</th>\n",
              "      <th>frequency</th>\n",
              "      <th>monetary</th>\n",
              "    </tr>\n",
              "  </thead>\n",
              "  <tbody>\n",
              "    <tr>\n",
              "      <th>0</th>\n",
              "      <td>600018</td>\n",
              "      <td>CN600018</td>\n",
              "      <td>CN</td>\n",
              "      <td>29</td>\n",
              "      <td>7</td>\n",
              "      <td>21402.78</td>\n",
              "    </tr>\n",
              "    <tr>\n",
              "      <th>1</th>\n",
              "      <td>600060</td>\n",
              "      <td>CN600060</td>\n",
              "      <td>CN</td>\n",
              "      <td>155</td>\n",
              "      <td>1</td>\n",
              "      <td>1201.14</td>\n",
              "    </tr>\n",
              "    <tr>\n",
              "      <th>2</th>\n",
              "      <td>600462</td>\n",
              "      <td>CN600462</td>\n",
              "      <td>CN</td>\n",
              "      <td>211</td>\n",
              "      <td>2</td>\n",
              "      <td>2033.64</td>\n",
              "    </tr>\n",
              "    <tr>\n",
              "      <th>3</th>\n",
              "      <td>600888</td>\n",
              "      <td>CN600888</td>\n",
              "      <td>CN</td>\n",
              "      <td>8</td>\n",
              "      <td>3</td>\n",
              "      <td>2335.80</td>\n",
              "    </tr>\n",
              "    <tr>\n",
              "      <th>4</th>\n",
              "      <td>601014</td>\n",
              "      <td>CN601014</td>\n",
              "      <td>CN</td>\n",
              "      <td>225</td>\n",
              "      <td>1</td>\n",
              "      <td>230.52</td>\n",
              "    </tr>\n",
              "  </tbody>\n",
              "</table>\n",
              "</div>"
            ],
            "text/plain": [
              "       id       id+ country  recency  frequency  monetary\n",
              "0  600018  CN600018      CN       29          7  21402.78\n",
              "1  600060  CN600060      CN      155          1   1201.14\n",
              "2  600462  CN600462      CN      211          2   2033.64\n",
              "3  600888  CN600888      CN        8          3   2335.80\n",
              "4  601014  CN601014      CN      225          1    230.52"
            ]
          },
          "metadata": {
            "tags": []
          },
          "execution_count": 39
        }
      ]
    },
    {
      "cell_type": "code",
      "metadata": {
        "colab": {
          "base_uri": "https://localhost:8080/",
          "height": 80
        },
        "id": "56cInwKPdxLz",
        "outputId": "7f9007cc-9fd1-49f5-9869-1bcfce41e05b"
      },
      "source": [
        "# Checking monetary value is correct by checking on our biggest customer\n",
        "\n",
        "rfm[rfm['monetary']==rfm['monetary'].max()]"
      ],
      "execution_count": null,
      "outputs": [
        {
          "output_type": "execute_result",
          "data": {
            "text/html": [
              "<div>\n",
              "<style scoped>\n",
              "    .dataframe tbody tr th:only-of-type {\n",
              "        vertical-align: middle;\n",
              "    }\n",
              "\n",
              "    .dataframe tbody tr th {\n",
              "        vertical-align: top;\n",
              "    }\n",
              "\n",
              "    .dataframe thead th {\n",
              "        text-align: right;\n",
              "    }\n",
              "</style>\n",
              "<table border=\"1\" class=\"dataframe\">\n",
              "  <thead>\n",
              "    <tr style=\"text-align: right;\">\n",
              "      <th></th>\n",
              "      <th>id</th>\n",
              "      <th>id+</th>\n",
              "      <th>country</th>\n",
              "      <th>recency</th>\n",
              "      <th>frequency</th>\n",
              "      <th>monetary</th>\n",
              "    </tr>\n",
              "  </thead>\n",
              "  <tbody>\n",
              "    <tr>\n",
              "      <th>173</th>\n",
              "      <td>638544</td>\n",
              "      <td>CN638544</td>\n",
              "      <td>CN</td>\n",
              "      <td>1</td>\n",
              "      <td>217</td>\n",
              "      <td>21482332.56</td>\n",
              "    </tr>\n",
              "  </tbody>\n",
              "</table>\n",
              "</div>"
            ],
            "text/plain": [
              "         id       id+ country  recency  frequency     monetary\n",
              "173  638544  CN638544      CN        1        217  21482332.56"
            ]
          },
          "metadata": {
            "tags": []
          },
          "execution_count": 40
        }
      ]
    },
    {
      "cell_type": "code",
      "metadata": {
        "colab": {
          "base_uri": "https://localhost:8080/",
          "height": 80
        },
        "id": "zdHuOr9cdxLz",
        "outputId": "d3af2878-c707-447b-99fe-a5eaad3f85df"
      },
      "source": [
        "rfm[rfm['frequency']==rfm['frequency'].max()]"
      ],
      "execution_count": null,
      "outputs": [
        {
          "output_type": "execute_result",
          "data": {
            "text/html": [
              "<div>\n",
              "<style scoped>\n",
              "    .dataframe tbody tr th:only-of-type {\n",
              "        vertical-align: middle;\n",
              "    }\n",
              "\n",
              "    .dataframe tbody tr th {\n",
              "        vertical-align: top;\n",
              "    }\n",
              "\n",
              "    .dataframe thead th {\n",
              "        text-align: right;\n",
              "    }\n",
              "</style>\n",
              "<table border=\"1\" class=\"dataframe\">\n",
              "  <thead>\n",
              "    <tr style=\"text-align: right;\">\n",
              "      <th></th>\n",
              "      <th>id</th>\n",
              "      <th>id+</th>\n",
              "      <th>country</th>\n",
              "      <th>recency</th>\n",
              "      <th>frequency</th>\n",
              "      <th>monetary</th>\n",
              "    </tr>\n",
              "  </thead>\n",
              "  <tbody>\n",
              "    <tr>\n",
              "      <th>8290</th>\n",
              "      <td>3249114</td>\n",
              "      <td>TR3249114</td>\n",
              "      <td>TR</td>\n",
              "      <td>1</td>\n",
              "      <td>1351</td>\n",
              "      <td>2731448.04</td>\n",
              "    </tr>\n",
              "  </tbody>\n",
              "</table>\n",
              "</div>"
            ],
            "text/plain": [
              "           id        id+ country  recency  frequency    monetary\n",
              "8290  3249114  TR3249114      TR        1       1351  2731448.04"
            ]
          },
          "metadata": {
            "tags": []
          },
          "execution_count": 41
        }
      ]
    },
    {
      "cell_type": "code",
      "metadata": {
        "scrolled": true,
        "colab": {
          "base_uri": "https://localhost:8080/",
          "height": 390
        },
        "id": "dNRr0-lidxLz",
        "outputId": "7355db47-32e2-42e4-be19-8a05cb7215cb"
      },
      "source": [
        "# We check that customer 3790218 gets a different monetray value per country\n",
        "\n",
        "rfm[rfm['id']==3790218]"
      ],
      "execution_count": null,
      "outputs": [
        {
          "output_type": "execute_result",
          "data": {
            "text/html": [
              "<div>\n",
              "<style scoped>\n",
              "    .dataframe tbody tr th:only-of-type {\n",
              "        vertical-align: middle;\n",
              "    }\n",
              "\n",
              "    .dataframe tbody tr th {\n",
              "        vertical-align: top;\n",
              "    }\n",
              "\n",
              "    .dataframe thead th {\n",
              "        text-align: right;\n",
              "    }\n",
              "</style>\n",
              "<table border=\"1\" class=\"dataframe\">\n",
              "  <thead>\n",
              "    <tr style=\"text-align: right;\">\n",
              "      <th></th>\n",
              "      <th>id</th>\n",
              "      <th>id+</th>\n",
              "      <th>country</th>\n",
              "      <th>recency</th>\n",
              "      <th>frequency</th>\n",
              "      <th>monetary</th>\n",
              "    </tr>\n",
              "  </thead>\n",
              "  <tbody>\n",
              "    <tr>\n",
              "      <th>11057</th>\n",
              "      <td>3790218</td>\n",
              "      <td>AF3790218</td>\n",
              "      <td>AF</td>\n",
              "      <td>309</td>\n",
              "      <td>1</td>\n",
              "      <td>9706.08</td>\n",
              "    </tr>\n",
              "    <tr>\n",
              "      <th>11058</th>\n",
              "      <td>3790218</td>\n",
              "      <td>BD3790218</td>\n",
              "      <td>BD</td>\n",
              "      <td>176</td>\n",
              "      <td>4</td>\n",
              "      <td>7267.38</td>\n",
              "    </tr>\n",
              "    <tr>\n",
              "      <th>11059</th>\n",
              "      <td>3790218</td>\n",
              "      <td>CN3790218</td>\n",
              "      <td>CN</td>\n",
              "      <td>1</td>\n",
              "      <td>60</td>\n",
              "      <td>716199.60</td>\n",
              "    </tr>\n",
              "    <tr>\n",
              "      <th>11060</th>\n",
              "      <td>3790218</td>\n",
              "      <td>ID3790218</td>\n",
              "      <td>ID</td>\n",
              "      <td>260</td>\n",
              "      <td>9</td>\n",
              "      <td>49154.22</td>\n",
              "    </tr>\n",
              "    <tr>\n",
              "      <th>11061</th>\n",
              "      <td>3790218</td>\n",
              "      <td>IQ3790218</td>\n",
              "      <td>IQ</td>\n",
              "      <td>176</td>\n",
              "      <td>1</td>\n",
              "      <td>1243.08</td>\n",
              "    </tr>\n",
              "    <tr>\n",
              "      <th>11062</th>\n",
              "      <td>3790218</td>\n",
              "      <td>MM3790218</td>\n",
              "      <td>MM</td>\n",
              "      <td>183</td>\n",
              "      <td>3</td>\n",
              "      <td>7110.60</td>\n",
              "    </tr>\n",
              "    <tr>\n",
              "      <th>11063</th>\n",
              "      <td>3790218</td>\n",
              "      <td>PH3790218</td>\n",
              "      <td>PH</td>\n",
              "      <td>127</td>\n",
              "      <td>3</td>\n",
              "      <td>1013.58</td>\n",
              "    </tr>\n",
              "    <tr>\n",
              "      <th>11064</th>\n",
              "      <td>3790218</td>\n",
              "      <td>PK3790218</td>\n",
              "      <td>PK</td>\n",
              "      <td>43</td>\n",
              "      <td>5</td>\n",
              "      <td>211108.20</td>\n",
              "    </tr>\n",
              "    <tr>\n",
              "      <th>11065</th>\n",
              "      <td>3790218</td>\n",
              "      <td>TH3790218</td>\n",
              "      <td>TH</td>\n",
              "      <td>295</td>\n",
              "      <td>1</td>\n",
              "      <td>1245.48</td>\n",
              "    </tr>\n",
              "    <tr>\n",
              "      <th>11066</th>\n",
              "      <td>3790218</td>\n",
              "      <td>TR3790218</td>\n",
              "      <td>TR</td>\n",
              "      <td>29</td>\n",
              "      <td>10</td>\n",
              "      <td>16072.02</td>\n",
              "    </tr>\n",
              "    <tr>\n",
              "      <th>11067</th>\n",
              "      <td>3790218</td>\n",
              "      <td>VN3790218</td>\n",
              "      <td>VN</td>\n",
              "      <td>302</td>\n",
              "      <td>1</td>\n",
              "      <td>3377.34</td>\n",
              "    </tr>\n",
              "  </tbody>\n",
              "</table>\n",
              "</div>"
            ],
            "text/plain": [
              "            id        id+ country  recency  frequency   monetary\n",
              "11057  3790218  AF3790218      AF      309          1    9706.08\n",
              "11058  3790218  BD3790218      BD      176          4    7267.38\n",
              "11059  3790218  CN3790218      CN        1         60  716199.60\n",
              "11060  3790218  ID3790218      ID      260          9   49154.22\n",
              "11061  3790218  IQ3790218      IQ      176          1    1243.08\n",
              "11062  3790218  MM3790218      MM      183          3    7110.60\n",
              "11063  3790218  PH3790218      PH      127          3    1013.58\n",
              "11064  3790218  PK3790218      PK       43          5  211108.20\n",
              "11065  3790218  TH3790218      TH      295          1    1245.48\n",
              "11066  3790218  TR3790218      TR       29         10   16072.02\n",
              "11067  3790218  VN3790218      VN      302          1    3377.34"
            ]
          },
          "metadata": {
            "tags": []
          },
          "execution_count": 42
        }
      ]
    },
    {
      "cell_type": "code",
      "metadata": {
        "id": "xaEVEgNudxLz"
      },
      "source": [
        "# Let's frop the column 'id+'\n",
        "rfm.drop(['id+'], axis=1, inplace=True)"
      ],
      "execution_count": null,
      "outputs": []
    },
    {
      "cell_type": "markdown",
      "metadata": {
        "id": "6c0RhcucdxLz"
      },
      "source": [
        "### Calculate the R, F and M scores"
      ]
    },
    {
      "cell_type": "code",
      "metadata": {
        "colab": {
          "base_uri": "https://localhost:8080/"
        },
        "id": "KdO2AfoKdxLz",
        "outputId": "0e887526-8139-40c8-f9de-3e4f95759963"
      },
      "source": [
        "# We assign a rate between 1 and 5 depending on recency, monetary and frequency parameters\n",
        "# We use the quintiles method, dividing every feature on groups that contain 20 % of the samples\n",
        "\n",
        "quintiles = rfm[['recency', 'frequency', 'monetary']].quantile([.2, .4, .6, .8]).to_dict()\n",
        "quintiles"
      ],
      "execution_count": null,
      "outputs": [
        {
          "output_type": "execute_result",
          "data": {
            "text/plain": [
              "{'frequency': {0.2: 1.0, 0.4: 2.0, 0.6: 4.0, 0.8: 9.0},\n",
              " 'monetary': {0.2: 967.5,\n",
              "  0.4: 2212.2,\n",
              "  0.6: 4852.548000000001,\n",
              "  0.8: 13957.500000000005},\n",
              " 'recency': {0.2: 15.0, 0.4: 50.0, 0.6: 120.0, 0.8: 239.0}}"
            ]
          },
          "metadata": {
            "tags": []
          },
          "execution_count": 44
        }
      ]
    },
    {
      "cell_type": "code",
      "metadata": {
        "id": "mesTzgG6dxLz"
      },
      "source": [
        "# Assigning scores from 1 to 5\n",
        "# Higher values are better for frequency and monetary, while lower values are better for recency\n",
        "\n",
        "def r_score(x):\n",
        "    if x <= quintiles['recency'][.2]:\n",
        "        return 5\n",
        "    elif x <= quintiles['recency'][.4]:\n",
        "        return 4\n",
        "    elif x <= quintiles['recency'][.6]:\n",
        "        return 3\n",
        "    elif x <= quintiles['recency'][.8]:\n",
        "        return 2\n",
        "    else:\n",
        "        return 1"
      ],
      "execution_count": null,
      "outputs": []
    },
    {
      "cell_type": "code",
      "metadata": {
        "id": "YQOMkJPYdxLz"
      },
      "source": [
        "def fm_score(x, c):\n",
        "    if x <= quintiles[c][.2]:\n",
        "        return 1\n",
        "    elif x <= quintiles[c][.4]:\n",
        "        return 2\n",
        "    elif x <= quintiles[c][.6]:\n",
        "        return 3\n",
        "    elif x <= quintiles[c][.8]:\n",
        "        return 4\n",
        "    else:\n",
        "        return 5"
      ],
      "execution_count": null,
      "outputs": []
    },
    {
      "cell_type": "code",
      "metadata": {
        "id": "7Z6xzJLHdxLz"
      },
      "source": [
        "# We asssign R, F and M scores to each customer\n",
        "\n",
        "rfm['r'] = rfm['recency'].apply(lambda x: r_score(x))\n",
        "rfm['f'] = rfm['frequency'].apply(lambda x: fm_score(x, 'frequency'))\n",
        "rfm['m'] = rfm['monetary'].apply(lambda x: fm_score(x, 'monetary'))"
      ],
      "execution_count": null,
      "outputs": []
    },
    {
      "cell_type": "code",
      "metadata": {
        "colab": {
          "base_uri": "https://localhost:8080/"
        },
        "id": "-KBoIe80dxLz",
        "outputId": "4ba55d0c-41d6-41ca-f0d2-2fcdea77cace"
      },
      "source": [
        "rfm.head()"
      ],
      "execution_count": null,
      "outputs": [
        {
          "output_type": "execute_result",
          "data": {
            "text/html": [
              "<div>\n",
              "<style scoped>\n",
              "    .dataframe tbody tr th:only-of-type {\n",
              "        vertical-align: middle;\n",
              "    }\n",
              "\n",
              "    .dataframe tbody tr th {\n",
              "        vertical-align: top;\n",
              "    }\n",
              "\n",
              "    .dataframe thead th {\n",
              "        text-align: right;\n",
              "    }\n",
              "</style>\n",
              "<table border=\"1\" class=\"dataframe\">\n",
              "  <thead>\n",
              "    <tr style=\"text-align: right;\">\n",
              "      <th></th>\n",
              "      <th>id</th>\n",
              "      <th>country</th>\n",
              "      <th>recency</th>\n",
              "      <th>frequency</th>\n",
              "      <th>monetary</th>\n",
              "      <th>r</th>\n",
              "      <th>f</th>\n",
              "      <th>m</th>\n",
              "    </tr>\n",
              "  </thead>\n",
              "  <tbody>\n",
              "    <tr>\n",
              "      <th>0</th>\n",
              "      <td>600018</td>\n",
              "      <td>CN</td>\n",
              "      <td>29</td>\n",
              "      <td>7</td>\n",
              "      <td>21402.78</td>\n",
              "      <td>4</td>\n",
              "      <td>4</td>\n",
              "      <td>5</td>\n",
              "    </tr>\n",
              "    <tr>\n",
              "      <th>1</th>\n",
              "      <td>600060</td>\n",
              "      <td>CN</td>\n",
              "      <td>155</td>\n",
              "      <td>1</td>\n",
              "      <td>1201.14</td>\n",
              "      <td>2</td>\n",
              "      <td>1</td>\n",
              "      <td>2</td>\n",
              "    </tr>\n",
              "    <tr>\n",
              "      <th>2</th>\n",
              "      <td>600462</td>\n",
              "      <td>CN</td>\n",
              "      <td>211</td>\n",
              "      <td>2</td>\n",
              "      <td>2033.64</td>\n",
              "      <td>2</td>\n",
              "      <td>2</td>\n",
              "      <td>2</td>\n",
              "    </tr>\n",
              "    <tr>\n",
              "      <th>3</th>\n",
              "      <td>600888</td>\n",
              "      <td>CN</td>\n",
              "      <td>8</td>\n",
              "      <td>3</td>\n",
              "      <td>2335.80</td>\n",
              "      <td>5</td>\n",
              "      <td>3</td>\n",
              "      <td>3</td>\n",
              "    </tr>\n",
              "    <tr>\n",
              "      <th>4</th>\n",
              "      <td>601014</td>\n",
              "      <td>CN</td>\n",
              "      <td>225</td>\n",
              "      <td>1</td>\n",
              "      <td>230.52</td>\n",
              "      <td>2</td>\n",
              "      <td>1</td>\n",
              "      <td>1</td>\n",
              "    </tr>\n",
              "  </tbody>\n",
              "</table>\n",
              "</div>"
            ],
            "text/plain": [
              "       id country  recency  frequency  monetary  r  f  m\n",
              "0  600018      CN       29          7  21402.78  4  4  5\n",
              "1  600060      CN      155          1   1201.14  2  1  2\n",
              "2  600462      CN      211          2   2033.64  2  2  2\n",
              "3  600888      CN        8          3   2335.80  5  3  3\n",
              "4  601014      CN      225          1    230.52  2  1  1"
            ]
          },
          "metadata": {
            "tags": []
          },
          "execution_count": 48
        }
      ]
    },
    {
      "cell_type": "code",
      "metadata": {
        "scrolled": true,
        "colab": {
          "base_uri": "https://localhost:8080/"
        },
        "id": "ju7kft3GdxLz",
        "outputId": "1adefbf5-bd81-4f0f-ae20-60aa7082d949"
      },
      "source": [
        "# Combine R, F and M scores to create a unique RFM score\n",
        "\n",
        "rfm['rfm_score'] = rfm['r'].map(str) + rfm['f'].map(str) + rfm['m'].map(str)\n",
        "rfm.head()"
      ],
      "execution_count": null,
      "outputs": [
        {
          "output_type": "execute_result",
          "data": {
            "text/html": [
              "<div>\n",
              "<style scoped>\n",
              "    .dataframe tbody tr th:only-of-type {\n",
              "        vertical-align: middle;\n",
              "    }\n",
              "\n",
              "    .dataframe tbody tr th {\n",
              "        vertical-align: top;\n",
              "    }\n",
              "\n",
              "    .dataframe thead th {\n",
              "        text-align: right;\n",
              "    }\n",
              "</style>\n",
              "<table border=\"1\" class=\"dataframe\">\n",
              "  <thead>\n",
              "    <tr style=\"text-align: right;\">\n",
              "      <th></th>\n",
              "      <th>id</th>\n",
              "      <th>country</th>\n",
              "      <th>recency</th>\n",
              "      <th>frequency</th>\n",
              "      <th>monetary</th>\n",
              "      <th>r</th>\n",
              "      <th>f</th>\n",
              "      <th>m</th>\n",
              "      <th>rfm_score</th>\n",
              "    </tr>\n",
              "  </thead>\n",
              "  <tbody>\n",
              "    <tr>\n",
              "      <th>0</th>\n",
              "      <td>600018</td>\n",
              "      <td>CN</td>\n",
              "      <td>29</td>\n",
              "      <td>7</td>\n",
              "      <td>21402.78</td>\n",
              "      <td>4</td>\n",
              "      <td>4</td>\n",
              "      <td>5</td>\n",
              "      <td>445</td>\n",
              "    </tr>\n",
              "    <tr>\n",
              "      <th>1</th>\n",
              "      <td>600060</td>\n",
              "      <td>CN</td>\n",
              "      <td>155</td>\n",
              "      <td>1</td>\n",
              "      <td>1201.14</td>\n",
              "      <td>2</td>\n",
              "      <td>1</td>\n",
              "      <td>2</td>\n",
              "      <td>212</td>\n",
              "    </tr>\n",
              "    <tr>\n",
              "      <th>2</th>\n",
              "      <td>600462</td>\n",
              "      <td>CN</td>\n",
              "      <td>211</td>\n",
              "      <td>2</td>\n",
              "      <td>2033.64</td>\n",
              "      <td>2</td>\n",
              "      <td>2</td>\n",
              "      <td>2</td>\n",
              "      <td>222</td>\n",
              "    </tr>\n",
              "    <tr>\n",
              "      <th>3</th>\n",
              "      <td>600888</td>\n",
              "      <td>CN</td>\n",
              "      <td>8</td>\n",
              "      <td>3</td>\n",
              "      <td>2335.80</td>\n",
              "      <td>5</td>\n",
              "      <td>3</td>\n",
              "      <td>3</td>\n",
              "      <td>533</td>\n",
              "    </tr>\n",
              "    <tr>\n",
              "      <th>4</th>\n",
              "      <td>601014</td>\n",
              "      <td>CN</td>\n",
              "      <td>225</td>\n",
              "      <td>1</td>\n",
              "      <td>230.52</td>\n",
              "      <td>2</td>\n",
              "      <td>1</td>\n",
              "      <td>1</td>\n",
              "      <td>211</td>\n",
              "    </tr>\n",
              "  </tbody>\n",
              "</table>\n",
              "</div>"
            ],
            "text/plain": [
              "       id country  recency  frequency  monetary  r  f  m rfm_score\n",
              "0  600018      CN       29          7  21402.78  4  4  5       445\n",
              "1  600060      CN      155          1   1201.14  2  1  2       212\n",
              "2  600462      CN      211          2   2033.64  2  2  2       222\n",
              "3  600888      CN        8          3   2335.80  5  3  3       533\n",
              "4  601014      CN      225          1    230.52  2  1  1       211"
            ]
          },
          "metadata": {
            "tags": []
          },
          "execution_count": 49
        }
      ]
    },
    {
      "cell_type": "code",
      "metadata": {
        "id": "gotetdOBdxL0"
      },
      "source": [
        "# With this rfm scores we would have 125 segments of customers\n",
        "# To make a more simple segment map of 11 segments, we combine f and m scores, rounding them down\n",
        "# fm = (f+m)/2"
      ],
      "execution_count": null,
      "outputs": []
    },
    {
      "cell_type": "code",
      "metadata": {
        "id": "Th4epxMZdxL0"
      },
      "source": [
        "def truncate(x):\n",
        "    return math.trunc(x)"
      ],
      "execution_count": null,
      "outputs": []
    },
    {
      "cell_type": "code",
      "metadata": {
        "id": "14Wz6XxndxL0"
      },
      "source": [
        "rfm['fm'] = ((rfm['f'] + rfm['m'])/2).apply(lambda x: truncate(x))"
      ],
      "execution_count": null,
      "outputs": []
    },
    {
      "cell_type": "code",
      "metadata": {
        "colab": {
          "base_uri": "https://localhost:8080/"
        },
        "id": "uFlOVgZIdxL0",
        "outputId": "84503827-7c26-4d6d-ca74-b12e84f42fb8"
      },
      "source": [
        "rfm.head()"
      ],
      "execution_count": null,
      "outputs": [
        {
          "output_type": "execute_result",
          "data": {
            "text/html": [
              "<div>\n",
              "<style scoped>\n",
              "    .dataframe tbody tr th:only-of-type {\n",
              "        vertical-align: middle;\n",
              "    }\n",
              "\n",
              "    .dataframe tbody tr th {\n",
              "        vertical-align: top;\n",
              "    }\n",
              "\n",
              "    .dataframe thead th {\n",
              "        text-align: right;\n",
              "    }\n",
              "</style>\n",
              "<table border=\"1\" class=\"dataframe\">\n",
              "  <thead>\n",
              "    <tr style=\"text-align: right;\">\n",
              "      <th></th>\n",
              "      <th>id</th>\n",
              "      <th>country</th>\n",
              "      <th>recency</th>\n",
              "      <th>frequency</th>\n",
              "      <th>monetary</th>\n",
              "      <th>r</th>\n",
              "      <th>f</th>\n",
              "      <th>m</th>\n",
              "      <th>rfm_score</th>\n",
              "      <th>fm</th>\n",
              "    </tr>\n",
              "  </thead>\n",
              "  <tbody>\n",
              "    <tr>\n",
              "      <th>0</th>\n",
              "      <td>600018</td>\n",
              "      <td>CN</td>\n",
              "      <td>29</td>\n",
              "      <td>7</td>\n",
              "      <td>21402.78</td>\n",
              "      <td>4</td>\n",
              "      <td>4</td>\n",
              "      <td>5</td>\n",
              "      <td>445</td>\n",
              "      <td>4</td>\n",
              "    </tr>\n",
              "    <tr>\n",
              "      <th>1</th>\n",
              "      <td>600060</td>\n",
              "      <td>CN</td>\n",
              "      <td>155</td>\n",
              "      <td>1</td>\n",
              "      <td>1201.14</td>\n",
              "      <td>2</td>\n",
              "      <td>1</td>\n",
              "      <td>2</td>\n",
              "      <td>212</td>\n",
              "      <td>1</td>\n",
              "    </tr>\n",
              "    <tr>\n",
              "      <th>2</th>\n",
              "      <td>600462</td>\n",
              "      <td>CN</td>\n",
              "      <td>211</td>\n",
              "      <td>2</td>\n",
              "      <td>2033.64</td>\n",
              "      <td>2</td>\n",
              "      <td>2</td>\n",
              "      <td>2</td>\n",
              "      <td>222</td>\n",
              "      <td>2</td>\n",
              "    </tr>\n",
              "    <tr>\n",
              "      <th>3</th>\n",
              "      <td>600888</td>\n",
              "      <td>CN</td>\n",
              "      <td>8</td>\n",
              "      <td>3</td>\n",
              "      <td>2335.80</td>\n",
              "      <td>5</td>\n",
              "      <td>3</td>\n",
              "      <td>3</td>\n",
              "      <td>533</td>\n",
              "      <td>3</td>\n",
              "    </tr>\n",
              "    <tr>\n",
              "      <th>4</th>\n",
              "      <td>601014</td>\n",
              "      <td>CN</td>\n",
              "      <td>225</td>\n",
              "      <td>1</td>\n",
              "      <td>230.52</td>\n",
              "      <td>2</td>\n",
              "      <td>1</td>\n",
              "      <td>1</td>\n",
              "      <td>211</td>\n",
              "      <td>1</td>\n",
              "    </tr>\n",
              "  </tbody>\n",
              "</table>\n",
              "</div>"
            ],
            "text/plain": [
              "       id country  recency  frequency  monetary  r  f  m rfm_score  fm\n",
              "0  600018      CN       29          7  21402.78  4  4  5       445   4\n",
              "1  600060      CN      155          1   1201.14  2  1  2       212   1\n",
              "2  600462      CN      211          2   2033.64  2  2  2       222   2\n",
              "3  600888      CN        8          3   2335.80  5  3  3       533   3\n",
              "4  601014      CN      225          1    230.52  2  1  1       211   1"
            ]
          },
          "metadata": {
            "tags": []
          },
          "execution_count": 53
        }
      ]
    },
    {
      "cell_type": "markdown",
      "metadata": {
        "id": "YHaw_3YadxL0"
      },
      "source": [
        "### Segment\tDescription\n",
        "* **Champions**\tBought recently, buy often and spend the most\n",
        "* **Loyal Customers**\tBuy on a regular basis. Responsive to promotions.\n",
        "* **Potential Loyalists**\tRecent customers with average frequency.\n",
        "* **Recent Customers**\tBought most recently, but not often.\n",
        "* **Promising**\tRecent shoppers, but haven’t spent much.\n",
        "* **Customers Needing Attention**\tAbove average recency, frequency and monetary values. May not have bought very recently though.\n",
        "* **About To Sleep**\tBelow average recency and frequency. Will lose them if not reactivated.\n",
        "* **At Risk**\tPurchased often but a long time ago. Need to bring them back!\n",
        "* **Can’t Lose Them**\tUsed to purchase frequently but haven’t returned for a long time.\n",
        "* **Hibernating**\tLast purchase was long back and low number of orders.\n",
        "* **Lost** Purchased long time ago and never came back."
      ]
    },
    {
      "cell_type": "code",
      "metadata": {
        "colab": {
          "base_uri": "https://localhost:8080/"
        },
        "id": "kdM6u7iadxL0",
        "outputId": "0553c7c7-2a57-453d-e5d3-3b068abf1aa5"
      },
      "source": [
        "# We create a segment map of only 11 segments based on only two scores: 'r' and 'fm'\n",
        "\n",
        "segment_map = {\n",
        "    r'22': 'hibernating',\n",
        "    r'[1-2][1-2]': 'lost',\n",
        "    r'15': 'can\\'t lose',\n",
        "    r'[1-2][3-5]': 'at risk',\n",
        "    r'3[1-2]': 'about to sleep',\n",
        "    r'33': 'need attention',\n",
        "    r'55': 'champions',\n",
        "    r'[3-5][4-5]': 'loyal customers',\n",
        "    r'41': 'promising',\n",
        "    r'51': 'new customers',\n",
        "    r'[4-5][2-3]': 'potential loyalists'\n",
        "}\n",
        "\n",
        "rfm['segment'] = rfm['r'].map(str) + rfm['fm'].map(str)\n",
        "rfm['segment'] = rfm['segment'].replace(segment_map, regex=True)\n",
        "rfm.head()"
      ],
      "execution_count": null,
      "outputs": [
        {
          "output_type": "execute_result",
          "data": {
            "text/html": [
              "<div>\n",
              "<style scoped>\n",
              "    .dataframe tbody tr th:only-of-type {\n",
              "        vertical-align: middle;\n",
              "    }\n",
              "\n",
              "    .dataframe tbody tr th {\n",
              "        vertical-align: top;\n",
              "    }\n",
              "\n",
              "    .dataframe thead th {\n",
              "        text-align: right;\n",
              "    }\n",
              "</style>\n",
              "<table border=\"1\" class=\"dataframe\">\n",
              "  <thead>\n",
              "    <tr style=\"text-align: right;\">\n",
              "      <th></th>\n",
              "      <th>id</th>\n",
              "      <th>country</th>\n",
              "      <th>recency</th>\n",
              "      <th>frequency</th>\n",
              "      <th>monetary</th>\n",
              "      <th>r</th>\n",
              "      <th>f</th>\n",
              "      <th>m</th>\n",
              "      <th>rfm_score</th>\n",
              "      <th>fm</th>\n",
              "      <th>segment</th>\n",
              "    </tr>\n",
              "  </thead>\n",
              "  <tbody>\n",
              "    <tr>\n",
              "      <th>0</th>\n",
              "      <td>600018</td>\n",
              "      <td>CN</td>\n",
              "      <td>29</td>\n",
              "      <td>7</td>\n",
              "      <td>21402.78</td>\n",
              "      <td>4</td>\n",
              "      <td>4</td>\n",
              "      <td>5</td>\n",
              "      <td>445</td>\n",
              "      <td>4</td>\n",
              "      <td>loyal customers</td>\n",
              "    </tr>\n",
              "    <tr>\n",
              "      <th>1</th>\n",
              "      <td>600060</td>\n",
              "      <td>CN</td>\n",
              "      <td>155</td>\n",
              "      <td>1</td>\n",
              "      <td>1201.14</td>\n",
              "      <td>2</td>\n",
              "      <td>1</td>\n",
              "      <td>2</td>\n",
              "      <td>212</td>\n",
              "      <td>1</td>\n",
              "      <td>lost</td>\n",
              "    </tr>\n",
              "    <tr>\n",
              "      <th>2</th>\n",
              "      <td>600462</td>\n",
              "      <td>CN</td>\n",
              "      <td>211</td>\n",
              "      <td>2</td>\n",
              "      <td>2033.64</td>\n",
              "      <td>2</td>\n",
              "      <td>2</td>\n",
              "      <td>2</td>\n",
              "      <td>222</td>\n",
              "      <td>2</td>\n",
              "      <td>hibernating</td>\n",
              "    </tr>\n",
              "    <tr>\n",
              "      <th>3</th>\n",
              "      <td>600888</td>\n",
              "      <td>CN</td>\n",
              "      <td>8</td>\n",
              "      <td>3</td>\n",
              "      <td>2335.80</td>\n",
              "      <td>5</td>\n",
              "      <td>3</td>\n",
              "      <td>3</td>\n",
              "      <td>533</td>\n",
              "      <td>3</td>\n",
              "      <td>potential loyalists</td>\n",
              "    </tr>\n",
              "    <tr>\n",
              "      <th>4</th>\n",
              "      <td>601014</td>\n",
              "      <td>CN</td>\n",
              "      <td>225</td>\n",
              "      <td>1</td>\n",
              "      <td>230.52</td>\n",
              "      <td>2</td>\n",
              "      <td>1</td>\n",
              "      <td>1</td>\n",
              "      <td>211</td>\n",
              "      <td>1</td>\n",
              "      <td>lost</td>\n",
              "    </tr>\n",
              "  </tbody>\n",
              "</table>\n",
              "</div>"
            ],
            "text/plain": [
              "       id country  recency  frequency  ...  m  rfm_score  fm              segment\n",
              "0  600018      CN       29          7  ...  5        445   4      loyal customers\n",
              "1  600060      CN      155          1  ...  2        212   1                 lost\n",
              "2  600462      CN      211          2  ...  2        222   2          hibernating\n",
              "3  600888      CN        8          3  ...  3        533   3  potential loyalists\n",
              "4  601014      CN      225          1  ...  1        211   1                 lost\n",
              "\n",
              "[5 rows x 11 columns]"
            ]
          },
          "metadata": {
            "tags": []
          },
          "execution_count": 54
        }
      ]
    },
    {
      "cell_type": "code",
      "metadata": {
        "colab": {
          "base_uri": "https://localhost:8080/"
        },
        "id": "eQzgj9fMdxL0",
        "outputId": "93d11f6e-c058-48fb-e1bd-1bf0a2ae0825"
      },
      "source": [
        "rfm.isnull().sum()"
      ],
      "execution_count": null,
      "outputs": [
        {
          "output_type": "execute_result",
          "data": {
            "text/plain": [
              "id           0\n",
              "country      0\n",
              "recency      0\n",
              "frequency    0\n",
              "monetary     0\n",
              "r            0\n",
              "f            0\n",
              "m            0\n",
              "rfm_score    0\n",
              "fm           0\n",
              "segment      0\n",
              "dtype: int64"
            ]
          },
          "metadata": {
            "tags": []
          },
          "execution_count": 55
        }
      ]
    },
    {
      "cell_type": "markdown",
      "metadata": {
        "id": "dcog_U9DdxL0"
      },
      "source": [
        "### Visualize our customers segments"
      ]
    },
    {
      "cell_type": "code",
      "metadata": {
        "colab": {
          "base_uri": "https://localhost:8080/",
          "height": 994
        },
        "id": "yb5syLdwdxL0",
        "outputId": "60229f4c-4cf4-41d3-9472-1edc474b016e"
      },
      "source": [
        "# plot the distribution of customers over R and F\n",
        "fig, axes = plt.subplots(nrows=1, ncols=2, figsize=(10, 4))\n",
        "\n",
        "for i, p in enumerate(['r', 'fm']):\n",
        "    parameters = {'r':'Recency', 'fm':'Frequency + Monetary'}\n",
        "    y = rfm[p].value_counts().sort_index()\n",
        "    x = y.index\n",
        "    ax = axes[i]\n",
        "    bars = ax.bar(x, y, color='lightgrey')\n",
        "    ax.set_frame_on(False)\n",
        "    ax.tick_params(left=False, labelleft=False, bottom=False)\n",
        "    ax.set_title('Distribution of {}'.format(parameters[p]),\n",
        "                fontsize=14)\n",
        "    for bar in bars:\n",
        "        value = bar.get_height()\n",
        "        if value == y.max():\n",
        "            bar.set_color('steelblue')\n",
        "        ax.text(bar.get_x() + bar.get_width() / 2,\n",
        "                value - 5,\n",
        "                '{}\\n({}%)'.format(int(value), int(value * 100 / y.sum())),\n",
        "               ha='center',\n",
        "               va='top',\n",
        "               color='w')\n",
        "        \n",
        "plt.show()\n",
        "\n",
        "# plot the distribution of M for RF score\n",
        "fig, axes = plt.subplots(nrows=5, ncols=5,\n",
        "                         sharex=False, sharey=True,\n",
        "                         figsize=(10, 10))\n",
        "\n",
        "r_range = range(1, 6)\n",
        "f_range = range(1, 6)\n",
        "for r in r_range:\n",
        "    for f in f_range:\n",
        "        y = rfm[(rfm['r'] == r) & (rfm['f'] == f)]['m'].value_counts().sort_index()\n",
        "        x = y.index\n",
        "        ax = axes[r - 1, f - 1]\n",
        "        bars = ax.bar(x, y, color='lightgrey')\n",
        "        if r == 5:\n",
        "            if f == 3:\n",
        "                ax.set_xlabel('{}\\nF'.format(f), va='top')\n",
        "            else:\n",
        "                ax.set_xlabel('{}\\n'.format(f), va='top')\n",
        "        if f == 1:\n",
        "            if r == 3:\n",
        "                ax.set_ylabel('R\\n{}'.format(r))\n",
        "            else:\n",
        "                ax.set_ylabel(r)\n",
        "        ax.set_frame_on(False)\n",
        "        ax.tick_params(left=False, labelleft=False, bottom=False)\n",
        "        ax.set_xticks(x)\n",
        "        ax.set_xticklabels(x, fontsize=8)\n",
        "\n",
        "        for bar in bars:\n",
        "            value = bar.get_height()\n",
        "            if value == y.max():\n",
        "                bar.set_color('steelblue')\n",
        "            ax.text(bar.get_x() + bar.get_width() / 2,\n",
        "                    value,\n",
        "                    int(value),\n",
        "                    ha='center',\n",
        "                    va='bottom',\n",
        "                    color='k')\n",
        "fig.suptitle('Distribution of M for each F and R',\n",
        "             fontsize=14)\n",
        "plt.tight_layout()\n",
        "plt.show()"
      ],
      "execution_count": null,
      "outputs": [
        {
          "output_type": "display_data",
          "data": {
            "image/png": "[encoded data removed]",
            "text/plain": [
              "<Figure size 720x288 with 2 Axes>"
            ]
          },
          "metadata": {
            "tags": [],
            "needs_background": "light"
          }
        },
        {
          "output_type": "display_data",
          "data": {
            "image/png": "[encoded data removed]",
            "text/plain": [
              "<Figure size 720x720 with 25 Axes>"
            ]
          },
          "metadata": {
            "tags": [],
            "needs_background": "light"
          }
        }
      ]
    },
    {
      "cell_type": "code",
      "metadata": {
        "id": "8WS4ZXOfdxL0"
      },
      "source": [
        "# We see that recency is evenly distributed\n",
        "\n",
        "# 30 % of customers don't purchase very often high volumes (frequency + monetary 1)\n",
        "\n",
        "# Customers who spend the most are the more frequent (5) and recent (5)\n",
        "\n",
        "# Second tier customers who spend the most are low frequency (1) and low recency (1-2)"
      ],
      "execution_count": null,
      "outputs": []
    },
    {
      "cell_type": "code",
      "metadata": {
        "colab": {
          "base_uri": "https://localhost:8080/",
          "height": 248
        },
        "id": "M-oASEwRdxL0",
        "outputId": "f2bb2e82-e505-48f8-c644-0c864abc5ef8"
      },
      "source": [
        "# Count the number of customers in each segment\n",
        "\n",
        "segments_counts = rfm['segment'].value_counts().sort_values(ascending=True)\n",
        "\n",
        "fig, ax = plt.subplots()\n",
        "\n",
        "bars = ax.barh(range(len(segments_counts)),\n",
        "              segments_counts,\n",
        "              color='lightgrey')\n",
        "ax.set_frame_on(False)\n",
        "ax.tick_params(left=False,\n",
        "               bottom=False,\n",
        "               labelbottom=False)\n",
        "ax.set_yticks(range(len(segments_counts)))\n",
        "ax.set_yticklabels(segments_counts.index)\n",
        "\n",
        "for i, bar in enumerate(bars):\n",
        "        value = bar.get_width()\n",
        "        if segments_counts.index[i] in ['champions', 'loyal customers']:\n",
        "            bar.set_color('steelblue')\n",
        "        ax.text(value,\n",
        "                bar.get_y() + bar.get_height()/2,\n",
        "                '{:,} ({:}%)'.format(int(value),\n",
        "                                   int(value*100/segments_counts.sum())),\n",
        "                va='center',\n",
        "                ha='left'\n",
        "               )\n",
        "\n",
        "plt.show()"
      ],
      "execution_count": null,
      "outputs": [
        {
          "output_type": "display_data",
          "data": {
            "image/png": "[encoded data removed]",
            "text/plain": [
              "<Figure size 432x288 with 1 Axes>"
            ]
          },
          "metadata": {
            "tags": [],
            "needs_background": "light"
          }
        }
      ]
    },
    {
      "cell_type": "code",
      "metadata": {
        "id": "aCFujIiQdxL0"
      },
      "source": [
        "# We have a lot of customers who don't buy frequently from us (30 % are lost or hibernating) \n",
        "# However, 31 % of our customers are either champions or loyal customers"
      ],
      "execution_count": null,
      "outputs": []
    },
    {
      "cell_type": "code",
      "metadata": {
        "colab": {
          "base_uri": "https://localhost:8080/"
        },
        "id": "e_TFIrzSdxL0",
        "outputId": "91768c29-6a8a-4dae-c8ad-f0ba8986dd1e"
      },
      "source": [
        "rfm['segment'].unique()"
      ],
      "execution_count": null,
      "outputs": [
        {
          "output_type": "execute_result",
          "data": {
            "text/plain": [
              "array(['loyal customers', 'lost', 'hibernating', 'potential loyalists',\n",
              "       'new customers', 'need attention', 'at risk', 'champions',\n",
              "       'about to sleep', 'promising', \"can't lose\"], dtype=object)"
            ]
          },
          "metadata": {
            "tags": []
          },
          "execution_count": 60
        }
      ]
    },
    {
      "cell_type": "code",
      "metadata": {
        "colab": {
          "base_uri": "https://localhost:8080/",
          "height": 390
        },
        "id": "YE58OitYdxL0",
        "outputId": "5ba3a2ca-9766-41bd-acf2-0352d70a05f5"
      },
      "source": [
        "# We take a look on some segments\n",
        "\n",
        "rfm[rfm['segment']==\"can't lose\"].sort_values(by='monetary', ascending=False)"
      ],
      "execution_count": null,
      "outputs": [
        {
          "output_type": "execute_result",
          "data": {
            "text/html": [
              "<div>\n",
              "<style scoped>\n",
              "    .dataframe tbody tr th:only-of-type {\n",
              "        vertical-align: middle;\n",
              "    }\n",
              "\n",
              "    .dataframe tbody tr th {\n",
              "        vertical-align: top;\n",
              "    }\n",
              "\n",
              "    .dataframe thead th {\n",
              "        text-align: right;\n",
              "    }\n",
              "</style>\n",
              "<table border=\"1\" class=\"dataframe\">\n",
              "  <thead>\n",
              "    <tr style=\"text-align: right;\">\n",
              "      <th></th>\n",
              "      <th>id</th>\n",
              "      <th>country</th>\n",
              "      <th>recency</th>\n",
              "      <th>frequency</th>\n",
              "      <th>monetary</th>\n",
              "      <th>r</th>\n",
              "      <th>f</th>\n",
              "      <th>m</th>\n",
              "      <th>rfm_score</th>\n",
              "      <th>fm</th>\n",
              "      <th>segment</th>\n",
              "    </tr>\n",
              "  </thead>\n",
              "  <tbody>\n",
              "    <tr>\n",
              "      <th>13028</th>\n",
              "      <td>4096386</td>\n",
              "      <td>JP</td>\n",
              "      <td>260</td>\n",
              "      <td>105</td>\n",
              "      <td>220267.86</td>\n",
              "      <td>1</td>\n",
              "      <td>5</td>\n",
              "      <td>5</td>\n",
              "      <td>155</td>\n",
              "      <td>5</td>\n",
              "      <td>can't lose</td>\n",
              "    </tr>\n",
              "    <tr>\n",
              "      <th>3502</th>\n",
              "      <td>2443284</td>\n",
              "      <td>IN</td>\n",
              "      <td>246</td>\n",
              "      <td>10</td>\n",
              "      <td>102208.02</td>\n",
              "      <td>1</td>\n",
              "      <td>5</td>\n",
              "      <td>5</td>\n",
              "      <td>155</td>\n",
              "      <td>5</td>\n",
              "      <td>can't lose</td>\n",
              "    </tr>\n",
              "    <tr>\n",
              "      <th>14174</th>\n",
              "      <td>4262646</td>\n",
              "      <td>IN</td>\n",
              "      <td>316</td>\n",
              "      <td>10</td>\n",
              "      <td>91909.44</td>\n",
              "      <td>1</td>\n",
              "      <td>5</td>\n",
              "      <td>5</td>\n",
              "      <td>155</td>\n",
              "      <td>5</td>\n",
              "      <td>can't lose</td>\n",
              "    </tr>\n",
              "    <tr>\n",
              "      <th>2435</th>\n",
              "      <td>1803672</td>\n",
              "      <td>IN</td>\n",
              "      <td>267</td>\n",
              "      <td>12</td>\n",
              "      <td>70506.96</td>\n",
              "      <td>1</td>\n",
              "      <td>5</td>\n",
              "      <td>5</td>\n",
              "      <td>155</td>\n",
              "      <td>5</td>\n",
              "      <td>can't lose</td>\n",
              "    </tr>\n",
              "    <tr>\n",
              "      <th>13254</th>\n",
              "      <td>4132968</td>\n",
              "      <td>VN</td>\n",
              "      <td>253</td>\n",
              "      <td>26</td>\n",
              "      <td>42535.14</td>\n",
              "      <td>1</td>\n",
              "      <td>5</td>\n",
              "      <td>5</td>\n",
              "      <td>155</td>\n",
              "      <td>5</td>\n",
              "      <td>can't lose</td>\n",
              "    </tr>\n",
              "    <tr>\n",
              "      <th>11222</th>\n",
              "      <td>3815274</td>\n",
              "      <td>IN</td>\n",
              "      <td>267</td>\n",
              "      <td>11</td>\n",
              "      <td>37968.72</td>\n",
              "      <td>1</td>\n",
              "      <td>5</td>\n",
              "      <td>5</td>\n",
              "      <td>155</td>\n",
              "      <td>5</td>\n",
              "      <td>can't lose</td>\n",
              "    </tr>\n",
              "    <tr>\n",
              "      <th>1458</th>\n",
              "      <td>1031454</td>\n",
              "      <td>PH</td>\n",
              "      <td>267</td>\n",
              "      <td>23</td>\n",
              "      <td>31833.30</td>\n",
              "      <td>1</td>\n",
              "      <td>5</td>\n",
              "      <td>5</td>\n",
              "      <td>155</td>\n",
              "      <td>5</td>\n",
              "      <td>can't lose</td>\n",
              "    </tr>\n",
              "    <tr>\n",
              "      <th>5437</th>\n",
              "      <td>2809158</td>\n",
              "      <td>IN</td>\n",
              "      <td>274</td>\n",
              "      <td>12</td>\n",
              "      <td>27150.12</td>\n",
              "      <td>1</td>\n",
              "      <td>5</td>\n",
              "      <td>5</td>\n",
              "      <td>155</td>\n",
              "      <td>5</td>\n",
              "      <td>can't lose</td>\n",
              "    </tr>\n",
              "    <tr>\n",
              "      <th>14644</th>\n",
              "      <td>4326906</td>\n",
              "      <td>IN</td>\n",
              "      <td>337</td>\n",
              "      <td>11</td>\n",
              "      <td>22351.68</td>\n",
              "      <td>1</td>\n",
              "      <td>5</td>\n",
              "      <td>5</td>\n",
              "      <td>155</td>\n",
              "      <td>5</td>\n",
              "      <td>can't lose</td>\n",
              "    </tr>\n",
              "    <tr>\n",
              "      <th>259</th>\n",
              "      <td>668070</td>\n",
              "      <td>MM</td>\n",
              "      <td>267</td>\n",
              "      <td>11</td>\n",
              "      <td>21886.92</td>\n",
              "      <td>1</td>\n",
              "      <td>5</td>\n",
              "      <td>5</td>\n",
              "      <td>155</td>\n",
              "      <td>5</td>\n",
              "      <td>can't lose</td>\n",
              "    </tr>\n",
              "    <tr>\n",
              "      <th>15331</th>\n",
              "      <td>4418268</td>\n",
              "      <td>SA</td>\n",
              "      <td>302</td>\n",
              "      <td>10</td>\n",
              "      <td>14295.54</td>\n",
              "      <td>1</td>\n",
              "      <td>5</td>\n",
              "      <td>5</td>\n",
              "      <td>155</td>\n",
              "      <td>5</td>\n",
              "      <td>can't lose</td>\n",
              "    </tr>\n",
              "  </tbody>\n",
              "</table>\n",
              "</div>"
            ],
            "text/plain": [
              "            id country  recency  frequency  ...  m  rfm_score  fm     segment\n",
              "13028  4096386      JP      260        105  ...  5        155   5  can't lose\n",
              "3502   2443284      IN      246         10  ...  5        155   5  can't lose\n",
              "14174  4262646      IN      316         10  ...  5        155   5  can't lose\n",
              "2435   1803672      IN      267         12  ...  5        155   5  can't lose\n",
              "13254  4132968      VN      253         26  ...  5        155   5  can't lose\n",
              "11222  3815274      IN      267         11  ...  5        155   5  can't lose\n",
              "1458   1031454      PH      267         23  ...  5        155   5  can't lose\n",
              "5437   2809158      IN      274         12  ...  5        155   5  can't lose\n",
              "14644  4326906      IN      337         11  ...  5        155   5  can't lose\n",
              "259     668070      MM      267         11  ...  5        155   5  can't lose\n",
              "15331  4418268      SA      302         10  ...  5        155   5  can't lose\n",
              "\n",
              "[11 rows x 11 columns]"
            ]
          },
          "metadata": {
            "tags": []
          },
          "execution_count": 61
        }
      ]
    },
    {
      "cell_type": "code",
      "metadata": {
        "colab": {
          "base_uri": "https://localhost:8080/",
          "height": 359
        },
        "id": "eXm8JQyAdxL0",
        "outputId": "30f0395e-fa90-4a39-b020-b27aad9d3996"
      },
      "source": [
        "rfm[rfm['segment']==\"need attention\"].sort_values(by='monetary', ascending=False).head(10)"
      ],
      "execution_count": null,
      "outputs": [
        {
          "output_type": "execute_result",
          "data": {
            "text/html": [
              "<div>\n",
              "<style scoped>\n",
              "    .dataframe tbody tr th:only-of-type {\n",
              "        vertical-align: middle;\n",
              "    }\n",
              "\n",
              "    .dataframe tbody tr th {\n",
              "        vertical-align: top;\n",
              "    }\n",
              "\n",
              "    .dataframe thead th {\n",
              "        text-align: right;\n",
              "    }\n",
              "</style>\n",
              "<table border=\"1\" class=\"dataframe\">\n",
              "  <thead>\n",
              "    <tr style=\"text-align: right;\">\n",
              "      <th></th>\n",
              "      <th>id</th>\n",
              "      <th>country</th>\n",
              "      <th>recency</th>\n",
              "      <th>frequency</th>\n",
              "      <th>monetary</th>\n",
              "      <th>r</th>\n",
              "      <th>f</th>\n",
              "      <th>m</th>\n",
              "      <th>rfm_score</th>\n",
              "      <th>fm</th>\n",
              "      <th>segment</th>\n",
              "    </tr>\n",
              "  </thead>\n",
              "  <tbody>\n",
              "    <tr>\n",
              "      <th>8245</th>\n",
              "      <td>3242664</td>\n",
              "      <td>TR</td>\n",
              "      <td>64</td>\n",
              "      <td>1</td>\n",
              "      <td>73823.58</td>\n",
              "      <td>3</td>\n",
              "      <td>1</td>\n",
              "      <td>5</td>\n",
              "      <td>315</td>\n",
              "      <td>3</td>\n",
              "      <td>need attention</td>\n",
              "    </tr>\n",
              "    <tr>\n",
              "      <th>13065</th>\n",
              "      <td>4107798</td>\n",
              "      <td>JP</td>\n",
              "      <td>120</td>\n",
              "      <td>2</td>\n",
              "      <td>67257.48</td>\n",
              "      <td>3</td>\n",
              "      <td>2</td>\n",
              "      <td>5</td>\n",
              "      <td>325</td>\n",
              "      <td>3</td>\n",
              "      <td>need attention</td>\n",
              "    </tr>\n",
              "    <tr>\n",
              "      <th>9847</th>\n",
              "      <td>3561900</td>\n",
              "      <td>ID</td>\n",
              "      <td>120</td>\n",
              "      <td>1</td>\n",
              "      <td>59700.00</td>\n",
              "      <td>3</td>\n",
              "      <td>1</td>\n",
              "      <td>5</td>\n",
              "      <td>315</td>\n",
              "      <td>3</td>\n",
              "      <td>need attention</td>\n",
              "    </tr>\n",
              "    <tr>\n",
              "      <th>6626</th>\n",
              "      <td>2921070</td>\n",
              "      <td>ID</td>\n",
              "      <td>71</td>\n",
              "      <td>2</td>\n",
              "      <td>34730.22</td>\n",
              "      <td>3</td>\n",
              "      <td>2</td>\n",
              "      <td>5</td>\n",
              "      <td>325</td>\n",
              "      <td>3</td>\n",
              "      <td>need attention</td>\n",
              "    </tr>\n",
              "    <tr>\n",
              "      <th>10009</th>\n",
              "      <td>3587772</td>\n",
              "      <td>CN</td>\n",
              "      <td>92</td>\n",
              "      <td>1</td>\n",
              "      <td>29961.00</td>\n",
              "      <td>3</td>\n",
              "      <td>1</td>\n",
              "      <td>5</td>\n",
              "      <td>315</td>\n",
              "      <td>3</td>\n",
              "      <td>need attention</td>\n",
              "    </tr>\n",
              "    <tr>\n",
              "      <th>3087</th>\n",
              "      <td>2131194</td>\n",
              "      <td>JP</td>\n",
              "      <td>57</td>\n",
              "      <td>1</td>\n",
              "      <td>28543.74</td>\n",
              "      <td>3</td>\n",
              "      <td>1</td>\n",
              "      <td>5</td>\n",
              "      <td>315</td>\n",
              "      <td>3</td>\n",
              "      <td>need attention</td>\n",
              "    </tr>\n",
              "    <tr>\n",
              "      <th>13463</th>\n",
              "      <td>4160490</td>\n",
              "      <td>JP</td>\n",
              "      <td>99</td>\n",
              "      <td>1</td>\n",
              "      <td>24842.22</td>\n",
              "      <td>3</td>\n",
              "      <td>1</td>\n",
              "      <td>5</td>\n",
              "      <td>315</td>\n",
              "      <td>3</td>\n",
              "      <td>need attention</td>\n",
              "    </tr>\n",
              "    <tr>\n",
              "      <th>1251</th>\n",
              "      <td>993414</td>\n",
              "      <td>KR</td>\n",
              "      <td>71</td>\n",
              "      <td>2</td>\n",
              "      <td>22018.32</td>\n",
              "      <td>3</td>\n",
              "      <td>2</td>\n",
              "      <td>5</td>\n",
              "      <td>325</td>\n",
              "      <td>3</td>\n",
              "      <td>need attention</td>\n",
              "    </tr>\n",
              "    <tr>\n",
              "      <th>3936</th>\n",
              "      <td>2544588</td>\n",
              "      <td>BD</td>\n",
              "      <td>71</td>\n",
              "      <td>2</td>\n",
              "      <td>19043.82</td>\n",
              "      <td>3</td>\n",
              "      <td>2</td>\n",
              "      <td>5</td>\n",
              "      <td>325</td>\n",
              "      <td>3</td>\n",
              "      <td>need attention</td>\n",
              "    </tr>\n",
              "    <tr>\n",
              "      <th>3616</th>\n",
              "      <td>2468010</td>\n",
              "      <td>TH</td>\n",
              "      <td>85</td>\n",
              "      <td>2</td>\n",
              "      <td>18599.58</td>\n",
              "      <td>3</td>\n",
              "      <td>2</td>\n",
              "      <td>5</td>\n",
              "      <td>325</td>\n",
              "      <td>3</td>\n",
              "      <td>need attention</td>\n",
              "    </tr>\n",
              "  </tbody>\n",
              "</table>\n",
              "</div>"
            ],
            "text/plain": [
              "            id country  recency  frequency  ...  m  rfm_score  fm         segment\n",
              "8245   3242664      TR       64          1  ...  5        315   3  need attention\n",
              "13065  4107798      JP      120          2  ...  5        325   3  need attention\n",
              "9847   3561900      ID      120          1  ...  5        315   3  need attention\n",
              "6626   2921070      ID       71          2  ...  5        325   3  need attention\n",
              "10009  3587772      CN       92          1  ...  5        315   3  need attention\n",
              "3087   2131194      JP       57          1  ...  5        315   3  need attention\n",
              "13463  4160490      JP       99          1  ...  5        315   3  need attention\n",
              "1251    993414      KR       71          2  ...  5        325   3  need attention\n",
              "3936   2544588      BD       71          2  ...  5        325   3  need attention\n",
              "3616   2468010      TH       85          2  ...  5        325   3  need attention\n",
              "\n",
              "[10 rows x 11 columns]"
            ]
          },
          "metadata": {
            "tags": []
          },
          "execution_count": 62
        }
      ]
    },
    {
      "cell_type": "code",
      "metadata": {
        "colab": {
          "base_uri": "https://localhost:8080/",
          "height": 359
        },
        "id": "VOu3i5-4dxL0",
        "outputId": "28480d9a-317a-4a41-df43-6d0f1a68d900"
      },
      "source": [
        "rfm[rfm['segment']=='loyal customers'].sort_values(by='monetary', ascending=False).head(10)"
      ],
      "execution_count": null,
      "outputs": [
        {
          "output_type": "execute_result",
          "data": {
            "text/html": [
              "<div>\n",
              "<style scoped>\n",
              "    .dataframe tbody tr th:only-of-type {\n",
              "        vertical-align: middle;\n",
              "    }\n",
              "\n",
              "    .dataframe tbody tr th {\n",
              "        vertical-align: top;\n",
              "    }\n",
              "\n",
              "    .dataframe thead th {\n",
              "        text-align: right;\n",
              "    }\n",
              "</style>\n",
              "<table border=\"1\" class=\"dataframe\">\n",
              "  <thead>\n",
              "    <tr style=\"text-align: right;\">\n",
              "      <th></th>\n",
              "      <th>id</th>\n",
              "      <th>country</th>\n",
              "      <th>recency</th>\n",
              "      <th>frequency</th>\n",
              "      <th>monetary</th>\n",
              "      <th>r</th>\n",
              "      <th>f</th>\n",
              "      <th>m</th>\n",
              "      <th>rfm_score</th>\n",
              "      <th>fm</th>\n",
              "      <th>segment</th>\n",
              "    </tr>\n",
              "  </thead>\n",
              "  <tbody>\n",
              "    <tr>\n",
              "      <th>15420</th>\n",
              "      <td>4422780</td>\n",
              "      <td>TR</td>\n",
              "      <td>92</td>\n",
              "      <td>13</td>\n",
              "      <td>2315341.14</td>\n",
              "      <td>3</td>\n",
              "      <td>5</td>\n",
              "      <td>5</td>\n",
              "      <td>355</td>\n",
              "      <td>5</td>\n",
              "      <td>loyal customers</td>\n",
              "    </tr>\n",
              "    <tr>\n",
              "      <th>2882</th>\n",
              "      <td>2030526</td>\n",
              "      <td>JP</td>\n",
              "      <td>22</td>\n",
              "      <td>50</td>\n",
              "      <td>1519339.86</td>\n",
              "      <td>4</td>\n",
              "      <td>5</td>\n",
              "      <td>5</td>\n",
              "      <td>455</td>\n",
              "      <td>5</td>\n",
              "      <td>loyal customers</td>\n",
              "    </tr>\n",
              "    <tr>\n",
              "      <th>3220</th>\n",
              "      <td>2182446</td>\n",
              "      <td>JP</td>\n",
              "      <td>29</td>\n",
              "      <td>18</td>\n",
              "      <td>1492057.68</td>\n",
              "      <td>4</td>\n",
              "      <td>5</td>\n",
              "      <td>5</td>\n",
              "      <td>455</td>\n",
              "      <td>5</td>\n",
              "      <td>loyal customers</td>\n",
              "    </tr>\n",
              "    <tr>\n",
              "      <th>12660</th>\n",
              "      <td>4041366</td>\n",
              "      <td>PK</td>\n",
              "      <td>50</td>\n",
              "      <td>9</td>\n",
              "      <td>736626.96</td>\n",
              "      <td>4</td>\n",
              "      <td>4</td>\n",
              "      <td>5</td>\n",
              "      <td>445</td>\n",
              "      <td>4</td>\n",
              "      <td>loyal customers</td>\n",
              "    </tr>\n",
              "    <tr>\n",
              "      <th>5612</th>\n",
              "      <td>2853774</td>\n",
              "      <td>VN</td>\n",
              "      <td>8</td>\n",
              "      <td>6</td>\n",
              "      <td>712230.00</td>\n",
              "      <td>5</td>\n",
              "      <td>4</td>\n",
              "      <td>5</td>\n",
              "      <td>545</td>\n",
              "      <td>4</td>\n",
              "      <td>loyal customers</td>\n",
              "    </tr>\n",
              "    <tr>\n",
              "      <th>10343</th>\n",
              "      <td>3649728</td>\n",
              "      <td>PH</td>\n",
              "      <td>29</td>\n",
              "      <td>81</td>\n",
              "      <td>579167.52</td>\n",
              "      <td>4</td>\n",
              "      <td>5</td>\n",
              "      <td>5</td>\n",
              "      <td>455</td>\n",
              "      <td>5</td>\n",
              "      <td>loyal customers</td>\n",
              "    </tr>\n",
              "    <tr>\n",
              "      <th>8284</th>\n",
              "      <td>3248568</td>\n",
              "      <td>TR</td>\n",
              "      <td>64</td>\n",
              "      <td>3</td>\n",
              "      <td>573792.72</td>\n",
              "      <td>3</td>\n",
              "      <td>3</td>\n",
              "      <td>5</td>\n",
              "      <td>335</td>\n",
              "      <td>4</td>\n",
              "      <td>loyal customers</td>\n",
              "    </tr>\n",
              "    <tr>\n",
              "      <th>15450</th>\n",
              "      <td>4427148</td>\n",
              "      <td>IN</td>\n",
              "      <td>29</td>\n",
              "      <td>14</td>\n",
              "      <td>502843.32</td>\n",
              "      <td>4</td>\n",
              "      <td>5</td>\n",
              "      <td>5</td>\n",
              "      <td>455</td>\n",
              "      <td>5</td>\n",
              "      <td>loyal customers</td>\n",
              "    </tr>\n",
              "    <tr>\n",
              "      <th>14678</th>\n",
              "      <td>4332210</td>\n",
              "      <td>ID</td>\n",
              "      <td>43</td>\n",
              "      <td>21</td>\n",
              "      <td>474773.40</td>\n",
              "      <td>4</td>\n",
              "      <td>5</td>\n",
              "      <td>5</td>\n",
              "      <td>455</td>\n",
              "      <td>5</td>\n",
              "      <td>loyal customers</td>\n",
              "    </tr>\n",
              "    <tr>\n",
              "      <th>2802</th>\n",
              "      <td>1985592</td>\n",
              "      <td>IQ</td>\n",
              "      <td>78</td>\n",
              "      <td>4</td>\n",
              "      <td>460390.86</td>\n",
              "      <td>3</td>\n",
              "      <td>3</td>\n",
              "      <td>5</td>\n",
              "      <td>335</td>\n",
              "      <td>4</td>\n",
              "      <td>loyal customers</td>\n",
              "    </tr>\n",
              "  </tbody>\n",
              "</table>\n",
              "</div>"
            ],
            "text/plain": [
              "            id country  recency  frequency  ...  m  rfm_score  fm          segment\n",
              "15420  4422780      TR       92         13  ...  5        355   5  loyal customers\n",
              "2882   2030526      JP       22         50  ...  5        455   5  loyal customers\n",
              "3220   2182446      JP       29         18  ...  5        455   5  loyal customers\n",
              "12660  4041366      PK       50          9  ...  5        445   4  loyal customers\n",
              "5612   2853774      VN        8          6  ...  5        545   4  loyal customers\n",
              "10343  3649728      PH       29         81  ...  5        455   5  loyal customers\n",
              "8284   3248568      TR       64          3  ...  5        335   4  loyal customers\n",
              "15450  4427148      IN       29         14  ...  5        455   5  loyal customers\n",
              "14678  4332210      ID       43         21  ...  5        455   5  loyal customers\n",
              "2802   1985592      IQ       78          4  ...  5        335   4  loyal customers\n",
              "\n",
              "[10 rows x 11 columns]"
            ]
          },
          "metadata": {
            "tags": []
          },
          "execution_count": 63
        }
      ]
    },
    {
      "cell_type": "code",
      "metadata": {
        "colab": {
          "base_uri": "https://localhost:8080/",
          "height": 359
        },
        "id": "75iaRkT5dxL0",
        "outputId": "ba9ffed2-58b4-4fd1-837b-123f18b9d703"
      },
      "source": [
        "rfm[rfm['segment']=='champions'].sort_values(by='monetary', ascending=False).head(10)"
      ],
      "execution_count": null,
      "outputs": [
        {
          "output_type": "execute_result",
          "data": {
            "text/html": [
              "<div>\n",
              "<style scoped>\n",
              "    .dataframe tbody tr th:only-of-type {\n",
              "        vertical-align: middle;\n",
              "    }\n",
              "\n",
              "    .dataframe tbody tr th {\n",
              "        vertical-align: top;\n",
              "    }\n",
              "\n",
              "    .dataframe thead th {\n",
              "        text-align: right;\n",
              "    }\n",
              "</style>\n",
              "<table border=\"1\" class=\"dataframe\">\n",
              "  <thead>\n",
              "    <tr style=\"text-align: right;\">\n",
              "      <th></th>\n",
              "      <th>id</th>\n",
              "      <th>country</th>\n",
              "      <th>recency</th>\n",
              "      <th>frequency</th>\n",
              "      <th>monetary</th>\n",
              "      <th>r</th>\n",
              "      <th>f</th>\n",
              "      <th>m</th>\n",
              "      <th>rfm_score</th>\n",
              "      <th>fm</th>\n",
              "      <th>segment</th>\n",
              "    </tr>\n",
              "  </thead>\n",
              "  <tbody>\n",
              "    <tr>\n",
              "      <th>173</th>\n",
              "      <td>638544</td>\n",
              "      <td>CN</td>\n",
              "      <td>1</td>\n",
              "      <td>217</td>\n",
              "      <td>21482332.56</td>\n",
              "      <td>5</td>\n",
              "      <td>5</td>\n",
              "      <td>5</td>\n",
              "      <td>555</td>\n",
              "      <td>5</td>\n",
              "      <td>champions</td>\n",
              "    </tr>\n",
              "    <tr>\n",
              "      <th>15436</th>\n",
              "      <td>4424580</td>\n",
              "      <td>CN</td>\n",
              "      <td>1</td>\n",
              "      <td>104</td>\n",
              "      <td>16912322.46</td>\n",
              "      <td>5</td>\n",
              "      <td>5</td>\n",
              "      <td>5</td>\n",
              "      <td>555</td>\n",
              "      <td>5</td>\n",
              "      <td>champions</td>\n",
              "    </tr>\n",
              "    <tr>\n",
              "      <th>14754</th>\n",
              "      <td>4341960</td>\n",
              "      <td>TR</td>\n",
              "      <td>1</td>\n",
              "      <td>200</td>\n",
              "      <td>16550997.90</td>\n",
              "      <td>5</td>\n",
              "      <td>5</td>\n",
              "      <td>5</td>\n",
              "      <td>555</td>\n",
              "      <td>5</td>\n",
              "      <td>champions</td>\n",
              "    </tr>\n",
              "    <tr>\n",
              "      <th>11942</th>\n",
              "      <td>3929094</td>\n",
              "      <td>ID</td>\n",
              "      <td>1</td>\n",
              "      <td>470</td>\n",
              "      <td>8748884.64</td>\n",
              "      <td>5</td>\n",
              "      <td>5</td>\n",
              "      <td>5</td>\n",
              "      <td>555</td>\n",
              "      <td>5</td>\n",
              "      <td>champions</td>\n",
              "    </tr>\n",
              "    <tr>\n",
              "      <th>9626</th>\n",
              "      <td>3520734</td>\n",
              "      <td>JP</td>\n",
              "      <td>1</td>\n",
              "      <td>198</td>\n",
              "      <td>6207519.96</td>\n",
              "      <td>5</td>\n",
              "      <td>5</td>\n",
              "      <td>5</td>\n",
              "      <td>555</td>\n",
              "      <td>5</td>\n",
              "      <td>champions</td>\n",
              "    </tr>\n",
              "    <tr>\n",
              "      <th>15915</th>\n",
              "      <td>4494150</td>\n",
              "      <td>TR</td>\n",
              "      <td>1</td>\n",
              "      <td>57</td>\n",
              "      <td>4874668.14</td>\n",
              "      <td>5</td>\n",
              "      <td>5</td>\n",
              "      <td>5</td>\n",
              "      <td>555</td>\n",
              "      <td>5</td>\n",
              "      <td>champions</td>\n",
              "    </tr>\n",
              "    <tr>\n",
              "      <th>10168</th>\n",
              "      <td>3618438</td>\n",
              "      <td>KR</td>\n",
              "      <td>8</td>\n",
              "      <td>1020</td>\n",
              "      <td>4615660.08</td>\n",
              "      <td>5</td>\n",
              "      <td>5</td>\n",
              "      <td>5</td>\n",
              "      <td>555</td>\n",
              "      <td>5</td>\n",
              "      <td>champions</td>\n",
              "    </tr>\n",
              "    <tr>\n",
              "      <th>14027</th>\n",
              "      <td>4245048</td>\n",
              "      <td>PH</td>\n",
              "      <td>1</td>\n",
              "      <td>993</td>\n",
              "      <td>4358515.98</td>\n",
              "      <td>5</td>\n",
              "      <td>5</td>\n",
              "      <td>5</td>\n",
              "      <td>555</td>\n",
              "      <td>5</td>\n",
              "      <td>champions</td>\n",
              "    </tr>\n",
              "    <tr>\n",
              "      <th>3050</th>\n",
              "      <td>2111100</td>\n",
              "      <td>IN</td>\n",
              "      <td>1</td>\n",
              "      <td>876</td>\n",
              "      <td>4270717.80</td>\n",
              "      <td>5</td>\n",
              "      <td>5</td>\n",
              "      <td>5</td>\n",
              "      <td>555</td>\n",
              "      <td>5</td>\n",
              "      <td>champions</td>\n",
              "    </tr>\n",
              "    <tr>\n",
              "      <th>11742</th>\n",
              "      <td>3894492</td>\n",
              "      <td>PH</td>\n",
              "      <td>8</td>\n",
              "      <td>63</td>\n",
              "      <td>4106366.22</td>\n",
              "      <td>5</td>\n",
              "      <td>5</td>\n",
              "      <td>5</td>\n",
              "      <td>555</td>\n",
              "      <td>5</td>\n",
              "      <td>champions</td>\n",
              "    </tr>\n",
              "  </tbody>\n",
              "</table>\n",
              "</div>"
            ],
            "text/plain": [
              "            id country  recency  frequency  ...  m  rfm_score  fm    segment\n",
              "173     638544      CN        1        217  ...  5        555   5  champions\n",
              "15436  4424580      CN        1        104  ...  5        555   5  champions\n",
              "14754  4341960      TR        1        200  ...  5        555   5  champions\n",
              "11942  3929094      ID        1        470  ...  5        555   5  champions\n",
              "9626   3520734      JP        1        198  ...  5        555   5  champions\n",
              "15915  4494150      TR        1         57  ...  5        555   5  champions\n",
              "10168  3618438      KR        8       1020  ...  5        555   5  champions\n",
              "14027  4245048      PH        1        993  ...  5        555   5  champions\n",
              "3050   2111100      IN        1        876  ...  5        555   5  champions\n",
              "11742  3894492      PH        8         63  ...  5        555   5  champions\n",
              "\n",
              "[10 rows x 11 columns]"
            ]
          },
          "metadata": {
            "tags": []
          },
          "execution_count": 64
        }
      ]
    },
    {
      "cell_type": "code",
      "metadata": {
        "colab": {
          "base_uri": "https://localhost:8080/"
        },
        "id": "hV-0pAyTdxL0",
        "outputId": "d2a125fa-a026-4da2-f8ff-a5cf83ad9fc8"
      },
      "source": [
        "rfm['monetary'].mean()"
      ],
      "execution_count": null,
      "outputs": [
        {
          "output_type": "execute_result",
          "data": {
            "text/plain": [
              "21629.6111497373"
            ]
          },
          "metadata": {
            "tags": []
          },
          "execution_count": 65
        }
      ]
    },
    {
      "cell_type": "code",
      "metadata": {
        "colab": {
          "base_uri": "https://localhost:8080/",
          "height": 297
        },
        "id": "lmTaBuNrdxL0",
        "outputId": "835c6f95-a0b6-4c0e-81d9-8132dc30d69f"
      },
      "source": [
        "# Customers with monetary over the average that need attention\n",
        "\n",
        "rfm[(rfm['monetary']>rfm['monetary'].mean()) & (rfm['segment']=='need attention')]\\\n",
        "    .sort_values(by='monetary', ascending=False)"
      ],
      "execution_count": null,
      "outputs": [
        {
          "output_type": "execute_result",
          "data": {
            "text/html": [
              "<div>\n",
              "<style scoped>\n",
              "    .dataframe tbody tr th:only-of-type {\n",
              "        vertical-align: middle;\n",
              "    }\n",
              "\n",
              "    .dataframe tbody tr th {\n",
              "        vertical-align: top;\n",
              "    }\n",
              "\n",
              "    .dataframe thead th {\n",
              "        text-align: right;\n",
              "    }\n",
              "</style>\n",
              "<table border=\"1\" class=\"dataframe\">\n",
              "  <thead>\n",
              "    <tr style=\"text-align: right;\">\n",
              "      <th></th>\n",
              "      <th>id</th>\n",
              "      <th>country</th>\n",
              "      <th>recency</th>\n",
              "      <th>frequency</th>\n",
              "      <th>monetary</th>\n",
              "      <th>r</th>\n",
              "      <th>f</th>\n",
              "      <th>m</th>\n",
              "      <th>rfm_score</th>\n",
              "      <th>fm</th>\n",
              "      <th>segment</th>\n",
              "    </tr>\n",
              "  </thead>\n",
              "  <tbody>\n",
              "    <tr>\n",
              "      <th>8245</th>\n",
              "      <td>3242664</td>\n",
              "      <td>TR</td>\n",
              "      <td>64</td>\n",
              "      <td>1</td>\n",
              "      <td>73823.58</td>\n",
              "      <td>3</td>\n",
              "      <td>1</td>\n",
              "      <td>5</td>\n",
              "      <td>315</td>\n",
              "      <td>3</td>\n",
              "      <td>need attention</td>\n",
              "    </tr>\n",
              "    <tr>\n",
              "      <th>13065</th>\n",
              "      <td>4107798</td>\n",
              "      <td>JP</td>\n",
              "      <td>120</td>\n",
              "      <td>2</td>\n",
              "      <td>67257.48</td>\n",
              "      <td>3</td>\n",
              "      <td>2</td>\n",
              "      <td>5</td>\n",
              "      <td>325</td>\n",
              "      <td>3</td>\n",
              "      <td>need attention</td>\n",
              "    </tr>\n",
              "    <tr>\n",
              "      <th>9847</th>\n",
              "      <td>3561900</td>\n",
              "      <td>ID</td>\n",
              "      <td>120</td>\n",
              "      <td>1</td>\n",
              "      <td>59700.00</td>\n",
              "      <td>3</td>\n",
              "      <td>1</td>\n",
              "      <td>5</td>\n",
              "      <td>315</td>\n",
              "      <td>3</td>\n",
              "      <td>need attention</td>\n",
              "    </tr>\n",
              "    <tr>\n",
              "      <th>6626</th>\n",
              "      <td>2921070</td>\n",
              "      <td>ID</td>\n",
              "      <td>71</td>\n",
              "      <td>2</td>\n",
              "      <td>34730.22</td>\n",
              "      <td>3</td>\n",
              "      <td>2</td>\n",
              "      <td>5</td>\n",
              "      <td>325</td>\n",
              "      <td>3</td>\n",
              "      <td>need attention</td>\n",
              "    </tr>\n",
              "    <tr>\n",
              "      <th>10009</th>\n",
              "      <td>3587772</td>\n",
              "      <td>CN</td>\n",
              "      <td>92</td>\n",
              "      <td>1</td>\n",
              "      <td>29961.00</td>\n",
              "      <td>3</td>\n",
              "      <td>1</td>\n",
              "      <td>5</td>\n",
              "      <td>315</td>\n",
              "      <td>3</td>\n",
              "      <td>need attention</td>\n",
              "    </tr>\n",
              "    <tr>\n",
              "      <th>3087</th>\n",
              "      <td>2131194</td>\n",
              "      <td>JP</td>\n",
              "      <td>57</td>\n",
              "      <td>1</td>\n",
              "      <td>28543.74</td>\n",
              "      <td>3</td>\n",
              "      <td>1</td>\n",
              "      <td>5</td>\n",
              "      <td>315</td>\n",
              "      <td>3</td>\n",
              "      <td>need attention</td>\n",
              "    </tr>\n",
              "    <tr>\n",
              "      <th>13463</th>\n",
              "      <td>4160490</td>\n",
              "      <td>JP</td>\n",
              "      <td>99</td>\n",
              "      <td>1</td>\n",
              "      <td>24842.22</td>\n",
              "      <td>3</td>\n",
              "      <td>1</td>\n",
              "      <td>5</td>\n",
              "      <td>315</td>\n",
              "      <td>3</td>\n",
              "      <td>need attention</td>\n",
              "    </tr>\n",
              "    <tr>\n",
              "      <th>1251</th>\n",
              "      <td>993414</td>\n",
              "      <td>KR</td>\n",
              "      <td>71</td>\n",
              "      <td>2</td>\n",
              "      <td>22018.32</td>\n",
              "      <td>3</td>\n",
              "      <td>2</td>\n",
              "      <td>5</td>\n",
              "      <td>325</td>\n",
              "      <td>3</td>\n",
              "      <td>need attention</td>\n",
              "    </tr>\n",
              "  </tbody>\n",
              "</table>\n",
              "</div>"
            ],
            "text/plain": [
              "            id country  recency  frequency  ...  m  rfm_score  fm         segment\n",
              "8245   3242664      TR       64          1  ...  5        315   3  need attention\n",
              "13065  4107798      JP      120          2  ...  5        325   3  need attention\n",
              "9847   3561900      ID      120          1  ...  5        315   3  need attention\n",
              "6626   2921070      ID       71          2  ...  5        325   3  need attention\n",
              "10009  3587772      CN       92          1  ...  5        315   3  need attention\n",
              "3087   2131194      JP       57          1  ...  5        315   3  need attention\n",
              "13463  4160490      JP       99          1  ...  5        315   3  need attention\n",
              "1251    993414      KR       71          2  ...  5        325   3  need attention\n",
              "\n",
              "[8 rows x 11 columns]"
            ]
          },
          "metadata": {
            "tags": []
          },
          "execution_count": 66
        }
      ]
    },
    {
      "cell_type": "code",
      "metadata": {
        "colab": {
          "base_uri": "https://localhost:8080/",
          "height": 258
        },
        "id": "rGSxrYZ2dxL0",
        "outputId": "adec5371-909d-45f8-e0ee-bd68dad6d7b7"
      },
      "source": [
        "rfm.plot.scatter(x='recency', y='frequency', c='m', cmap='rainbow');"
      ],
      "execution_count": null,
      "outputs": [
        {
          "output_type": "display_data",
          "data": {
            "image/png": "[encoded data removed]",
            "text/plain": [
              "<Figure size 432x288 with 2 Axes>"
            ]
          },
          "metadata": {
            "tags": [],
            "needs_background": "light"
          }
        }
      ]
    },
    {
      "cell_type": "code",
      "metadata": {
        "id": "McQZmdZDdxL0"
      },
      "source": [
        "# We export the dataframe to a CSV file for later processing it in Power BI\n",
        "# (Added parameter float_format='%.2f' for getting numbers with two decimals)\n",
        "\n",
        "rfm.to_csv('rfm_asia.csv', encoding='utf-8', index=False, float_format='%.2f')"
      ],
      "execution_count": null,
      "outputs": []
    }
  ]
}