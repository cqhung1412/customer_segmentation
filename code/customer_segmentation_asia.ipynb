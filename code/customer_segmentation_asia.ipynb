{
 "cells": [
  {
   "cell_type": "markdown",
   "metadata": {
    "application/vnd.databricks.v1+cell": {
     "cellMetadata": {},
     "inputWidgets": {},
     "nuid": "f7aca291-63c6-4295-b303-70b9c931ea6b",
     "showTitle": false,
     "title": ""
    },
    "colab_type": "text",
    "id": "view-in-github"
   },
   "source": [
    "<a href=\"https://colab.research.google.com/github/daniel-isidro/customer_segmentation/blob/main/code/customer_segmentation_asia.ipynb\" target=\"_parent\"><img src=\"https://colab.research.google.com/assets/colab-badge.svg\" alt=\"Open In Colab\"/></a>"
   ]
  },
  {
   "cell_type": "code",
   "execution_count": 0,
   "metadata": {
    "application/vnd.databricks.v1+cell": {
     "cellMetadata": {},
     "inputWidgets": {},
     "nuid": "d28d7aa5-27bb-4397-9959-54f222494886",
     "showTitle": false,
     "title": ""
    },
    "id": "PGvPDrFRFryZ"
   },
   "outputs": [],
   "source": [
    "!pip install -U dataprep numpy pandas markupsafe==2.0.1"
   ]
  },
  {
   "cell_type": "code",
   "execution_count": 0,
   "metadata": {
    "application/vnd.databricks.v1+cell": {
     "cellMetadata": {},
     "inputWidgets": {},
     "nuid": "d8ec3648-26bc-479a-babe-85eaa27da82d",
     "showTitle": false,
     "title": ""
    },
    "id": "FCEovcSJdxLw"
   },
   "outputs": [],
   "source": [
    "import numpy as np\n",
    "import pandas as pd\n",
    "import math\n",
    "from datetime import timedelta, datetime\n",
    "from dataprep.clean import clean_country\n",
    "import matplotlib.pyplot as plt\n",
    "%matplotlib inline\n",
    "plt.style.use(\"seaborn\")\n",
    "plt.rcParams[\"figure.figsize\"] = (20, 5)"
   ]
  },
  {
   "cell_type": "markdown",
   "metadata": {
    "application/vnd.databricks.v1+cell": {
     "cellMetadata": {},
     "inputWidgets": {},
     "nuid": "86693a4e-2305-4143-8cd2-1e632c99a1ee",
     "showTitle": false,
     "title": ""
    },
    "id": "MmOaye24dxLw"
   },
   "source": [
    "### Exploring and preparing the data"
   ]
  },
  {
   "cell_type": "code",
   "execution_count": 0,
   "metadata": {
    "application/vnd.databricks.v1+cell": {
     "cellMetadata": {},
     "inputWidgets": {},
     "nuid": "d22a6a4f-30dd-4c7a-bc85-76164ce5681e",
     "showTitle": false,
     "title": ""
    },
    "id": "r6hCnPlddxLw"
   },
   "outputs": [],
   "source": [
    "df1 = pd.read_csv('https://raw.githubusercontent.com/daniel-isidro/customer_segmentation/main/data/sales_asia.csv', \n",
    "                  dtype={'week.year': str}, \n",
    "                  sep=';', \n",
    "                  decimal=',')"
   ]
  },
  {
   "cell_type": "code",
   "execution_count": 0,
   "metadata": {
    "application/vnd.databricks.v1+cell": {
     "cellMetadata": {},
     "inputWidgets": {},
     "nuid": "17a753c0-929b-4c65-8d7c-f454942c1011",
     "showTitle": false,
     "title": ""
    },
    "id": "fWwWg0B_xcvi"
   },
   "outputs": [],
   "source": [
    "# We know from domain knowledge that every row is a different sales order"
   ]
  },
  {
   "cell_type": "code",
   "execution_count": 0,
   "metadata": {
    "application/vnd.databricks.v1+cell": {
     "cellMetadata": {},
     "inputWidgets": {},
     "nuid": "64006c87-464e-4cbc-9ae4-064018defc8e",
     "showTitle": false,
     "title": ""
    },
    "colab": {
     "base_uri": "https://localhost:8080/",
     "height": 204
    },
    "id": "b047nH2FdxLw",
    "outputId": "f8c880ff-ca9c-4965-9b74-3f38c9a1e93a"
   },
   "outputs": [],
   "source": [
    "df1.head()"
   ]
  },
  {
   "cell_type": "code",
   "execution_count": 0,
   "metadata": {
    "application/vnd.databricks.v1+cell": {
     "cellMetadata": {},
     "inputWidgets": {},
     "nuid": "9e0b62e7-407e-4af4-813c-76f6dd1277f4",
     "showTitle": false,
     "title": ""
    },
    "colab": {
     "base_uri": "https://localhost:8080/",
     "height": 204
    },
    "id": "h84CBjJbwC55",
    "outputId": "00e596cd-4f28-4948-c177-af25b42e4c01"
   },
   "outputs": [],
   "source": [
    "df1.tail()"
   ]
  },
  {
   "cell_type": "code",
   "execution_count": 0,
   "metadata": {
    "application/vnd.databricks.v1+cell": {
     "cellMetadata": {},
     "inputWidgets": {},
     "nuid": "2dc46c5b-0482-4026-a619-5d5c0302fd5e",
     "showTitle": false,
     "title": ""
    },
    "colab": {
     "base_uri": "https://localhost:8080/"
    },
    "id": "MIVB5Y5jdxLx",
    "outputId": "e330a5e0-c1b3-47f9-9b8d-66d016a129e5"
   },
   "outputs": [],
   "source": [
    "df1.shape"
   ]
  },
  {
   "cell_type": "code",
   "execution_count": 0,
   "metadata": {
    "application/vnd.databricks.v1+cell": {
     "cellMetadata": {},
     "inputWidgets": {},
     "nuid": "ba5ca6ed-ea2d-4c59-be1f-7728de523552",
     "showTitle": false,
     "title": ""
    },
    "colab": {
     "base_uri": "https://localhost:8080/"
    },
    "id": "R5YQvU9VdxLx",
    "outputId": "ec680aa1-8a1f-411a-c95b-33edd2927791",
    "scrolled": true
   },
   "outputs": [],
   "source": [
    "df1.info()"
   ]
  },
  {
   "cell_type": "code",
   "execution_count": 0,
   "metadata": {
    "application/vnd.databricks.v1+cell": {
     "cellMetadata": {},
     "inputWidgets": {},
     "nuid": "39e8aa8f-1af0-4b6a-b1f7-6d63f2b71f2d",
     "showTitle": false,
     "title": ""
    },
    "id": "D0ihJZAVdxLx"
   },
   "outputs": [],
   "source": [
    "# Splitting 'week.year' column on '.' and creating 'week' and 'year' columns\n",
    "\n",
    "df1['week'] = df1['week.year'].astype(str).str.split('.').str[0]\n",
    "df1['year'] = df1['week.year'].astype(str).str.split('.').str[1]"
   ]
  },
  {
   "cell_type": "code",
   "execution_count": 0,
   "metadata": {
    "application/vnd.databricks.v1+cell": {
     "cellMetadata": {},
     "inputWidgets": {},
     "nuid": "444ffdf2-43a8-4343-a93f-7a9c7cfa6a1b",
     "showTitle": false,
     "title": ""
    },
    "colab": {
     "base_uri": "https://localhost:8080/",
     "height": 204
    },
    "id": "OI2P55WCv2ZV",
    "outputId": "cc7bba7f-7d69-4c56-ef95-11cdf0a7a3bd"
   },
   "outputs": [],
   "source": [
    "df1.head()"
   ]
  },
  {
   "cell_type": "code",
   "execution_count": 0,
   "metadata": {
    "application/vnd.databricks.v1+cell": {
     "cellMetadata": {},
     "inputWidgets": {},
     "nuid": "b77bd583-3ce0-4c17-bd12-f8d34be97654",
     "showTitle": false,
     "title": ""
    },
    "id": "I-36EMcXdxLx"
   },
   "outputs": [],
   "source": [
    "# Converting year and week into date, using Monday as first day of the week\n",
    "\n",
    "df1['date'] = pd.to_datetime(df1['year'].map(str) + df1['week'].map(str) + '-1', format='%Y%W-%w')"
   ]
  },
  {
   "cell_type": "code",
   "execution_count": 0,
   "metadata": {
    "application/vnd.databricks.v1+cell": {
     "cellMetadata": {},
     "inputWidgets": {},
     "nuid": "a4b94462-e250-4d55-a310-a3ed87499d91",
     "showTitle": false,
     "title": ""
    },
    "colab": {
     "base_uri": "https://localhost:8080/",
     "height": 204
    },
    "id": "OBqDEwUFyu0B",
    "outputId": "1405d0d2-f02c-454a-f583-5ec0544cedc9"
   },
   "outputs": [],
   "source": [
    "df1.head()"
   ]
  },
  {
   "cell_type": "code",
   "execution_count": 0,
   "metadata": {
    "application/vnd.databricks.v1+cell": {
     "cellMetadata": {},
     "inputWidgets": {},
     "nuid": "9a065d3d-6796-491a-8018-230088b1bb72",
     "showTitle": false,
     "title": ""
    },
    "colab": {
     "base_uri": "https://localhost:8080/"
    },
    "id": "dMrWJNfzdxLx",
    "outputId": "ec5fd58c-7d3e-471f-d439-61b5216563eb"
   },
   "outputs": [],
   "source": [
    "df1.columns"
   ]
  },
  {
   "cell_type": "code",
   "execution_count": 0,
   "metadata": {
    "application/vnd.databricks.v1+cell": {
     "cellMetadata": {},
     "inputWidgets": {},
     "nuid": "10108285-55eb-4b93-a5c4-c5fb93f46d63",
     "showTitle": false,
     "title": ""
    },
    "id": "Ex5z6Kl1dxLx"
   },
   "outputs": [],
   "source": [
    "# Removing unnecesary columns\n",
    "\n",
    "df2 = df1.drop(['week.year', 'week', 'year'], axis=1)"
   ]
  },
  {
   "cell_type": "code",
   "execution_count": 0,
   "metadata": {
    "application/vnd.databricks.v1+cell": {
     "cellMetadata": {},
     "inputWidgets": {},
     "nuid": "c653ad66-381a-4a06-a65a-dc2d3fab88f2",
     "showTitle": false,
     "title": ""
    },
    "colab": {
     "base_uri": "https://localhost:8080/",
     "height": 204
    },
    "id": "C6tCJ3yQzGDN",
    "outputId": "7044e840-a8c7-42c0-d1f9-71fc4602b1a7"
   },
   "outputs": [],
   "source": [
    "df2.head()"
   ]
  },
  {
   "cell_type": "code",
   "execution_count": 0,
   "metadata": {
    "application/vnd.databricks.v1+cell": {
     "cellMetadata": {},
     "inputWidgets": {},
     "nuid": "9cc9db41-bc15-4d66-9295-fe9b0d6d6a2f",
     "showTitle": false,
     "title": ""
    },
    "id": "Hv7y4c2-dxLx"
   },
   "outputs": [],
   "source": [
    "#Rename columns\n",
    "\n",
    "df2.rename({'revenue': 'monetary'}, axis=\"columns\", inplace=True)"
   ]
  },
  {
   "cell_type": "code",
   "execution_count": 0,
   "metadata": {
    "application/vnd.databricks.v1+cell": {
     "cellMetadata": {},
     "inputWidgets": {},
     "nuid": "83f0842a-518b-4a2a-900b-b93c83f98e89",
     "showTitle": false,
     "title": ""
    },
    "colab": {
     "base_uri": "https://localhost:8080/",
     "height": 204
    },
    "id": "Wdgm1Vj7dxLy",
    "outputId": "cf9ed6fd-0488-4547-d656-f394c98769e2"
   },
   "outputs": [],
   "source": [
    "df2.head()"
   ]
  },
  {
   "cell_type": "code",
   "execution_count": 0,
   "metadata": {
    "application/vnd.databricks.v1+cell": {
     "cellMetadata": {},
     "inputWidgets": {},
     "nuid": "64edb582-b8c0-41d0-8908-0bdfcb35b0cb",
     "showTitle": false,
     "title": ""
    },
    "colab": {
     "base_uri": "https://localhost:8080/"
    },
    "id": "oBC8ZeQDdxLy",
    "outputId": "1f15016c-42b7-49b0-e2c3-a4685bc28d64"
   },
   "outputs": [],
   "source": [
    "df2.info()"
   ]
  },
  {
   "cell_type": "code",
   "execution_count": 0,
   "metadata": {
    "application/vnd.databricks.v1+cell": {
     "cellMetadata": {},
     "inputWidgets": {},
     "nuid": "f1c3fa75-090b-4853-affa-7507e6014f02",
     "showTitle": false,
     "title": ""
    },
    "colab": {
     "base_uri": "https://localhost:8080/",
     "height": 297
    },
    "id": "WV5lfK4IdxLy",
    "outputId": "fd3336f6-8fd7-4cd6-cfea-de6853960dc4"
   },
   "outputs": [],
   "source": [
    "df2.describe()"
   ]
  },
  {
   "cell_type": "code",
   "execution_count": 0,
   "metadata": {
    "application/vnd.databricks.v1+cell": {
     "cellMetadata": {},
     "inputWidgets": {},
     "nuid": "9ec8fff5-077c-4e97-a371-a533873d8742",
     "showTitle": false,
     "title": ""
    },
    "id": "g3NeSfPA46JM"
   },
   "outputs": [],
   "source": [
    "# We have 235574 transactions in the period of time icluded in the dataset\n",
    "# Biggest transaction was 150,000 units. But it seems there was a reeturn of that amount as well, -150,000 units\n",
    "# Most expensive purchase was 2.41 Millions"
   ]
  },
  {
   "cell_type": "code",
   "execution_count": 0,
   "metadata": {
    "application/vnd.databricks.v1+cell": {
     "cellMetadata": {},
     "inputWidgets": {},
     "nuid": "2bd34040-9422-4394-a4b4-1ba5f8472b22",
     "showTitle": false,
     "title": ""
    },
    "colab": {
     "base_uri": "https://localhost:8080/"
    },
    "id": "SMjrADYXdxLy",
    "outputId": "957e1ec9-4e79-442c-a691-84d7fe64964c"
   },
   "outputs": [],
   "source": [
    "df2.isnull().sum()"
   ]
  },
  {
   "cell_type": "code",
   "execution_count": 0,
   "metadata": {
    "application/vnd.databricks.v1+cell": {
     "cellMetadata": {},
     "inputWidgets": {},
     "nuid": "234fcde5-015a-491f-a602-00e3e58710ad",
     "showTitle": false,
     "title": ""
    },
    "colab": {
     "base_uri": "https://localhost:8080/"
    },
    "id": "VfddguWY4TUf",
    "outputId": "7851c0e8-7134-43d3-ddee-664e2b8217cd"
   },
   "outputs": [],
   "source": [
    "# Let's view the period of time included in the dataset\n",
    "\n",
    "df2['date'].min()"
   ]
  },
  {
   "cell_type": "code",
   "execution_count": 0,
   "metadata": {
    "application/vnd.databricks.v1+cell": {
     "cellMetadata": {},
     "inputWidgets": {},
     "nuid": "9af6035a-c2d9-423d-a7bc-5fa064976714",
     "showTitle": false,
     "title": ""
    },
    "colab": {
     "base_uri": "https://localhost:8080/"
    },
    "id": "UmiL25se4TQL",
    "outputId": "282b1d44-46ad-4ccc-a67f-50aff3f96c25"
   },
   "outputs": [],
   "source": [
    "df2['date'].max()"
   ]
  },
  {
   "cell_type": "code",
   "execution_count": 0,
   "metadata": {
    "application/vnd.databricks.v1+cell": {
     "cellMetadata": {},
     "inputWidgets": {},
     "nuid": "ce47ca4e-bb34-43e0-9aba-3c43fb541a92",
     "showTitle": false,
     "title": ""
    },
    "colab": {
     "base_uri": "https://localhost:8080/"
    },
    "id": "wGNkehy83Sy7",
    "outputId": "0cae2089-8d0e-4aa2-f678-cc430201da51"
   },
   "outputs": [],
   "source": [
    "# Let's explore in how many different countries we have sales in that period\n",
    "\n",
    "df2['country'].unique()"
   ]
  },
  {
   "cell_type": "code",
   "execution_count": 0,
   "metadata": {
    "application/vnd.databricks.v1+cell": {
     "cellMetadata": {},
     "inputWidgets": {},
     "nuid": "fd1ef358-a999-4c75-8bc0-e3e457e6047e",
     "showTitle": false,
     "title": ""
    },
    "colab": {
     "base_uri": "https://localhost:8080/"
    },
    "id": "EzqHjFq531Sw",
    "outputId": "d40a8cb3-e322-4fb0-806d-84fb0a414716"
   },
   "outputs": [],
   "source": [
    "df2['country'].nunique()"
   ]
  },
  {
   "cell_type": "code",
   "execution_count": 0,
   "metadata": {
    "application/vnd.databricks.v1+cell": {
     "cellMetadata": {},
     "inputWidgets": {},
     "nuid": "4985378b-6d8d-47a4-8832-6c3a6aa334f1",
     "showTitle": false,
     "title": ""
    },
    "colab": {
     "base_uri": "https://localhost:8080/"
    },
    "id": "b7WFvvE6Et4_",
    "outputId": "ae9d64f1-6fe1-4f88-ec6c-db296426a370"
   },
   "outputs": [],
   "source": [
    "# Transforming country codes into full country names with clean_country function from dataprep library\n",
    "\n",
    "clean_country(df2, \"country\")['country_clean'].unique()"
   ]
  },
  {
   "cell_type": "code",
   "execution_count": 0,
   "metadata": {
    "application/vnd.databricks.v1+cell": {
     "cellMetadata": {},
     "inputWidgets": {},
     "nuid": "525f8a8e-8565-43da-9e83-35db0925513c",
     "showTitle": false,
     "title": ""
    },
    "colab": {
     "base_uri": "https://localhost:8080/"
    },
    "id": "_NfRCnq131Ob",
    "outputId": "7029a7b9-ef23-41c9-a31f-b05bfe4eac16"
   },
   "outputs": [],
   "source": [
    "# Total number of customers in all countries\n",
    "\n",
    "df2['id'].nunique()"
   ]
  },
  {
   "cell_type": "code",
   "execution_count": 0,
   "metadata": {
    "application/vnd.databricks.v1+cell": {
     "cellMetadata": {},
     "inputWidgets": {},
     "nuid": "e67d19a7-40d1-43c4-a029-5f6bc9cf814f",
     "showTitle": false,
     "title": ""
    },
    "colab": {
     "base_uri": "https://localhost:8080/",
     "height": 235
    },
    "id": "9UHW6jQh31KE",
    "outputId": "afc2d85a-6f50-4434-b9c9-4034d5c77c77"
   },
   "outputs": [],
   "source": [
    "# Putting date into the index for plotting the time series\n",
    "\n",
    "df2b = df2.set_index(\"date\")\n",
    "df2b.head()"
   ]
  },
  {
   "cell_type": "code",
   "execution_count": 0,
   "metadata": {
    "application/vnd.databricks.v1+cell": {
     "cellMetadata": {},
     "inputWidgets": {},
     "nuid": "d819dbf5-e08a-478d-99a6-3a5bd57a1aeb",
     "showTitle": false,
     "title": ""
    },
    "colab": {
     "base_uri": "https://localhost:8080/",
     "height": 343
    },
    "id": "1z7xzmT78Mxh",
    "outputId": "eda5e425-894b-47cc-f9a0-4bfd87f02b23"
   },
   "outputs": [],
   "source": [
    "plt.style.use('ggplot')\n",
    "plt.title('Units sold per week')\n",
    "plt.ylabel('units')\n",
    "plt.xlabel('date');\n",
    "df2b['units'].plot(figsize=(20,5), c='dodgerblue');"
   ]
  },
  {
   "cell_type": "code",
   "execution_count": 0,
   "metadata": {
    "application/vnd.databricks.v1+cell": {
     "cellMetadata": {},
     "inputWidgets": {},
     "nuid": "5698f0f9-3224-4a16-a8ed-79afde76f092",
     "showTitle": false,
     "title": ""
    },
    "colab": {
     "base_uri": "https://localhost:8080/",
     "height": 343
    },
    "id": "giXyE1Vc8Mps",
    "outputId": "632a7fe8-c051-4e61-ee1d-f3d4111595ac"
   },
   "outputs": [],
   "source": [
    "plt.style.use('ggplot')\n",
    "plt.title('Revenue per week')\n",
    "plt.ylabel('units')\n",
    "plt.xlabel('date');\n",
    "df2b['monetary'].plot(figsize=(20,5), c='dodgerblue');"
   ]
  },
  {
   "cell_type": "code",
   "execution_count": 0,
   "metadata": {
    "application/vnd.databricks.v1+cell": {
     "cellMetadata": {},
     "inputWidgets": {},
     "nuid": "b9d23afc-6540-4a49-9e06-60fd4e2c3cd4",
     "showTitle": false,
     "title": ""
    },
    "id": "3tOL1QQc8MjN"
   },
   "outputs": [],
   "source": [
    "# For greater visibility in the plots we convert the dates to monthly periods and we aggregate the units and revenue of the same period\n",
    "\n",
    "df2c = df2b.to_period(\"M\")"
   ]
  },
  {
   "cell_type": "code",
   "execution_count": 0,
   "metadata": {
    "application/vnd.databricks.v1+cell": {
     "cellMetadata": {},
     "inputWidgets": {},
     "nuid": "fe8bba20-1024-4547-be38-65c7b67233d9",
     "showTitle": false,
     "title": ""
    },
    "colab": {
     "base_uri": "https://localhost:8080/",
     "height": 235
    },
    "id": "0iusXD4l89aJ",
    "outputId": "2d0a834f-9661-4bdc-e133-7068cfeeac1d"
   },
   "outputs": [],
   "source": [
    "df2c.head()"
   ]
  },
  {
   "cell_type": "code",
   "execution_count": 0,
   "metadata": {
    "application/vnd.databricks.v1+cell": {
     "cellMetadata": {},
     "inputWidgets": {},
     "nuid": "79e4c6e2-b726-429b-bae0-12b3df20b558",
     "showTitle": false,
     "title": ""
    },
    "colab": {
     "base_uri": "https://localhost:8080/",
     "height": 364
    },
    "id": "dF4zRcSqBLYR",
    "outputId": "43177a46-74fa-4fc7-b39a-a377054d9bc8"
   },
   "outputs": [],
   "source": [
    "plt.style.use('ggplot')\n",
    "df2c['units'].groupby('date').agg(sum).plot(figsize=(20,5), c='dodgerblue')\n",
    "plt.title('Units sold per month')\n",
    "plt.ylabel('units')\n",
    "plt.xlabel('date');"
   ]
  },
  {
   "cell_type": "code",
   "execution_count": 0,
   "metadata": {
    "application/vnd.databricks.v1+cell": {
     "cellMetadata": {},
     "inputWidgets": {},
     "nuid": "46f40847-00ec-4b53-9f67-14294e715523",
     "showTitle": false,
     "title": ""
    },
    "colab": {
     "base_uri": "https://localhost:8080/",
     "height": 364
    },
    "id": "VkIOHaECB4pE",
    "outputId": "3635b989-198a-4e35-c8ee-4b9ad307602f"
   },
   "outputs": [],
   "source": [
    "plt.style.use('ggplot')\n",
    "df2c['monetary'].groupby('date').agg(sum).plot(figsize=(20,5), c='dodgerblue')\n",
    "plt.title('Revenue per month')\n",
    "plt.ylabel('revenue')\n",
    "plt.xlabel('date');"
   ]
  },
  {
   "cell_type": "markdown",
   "metadata": {
    "application/vnd.databricks.v1+cell": {
     "cellMetadata": {},
     "inputWidgets": {},
     "nuid": "37a5bce1-f820-4f95-a6e1-269f30d8f948",
     "showTitle": false,
     "title": ""
    },
    "id": "eXjAtAMhdxLy"
   },
   "source": [
    "### Transform data to obtain RFM"
   ]
  },
  {
   "cell_type": "code",
   "execution_count": 0,
   "metadata": {
    "application/vnd.databricks.v1+cell": {
     "cellMetadata": {},
     "inputWidgets": {},
     "nuid": "6fa2f2e8-aaca-4b04-adaf-1e8d7cceaa40",
     "showTitle": false,
     "title": ""
    },
    "colab": {
     "base_uri": "https://localhost:8080/"
    },
    "id": "hrcHkkTSdxLy",
    "outputId": "c1acc009-6788-4972-82b3-504cbc4d73a5"
   },
   "outputs": [],
   "source": [
    "print('Sales from {} to {}'.format(df2['date'].min(),\n",
    "                                    df2['date'].max()))"
   ]
  },
  {
   "cell_type": "code",
   "execution_count": 0,
   "metadata": {
    "application/vnd.databricks.v1+cell": {
     "cellMetadata": {},
     "inputWidgets": {},
     "nuid": "415d5dd7-a987-4dc4-8e95-f9375ccf0034",
     "showTitle": false,
     "title": ""
    },
    "id": "HqiYHbSWdxLy"
   },
   "outputs": [],
   "source": [
    "#Let's focus on sales from last 365 days since most recent date\n",
    "\n",
    "period = 365\n",
    "date_N_days_ago = df2['date'].max() - timedelta(days=period)"
   ]
  },
  {
   "cell_type": "code",
   "execution_count": 0,
   "metadata": {
    "application/vnd.databricks.v1+cell": {
     "cellMetadata": {},
     "inputWidgets": {},
     "nuid": "1bec73af-29aa-4ebd-9091-2ecc522e0875",
     "showTitle": false,
     "title": ""
    },
    "id": "nx4-70VqdxLy"
   },
   "outputs": [],
   "source": [
    "# We remove the rows with dates older than 365 days ago\n",
    "\n",
    "df2 = df2[df2['date']> date_N_days_ago]"
   ]
  },
  {
   "cell_type": "code",
   "execution_count": 0,
   "metadata": {
    "application/vnd.databricks.v1+cell": {
     "cellMetadata": {},
     "inputWidgets": {},
     "nuid": "1e32feb4-2626-4395-947f-53f192b58e60",
     "showTitle": false,
     "title": ""
    },
    "id": "yIL6lZpedxLy"
   },
   "outputs": [],
   "source": [
    "df2.reset_index(drop=True, inplace=True)"
   ]
  },
  {
   "cell_type": "code",
   "execution_count": 0,
   "metadata": {
    "application/vnd.databricks.v1+cell": {
     "cellMetadata": {},
     "inputWidgets": {},
     "nuid": "6d9de8f6-795e-4608-a7a1-25a9f1da77db",
     "showTitle": false,
     "title": ""
    },
    "colab": {
     "base_uri": "https://localhost:8080/",
     "height": 204
    },
    "id": "zG7NiSRrdxLy",
    "outputId": "e5469ea9-64f9-4f1c-8da6-04edacc98400"
   },
   "outputs": [],
   "source": [
    "df2.head()"
   ]
  },
  {
   "cell_type": "code",
   "execution_count": 0,
   "metadata": {
    "application/vnd.databricks.v1+cell": {
     "cellMetadata": {},
     "inputWidgets": {},
     "nuid": "09241bad-56a4-470d-99a4-98c3c512acb7",
     "showTitle": false,
     "title": ""
    },
    "colab": {
     "base_uri": "https://localhost:8080/"
    },
    "id": "DoBmQt_WdxLy",
    "outputId": "58894d84-b388-4de0-b98f-b41c7e393e1e"
   },
   "outputs": [],
   "source": [
    "df2.info()"
   ]
  },
  {
   "cell_type": "code",
   "execution_count": 0,
   "metadata": {
    "application/vnd.databricks.v1+cell": {
     "cellMetadata": {},
     "inputWidgets": {},
     "nuid": "53243616-f4cd-4295-accf-f70d8bf8e49c",
     "showTitle": false,
     "title": ""
    },
    "id": "oVPHV_IzdxLy"
   },
   "outputs": [],
   "source": [
    "# There are customers with the same 'id' in several countries. This causes errors in the monetary values\n",
    "# Let's create a unique 'id+' identifier that combines country code and customer id\n",
    "\n",
    "df3 = df2.copy()\n",
    "\n",
    "df3['id+'] = df3['country'].map(str) + df3['id'].map(str)"
   ]
  },
  {
   "cell_type": "code",
   "execution_count": 0,
   "metadata": {
    "application/vnd.databricks.v1+cell": {
     "cellMetadata": {},
     "inputWidgets": {},
     "nuid": "f5d9a5ea-ddab-4245-843b-5fce6a6e4127",
     "showTitle": false,
     "title": ""
    },
    "colab": {
     "base_uri": "https://localhost:8080/",
     "height": 204
    },
    "id": "R-LIIoIhdxLy",
    "outputId": "e401a714-8306-48de-cff8-1b3ae7cac3e5"
   },
   "outputs": [],
   "source": [
    "df3.head()"
   ]
  },
  {
   "cell_type": "code",
   "execution_count": 0,
   "metadata": {
    "application/vnd.databricks.v1+cell": {
     "cellMetadata": {},
     "inputWidgets": {},
     "nuid": "f3c5a6e7-aeeb-4b4b-834b-4925f0d2dca9",
     "showTitle": false,
     "title": ""
    },
    "colab": {
     "base_uri": "https://localhost:8080/"
    },
    "id": "62vRI_-WdxLy",
    "outputId": "56f9f179-2e81-4617-c04b-8f39ddaf4e82"
   },
   "outputs": [],
   "source": [
    "# We set the NOW date one day after the last sale\n",
    "\n",
    "NOW = df3['date'].max() + timedelta(days=1)\n",
    "NOW"
   ]
  },
  {
   "cell_type": "code",
   "execution_count": 0,
   "metadata": {
    "application/vnd.databricks.v1+cell": {
     "cellMetadata": {},
     "inputWidgets": {},
     "nuid": "23a204e3-7e1e-4a29-92de-17af32133b46",
     "showTitle": false,
     "title": ""
    },
    "id": "uCQP5CrNdxLy"
   },
   "outputs": [],
   "source": [
    "# We add a column, 'days_since_last_purchase', with the days between purchase date and the latest date\n",
    "\n",
    "df3['days_since_purchase'] = df3['date'].apply(lambda x:(NOW - x).days)"
   ]
  },
  {
   "cell_type": "code",
   "execution_count": 0,
   "metadata": {
    "application/vnd.databricks.v1+cell": {
     "cellMetadata": {},
     "inputWidgets": {},
     "nuid": "f7e0aff2-78c7-45f5-b19d-a73767b1ce43",
     "showTitle": false,
     "title": ""
    },
    "colab": {
     "base_uri": "https://localhost:8080/",
     "height": 204
    },
    "id": "f38RHlx0dxLy",
    "outputId": "a5a6ba1f-8064-4002-db45-9e06e018e74c"
   },
   "outputs": [],
   "source": [
    "df3.head()"
   ]
  },
  {
   "cell_type": "code",
   "execution_count": 0,
   "metadata": {
    "application/vnd.databricks.v1+cell": {
     "cellMetadata": {},
     "inputWidgets": {},
     "nuid": "99c02696-16db-4e6b-abb4-2fdf0510b06e",
     "showTitle": false,
     "title": ""
    },
    "colab": {
     "base_uri": "https://localhost:8080/",
     "height": 204
    },
    "id": "byFCnMIwzrj6",
    "outputId": "334eb5b6-6aed-478b-fb6a-7a710b891129"
   },
   "outputs": [],
   "source": [
    "df3[df3['id+']=='KR706854']"
   ]
  },
  {
   "cell_type": "code",
   "execution_count": 0,
   "metadata": {
    "application/vnd.databricks.v1+cell": {
     "cellMetadata": {},
     "inputWidgets": {},
     "nuid": "44bbf5b0-4289-4d44-8846-6e0d67a3d805",
     "showTitle": false,
     "title": ""
    },
    "id": "TZR5VWPwdxLy"
   },
   "outputs": [],
   "source": [
    "# Recency will be the minimum of 'days_since_last_purchase' for each customer\n",
    "# Frequency will be the total number of orders in the period for each customer\n",
    "\n",
    "aggr = {\n",
    "    'days_since_purchase': lambda x:x.min(),\n",
    "    'date': lambda x: len([d for d in x if d >= NOW - timedelta(days=period)])\n",
    "}"
   ]
  },
  {
   "cell_type": "code",
   "execution_count": 0,
   "metadata": {
    "application/vnd.databricks.v1+cell": {
     "cellMetadata": {},
     "inputWidgets": {},
     "nuid": "69bb8194-f75c-4be2-a727-d1fa2071c408",
     "showTitle": false,
     "title": ""
    },
    "colab": {
     "base_uri": "https://localhost:8080/"
    },
    "id": "grvBY7j2dxLy",
    "outputId": "3f141439-f210-48b9-a219-492e7b5517f4"
   },
   "outputs": [],
   "source": [
    "aggr"
   ]
  },
  {
   "cell_type": "code",
   "execution_count": 0,
   "metadata": {
    "application/vnd.databricks.v1+cell": {
     "cellMetadata": {},
     "inputWidgets": {},
     "nuid": "b9abf5cc-4a48-4a7f-bb52-64a5ca552d21",
     "showTitle": false,
     "title": ""
    },
    "id": "xVi9-quwdxLy"
   },
   "outputs": [],
   "source": [
    "rfm = df3.groupby(['id', 'id+', 'country']).agg(aggr).reset_index()\n",
    "rfm.rename(columns={'days_since_purchase': 'recency',\n",
    "                   'date': 'frequency'},\n",
    "          inplace=True)"
   ]
  },
  {
   "cell_type": "code",
   "execution_count": 0,
   "metadata": {
    "application/vnd.databricks.v1+cell": {
     "cellMetadata": {},
     "inputWidgets": {},
     "nuid": "913c0d30-131b-4221-aa5f-d6831a16a820",
     "showTitle": false,
     "title": ""
    },
    "colab": {
     "base_uri": "https://localhost:8080/",
     "height": 419
    },
    "id": "MyCgNUF0dxLy",
    "outputId": "7882b342-53de-43be-f627-fcf591f4cd7a"
   },
   "outputs": [],
   "source": [
    "rfm"
   ]
  },
  {
   "cell_type": "code",
   "execution_count": 0,
   "metadata": {
    "application/vnd.databricks.v1+cell": {
     "cellMetadata": {},
     "inputWidgets": {},
     "nuid": "64451ca0-c841-4296-b846-e4a997f3be51",
     "showTitle": false,
     "title": ""
    },
    "colab": {
     "base_uri": "https://localhost:8080/",
     "height": 390
    },
    "id": "GHS2-oxAdxLz",
    "outputId": "33c3dc12-7191-42f3-a8e5-dcb52b9158fe"
   },
   "outputs": [],
   "source": [
    "# We check customers with id 3790218 have different recency and frequency values per country\n",
    "\n",
    "rfm[rfm['id']==3790218]"
   ]
  },
  {
   "cell_type": "code",
   "execution_count": 0,
   "metadata": {
    "application/vnd.databricks.v1+cell": {
     "cellMetadata": {},
     "inputWidgets": {},
     "nuid": "fbd2a8c5-e0dc-429d-abd0-df56c2ebb665",
     "showTitle": false,
     "title": ""
    },
    "colab": {
     "base_uri": "https://localhost:8080/"
    },
    "id": "oqtXiDvzdxLz",
    "outputId": "0c8fb0ef-576a-4e8a-9861-f3def188af06",
    "scrolled": true
   },
   "outputs": [],
   "source": [
    "# We get the revenue of the last 365 days per customer\n",
    "\n",
    "df3[df3['date'] >= NOW - timedelta(days=period)]\\\n",
    "    .groupby('id+')['monetary'].sum()"
   ]
  },
  {
   "cell_type": "code",
   "execution_count": 0,
   "metadata": {
    "application/vnd.databricks.v1+cell": {
     "cellMetadata": {},
     "inputWidgets": {},
     "nuid": "b4694df3-571c-4dbb-896f-3be031b6dbe8",
     "showTitle": false,
     "title": ""
    },
    "colab": {
     "base_uri": "https://localhost:8080/"
    },
    "id": "0UIQXnoddxLz",
    "outputId": "dcf4483f-4100-407a-b350-026f87463f8b"
   },
   "outputs": [],
   "source": [
    "# Example: getting only the monetary value for specific customer with id 3790218\n",
    "\n",
    "df3[ (df3['id'] == 3790218) & (df3['date'] >= NOW - timedelta(days=period))]\\\n",
    "    .groupby('id+')['monetary'].sum()"
   ]
  },
  {
   "cell_type": "code",
   "execution_count": 0,
   "metadata": {
    "application/vnd.databricks.v1+cell": {
     "cellMetadata": {},
     "inputWidgets": {},
     "nuid": "6df1e354-8d99-47df-8e9b-ee5b320587a9",
     "showTitle": false,
     "title": ""
    },
    "id": "-qGxiJcpdxLz"
   },
   "outputs": [],
   "source": [
    "# We add the revenue from df3 of last period per customer to rfm dataframe\n",
    "\n",
    "rfm['monetary'] = rfm['id+']\\\n",
    "    .apply(lambda x: df3[ (df3['id+'] == x) & (df3['date'] >= NOW - timedelta(days=period))]\\\n",
    "    .groupby(['id', 'country']).sum().iloc[0,0])"
   ]
  },
  {
   "cell_type": "code",
   "execution_count": 0,
   "metadata": {
    "application/vnd.databricks.v1+cell": {
     "cellMetadata": {},
     "inputWidgets": {},
     "nuid": "e35598e8-ce05-4641-92d5-e3b2256c8df1",
     "showTitle": false,
     "title": ""
    },
    "colab": {
     "base_uri": "https://localhost:8080/",
     "height": 204
    },
    "id": "B38deE94dxLz",
    "outputId": "b0c7f652-f128-4083-c1fb-2e514b99e711"
   },
   "outputs": [],
   "source": [
    "rfm.head()"
   ]
  },
  {
   "cell_type": "code",
   "execution_count": 0,
   "metadata": {
    "application/vnd.databricks.v1+cell": {
     "cellMetadata": {},
     "inputWidgets": {},
     "nuid": "e4ce051f-bcd1-471d-901d-b609bdec8873",
     "showTitle": false,
     "title": ""
    },
    "colab": {
     "base_uri": "https://localhost:8080/",
     "height": 80
    },
    "id": "56cInwKPdxLz",
    "outputId": "b5e6fbd5-2f76-4987-c58b-087a660bb6f2"
   },
   "outputs": [],
   "source": [
    "# Checking monetary value is correct by checking on our biggest customer\n",
    "\n",
    "rfm[rfm['monetary']==rfm['monetary'].max()]"
   ]
  },
  {
   "cell_type": "code",
   "execution_count": 0,
   "metadata": {
    "application/vnd.databricks.v1+cell": {
     "cellMetadata": {},
     "inputWidgets": {},
     "nuid": "e5837d8c-5cde-4006-bac5-4228476802f4",
     "showTitle": false,
     "title": ""
    },
    "colab": {
     "base_uri": "https://localhost:8080/",
     "height": 80
    },
    "id": "zdHuOr9cdxLz",
    "outputId": "a81187d3-4e4a-43dd-9c30-d99613cdb57a"
   },
   "outputs": [],
   "source": [
    "rfm[rfm['frequency']==rfm['frequency'].max()]"
   ]
  },
  {
   "cell_type": "code",
   "execution_count": 0,
   "metadata": {
    "application/vnd.databricks.v1+cell": {
     "cellMetadata": {},
     "inputWidgets": {},
     "nuid": "0588da80-2031-40fd-ba21-15383f21bb95",
     "showTitle": false,
     "title": ""
    },
    "colab": {
     "base_uri": "https://localhost:8080/",
     "height": 390
    },
    "id": "dNRr0-lidxLz",
    "outputId": "c35868a9-5067-47c6-d0e0-00c514b897f0",
    "scrolled": true
   },
   "outputs": [],
   "source": [
    "# We check that customers with id 3790218 get a different monetary value per country\n",
    "\n",
    "rfm[rfm['id']==3790218]"
   ]
  },
  {
   "cell_type": "code",
   "execution_count": 0,
   "metadata": {
    "application/vnd.databricks.v1+cell": {
     "cellMetadata": {},
     "inputWidgets": {},
     "nuid": "221f21b7-38c2-43e5-8d33-01be7704a2fa",
     "showTitle": false,
     "title": ""
    },
    "id": "xaEVEgNudxLz"
   },
   "outputs": [],
   "source": [
    "# Let's frop the column 'id+'\n",
    "\n",
    "rfm.drop(['id+'], axis=1, inplace=True)"
   ]
  },
  {
   "cell_type": "markdown",
   "metadata": {
    "application/vnd.databricks.v1+cell": {
     "cellMetadata": {},
     "inputWidgets": {},
     "nuid": "fc8b48b5-c8a7-4e83-983b-a8d835cff4bb",
     "showTitle": false,
     "title": ""
    },
    "id": "6c0RhcucdxLz"
   },
   "source": [
    "### Calculate the R, F and M scores"
   ]
  },
  {
   "cell_type": "code",
   "execution_count": 0,
   "metadata": {
    "application/vnd.databricks.v1+cell": {
     "cellMetadata": {},
     "inputWidgets": {},
     "nuid": "d29e2bab-8931-441b-a133-eb8219121284",
     "showTitle": false,
     "title": ""
    },
    "colab": {
     "base_uri": "https://localhost:8080/"
    },
    "id": "KdO2AfoKdxLz",
    "outputId": "c4c70150-869d-4d82-907a-a350c775cf94"
   },
   "outputs": [],
   "source": [
    "# We assign a rate between 1 and 5 depending on recency, monetary and frequency parameters\n",
    "# We use the quintiles method, dividing every feature on groups that contain 20 % of the samples\n",
    "\n",
    "quintiles = rfm[['recency', 'frequency', 'monetary']].quantile([.2, .4, .6, .8]).to_dict()\n",
    "quintiles"
   ]
  },
  {
   "cell_type": "code",
   "execution_count": 0,
   "metadata": {
    "application/vnd.databricks.v1+cell": {
     "cellMetadata": {},
     "inputWidgets": {},
     "nuid": "08a5e586-5dd9-4c27-b27e-27cbfac4d9cb",
     "showTitle": false,
     "title": ""
    },
    "id": "mesTzgG6dxLz"
   },
   "outputs": [],
   "source": [
    "# Assigning scores from 1 to 5\n",
    "# Higher values are better for frequency and monetary, while lower values are better for recency\n",
    "\n",
    "def r_score(x):\n",
    "    if x <= quintiles['recency'][.2]:\n",
    "        return 5\n",
    "    elif x <= quintiles['recency'][.4]:\n",
    "        return 4\n",
    "    elif x <= quintiles['recency'][.6]:\n",
    "        return 3\n",
    "    elif x <= quintiles['recency'][.8]:\n",
    "        return 2\n",
    "    else:\n",
    "        return 1"
   ]
  },
  {
   "cell_type": "code",
   "execution_count": 0,
   "metadata": {
    "application/vnd.databricks.v1+cell": {
     "cellMetadata": {},
     "inputWidgets": {},
     "nuid": "263a8920-505b-4789-884f-5d50b4aa83b3",
     "showTitle": false,
     "title": ""
    },
    "id": "YQOMkJPYdxLz"
   },
   "outputs": [],
   "source": [
    "def fm_score(x, c):\n",
    "    if x <= quintiles[c][.2]:\n",
    "        return 1\n",
    "    elif x <= quintiles[c][.4]:\n",
    "        return 2\n",
    "    elif x <= quintiles[c][.6]:\n",
    "        return 3\n",
    "    elif x <= quintiles[c][.8]:\n",
    "        return 4\n",
    "    else:\n",
    "        return 5"
   ]
  },
  {
   "cell_type": "code",
   "execution_count": 0,
   "metadata": {
    "application/vnd.databricks.v1+cell": {
     "cellMetadata": {},
     "inputWidgets": {},
     "nuid": "8ddb8526-a0c6-452c-b74d-628cfa4edf46",
     "showTitle": false,
     "title": ""
    },
    "id": "7Z6xzJLHdxLz"
   },
   "outputs": [],
   "source": [
    "# We asssign R, F and M scores to each customer\n",
    "\n",
    "rfm['r'] = rfm['recency'].apply(lambda x: r_score(x))\n",
    "rfm['f'] = rfm['frequency'].apply(lambda x: fm_score(x, 'frequency'))\n",
    "rfm['m'] = rfm['monetary'].apply(lambda x: fm_score(x, 'monetary'))"
   ]
  },
  {
   "cell_type": "code",
   "execution_count": 0,
   "metadata": {
    "application/vnd.databricks.v1+cell": {
     "cellMetadata": {},
     "inputWidgets": {},
     "nuid": "e5aaaf77-85dc-49c8-bcfd-8564841b3132",
     "showTitle": false,
     "title": ""
    },
    "colab": {
     "base_uri": "https://localhost:8080/",
     "height": 204
    },
    "id": "-KBoIe80dxLz",
    "outputId": "29ca78a4-a133-4bd0-d5a4-b685f67bc87a"
   },
   "outputs": [],
   "source": [
    "rfm.head()"
   ]
  },
  {
   "cell_type": "code",
   "execution_count": 0,
   "metadata": {
    "application/vnd.databricks.v1+cell": {
     "cellMetadata": {},
     "inputWidgets": {},
     "nuid": "34b5b022-20e4-4a39-97fc-5c1310148e84",
     "showTitle": false,
     "title": ""
    },
    "colab": {
     "base_uri": "https://localhost:8080/",
     "height": 204
    },
    "id": "ju7kft3GdxLz",
    "outputId": "c26bc26b-2ed0-4366-a9a9-86bab947da77",
    "scrolled": true
   },
   "outputs": [],
   "source": [
    "# Combine R, F and M scores to create a unique RFM score\n",
    "\n",
    "rfm['rfm_score'] = rfm['r'].map(str) + rfm['f'].map(str) + rfm['m'].map(str)\n",
    "rfm.head()"
   ]
  },
  {
   "cell_type": "code",
   "execution_count": 0,
   "metadata": {
    "application/vnd.databricks.v1+cell": {
     "cellMetadata": {},
     "inputWidgets": {},
     "nuid": "6fce566b-fdc3-401e-b0a6-9ef44f2caba2",
     "showTitle": false,
     "title": ""
    },
    "id": "gotetdOBdxL0"
   },
   "outputs": [],
   "source": [
    "# With this rfm scores we would have 125 segments of customers\n",
    "# To make a more simple segment map of 11 segments, we combine f and m scores, rounding them down\n",
    "# fm = (f+m)/2"
   ]
  },
  {
   "cell_type": "code",
   "execution_count": 0,
   "metadata": {
    "application/vnd.databricks.v1+cell": {
     "cellMetadata": {},
     "inputWidgets": {},
     "nuid": "0b910e52-ba3d-438a-a354-6ce4f357693c",
     "showTitle": false,
     "title": ""
    },
    "id": "Th4epxMZdxL0"
   },
   "outputs": [],
   "source": [
    "def truncate(x):\n",
    "    return math.trunc(x)"
   ]
  },
  {
   "cell_type": "code",
   "execution_count": 0,
   "metadata": {
    "application/vnd.databricks.v1+cell": {
     "cellMetadata": {},
     "inputWidgets": {},
     "nuid": "92c0ca2b-c16b-4447-bcc4-6630230d6eba",
     "showTitle": false,
     "title": ""
    },
    "id": "14Wz6XxndxL0"
   },
   "outputs": [],
   "source": [
    "rfm['fm'] = ((rfm['f'] + rfm['m'])/2).apply(lambda x: truncate(x))"
   ]
  },
  {
   "cell_type": "code",
   "execution_count": 0,
   "metadata": {
    "application/vnd.databricks.v1+cell": {
     "cellMetadata": {},
     "inputWidgets": {},
     "nuid": "d34a37cc-8f61-46ad-bd7d-9d30062cc2e9",
     "showTitle": false,
     "title": ""
    },
    "colab": {
     "base_uri": "https://localhost:8080/",
     "height": 204
    },
    "id": "uFlOVgZIdxL0",
    "outputId": "26e0970b-421e-4a1f-b12b-f6535db9a554"
   },
   "outputs": [],
   "source": [
    "rfm.head()"
   ]
  },
  {
   "cell_type": "markdown",
   "metadata": {
    "application/vnd.databricks.v1+cell": {
     "cellMetadata": {},
     "inputWidgets": {},
     "nuid": "c7fba4c8-439a-4276-b72c-47c7898e8302",
     "showTitle": false,
     "title": ""
    },
    "id": "YHaw_3YadxL0"
   },
   "source": [
    "### Segment\tDescription\n",
    "* **Champions**\tBought recently, buy often and spend the most\n",
    "* **Loyal Customers**\tBuy on a regular basis. Responsive to promotions.\n",
    "* **Potential Loyalists**\tRecent customers with average frequency.\n",
    "* **Recent Customers**\tBought most recently, but not often.\n",
    "* **Promising**\tRecent shoppers, but haven’t spent much.\n",
    "* **Customers Needing Attention**\tAbove average recency, frequency and monetary values. May not have bought very recently though.\n",
    "* **About To Sleep**\tBelow average recency and frequency. Will lose them if not reactivated.\n",
    "* **At Risk**\tPurchased often but a long time ago. Need to bring them back!\n",
    "* **Can’t Lose Them**\tUsed to purchase frequently but haven’t returned for a long time.\n",
    "* **Hibernating**\tLast purchase was long back and low number of orders.\n",
    "* **Lost** Purchased long time ago and never came back."
   ]
  },
  {
   "cell_type": "code",
   "execution_count": 0,
   "metadata": {
    "application/vnd.databricks.v1+cell": {
     "cellMetadata": {},
     "inputWidgets": {},
     "nuid": "cde8c656-44b2-41ea-be10-43aebcfae997",
     "showTitle": false,
     "title": ""
    },
    "colab": {
     "base_uri": "https://localhost:8080/",
     "height": 204
    },
    "id": "kdM6u7iadxL0",
    "outputId": "93d3c36a-4d88-4b9d-a7d4-ef33121224ae"
   },
   "outputs": [],
   "source": [
    "# We create a segment map of only 11 segments based on only two scores: 'r' and 'fm'\n",
    "\n",
    "segment_map = {\n",
    "    r'22': 'hibernating',\n",
    "    r'[1-2][1-2]': 'lost',\n",
    "    r'15': 'can\\'t lose',\n",
    "    r'[1-2][3-5]': 'at risk',\n",
    "    r'3[1-2]': 'about to sleep',\n",
    "    r'33': 'need attention',\n",
    "    r'55': 'champions',\n",
    "    r'[3-5][4-5]': 'loyal customers',\n",
    "    r'41': 'promising',\n",
    "    r'51': 'new customers',\n",
    "    r'[4-5][2-3]': 'potential loyalists'\n",
    "}\n",
    "\n",
    "rfm['segment'] = rfm['r'].map(str) + rfm['fm'].map(str)\n",
    "rfm['segment'] = rfm['segment'].replace(segment_map, regex=True)\n",
    "rfm.head()"
   ]
  },
  {
   "cell_type": "code",
   "execution_count": 0,
   "metadata": {
    "application/vnd.databricks.v1+cell": {
     "cellMetadata": {},
     "inputWidgets": {},
     "nuid": "e13d71ee-7894-4d28-8841-ae1b93481c16",
     "showTitle": false,
     "title": ""
    },
    "colab": {
     "base_uri": "https://localhost:8080/"
    },
    "id": "eQzgj9fMdxL0",
    "outputId": "23dd5719-d3c2-4b7a-9c7a-352c79c0d741"
   },
   "outputs": [],
   "source": [
    "rfm.isnull().sum()"
   ]
  },
  {
   "cell_type": "markdown",
   "metadata": {
    "application/vnd.databricks.v1+cell": {
     "cellMetadata": {},
     "inputWidgets": {},
     "nuid": "897e63c4-7ba1-4431-a436-727ab732cdd1",
     "showTitle": false,
     "title": ""
    },
    "id": "dcog_U9DdxL0"
   },
   "source": [
    "### Exploring the customers segments"
   ]
  },
  {
   "cell_type": "code",
   "execution_count": 0,
   "metadata": {
    "application/vnd.databricks.v1+cell": {
     "cellMetadata": {},
     "inputWidgets": {},
     "nuid": "eed91ff5-1a61-4a69-a696-4eb41289c6f6",
     "showTitle": false,
     "title": ""
    },
    "colab": {
     "base_uri": "https://localhost:8080/"
    },
    "id": "e_TFIrzSdxL0",
    "outputId": "56d99b84-4352-4769-c330-7ab62342fb42"
   },
   "outputs": [],
   "source": [
    "rfm['segment'].unique()"
   ]
  },
  {
   "cell_type": "code",
   "execution_count": 0,
   "metadata": {
    "application/vnd.databricks.v1+cell": {
     "cellMetadata": {},
     "inputWidgets": {},
     "nuid": "f82d446d-49e7-4ed5-8837-3e4608046f7c",
     "showTitle": false,
     "title": ""
    },
    "colab": {
     "base_uri": "https://localhost:8080/",
     "height": 390
    },
    "id": "YE58OitYdxL0",
    "outputId": "bbcdd72f-6bda-4fbb-8ae1-e44f98d4a6b7"
   },
   "outputs": [],
   "source": [
    "# We take a look on some segments\n",
    "\n",
    "rfm[rfm['segment']==\"can't lose\"].sort_values(by='monetary', ascending=False)"
   ]
  },
  {
   "cell_type": "code",
   "execution_count": 0,
   "metadata": {
    "application/vnd.databricks.v1+cell": {
     "cellMetadata": {},
     "inputWidgets": {},
     "nuid": "868a0ac7-6cda-40fa-bca0-472b8601a4d4",
     "showTitle": false,
     "title": ""
    },
    "colab": {
     "base_uri": "https://localhost:8080/",
     "height": 359
    },
    "id": "eXm8JQyAdxL0",
    "outputId": "d9c3aa02-35f8-4b05-c6a0-a31509984c29"
   },
   "outputs": [],
   "source": [
    "rfm[rfm['segment']==\"need attention\"].sort_values(by='monetary', ascending=False).head(10)"
   ]
  },
  {
   "cell_type": "code",
   "execution_count": 0,
   "metadata": {
    "application/vnd.databricks.v1+cell": {
     "cellMetadata": {},
     "inputWidgets": {},
     "nuid": "df7d0c59-6094-4bd7-87ec-1dd6693fefcb",
     "showTitle": false,
     "title": ""
    },
    "colab": {
     "base_uri": "https://localhost:8080/",
     "height": 359
    },
    "id": "VOu3i5-4dxL0",
    "outputId": "bd4cb467-7287-40d5-e666-4d54cb3f38bd"
   },
   "outputs": [],
   "source": [
    "rfm[rfm['segment']=='loyal customers'].sort_values(by='monetary', ascending=False).head(10)"
   ]
  },
  {
   "cell_type": "code",
   "execution_count": 0,
   "metadata": {
    "application/vnd.databricks.v1+cell": {
     "cellMetadata": {},
     "inputWidgets": {},
     "nuid": "4c5818c6-84c4-4f69-b0a6-689e0ea4d772",
     "showTitle": false,
     "title": ""
    },
    "colab": {
     "base_uri": "https://localhost:8080/",
     "height": 359
    },
    "id": "75iaRkT5dxL0",
    "outputId": "292e3e1d-c1ae-4717-98ab-31739f35d2b4"
   },
   "outputs": [],
   "source": [
    "rfm[rfm['segment']=='champions'].sort_values(by='monetary', ascending=False).head(10)"
   ]
  },
  {
   "cell_type": "code",
   "execution_count": 0,
   "metadata": {
    "application/vnd.databricks.v1+cell": {
     "cellMetadata": {},
     "inputWidgets": {},
     "nuid": "6ef182cc-9444-4fec-8cab-51c2d1599313",
     "showTitle": false,
     "title": ""
    },
    "colab": {
     "base_uri": "https://localhost:8080/"
    },
    "id": "hV-0pAyTdxL0",
    "outputId": "d8d5f77f-5b5d-4526-defa-9baf257d73b8"
   },
   "outputs": [],
   "source": [
    "rfm['monetary'].mean()"
   ]
  },
  {
   "cell_type": "code",
   "execution_count": 0,
   "metadata": {
    "application/vnd.databricks.v1+cell": {
     "cellMetadata": {},
     "inputWidgets": {},
     "nuid": "dc3561be-c5bc-4f2f-a44a-77e709e0462b",
     "showTitle": false,
     "title": ""
    },
    "colab": {
     "base_uri": "https://localhost:8080/",
     "height": 297
    },
    "id": "lmTaBuNrdxL0",
    "outputId": "4309c2ea-6b94-42a9-9100-b5f0adab2a52"
   },
   "outputs": [],
   "source": [
    "# Customers with monetary over the average that need attention\n",
    "\n",
    "rfm[(rfm['monetary']>rfm['monetary'].mean()) & (rfm['segment']=='need attention')]\\\n",
    "    .sort_values(by='monetary', ascending=False)"
   ]
  },
  {
   "cell_type": "code",
   "execution_count": 0,
   "metadata": {
    "application/vnd.databricks.v1+cell": {
     "cellMetadata": {},
     "inputWidgets": {},
     "nuid": "dc85ba61-31f4-4c9d-b074-d2bdc591d028",
     "showTitle": false,
     "title": ""
    },
    "colab": {
     "base_uri": "https://localhost:8080/",
     "height": 387
    },
    "id": "rGSxrYZ2dxL0",
    "outputId": "63580569-9d4b-49f0-80cf-33415adb4080"
   },
   "outputs": [],
   "source": [
    "# Let's do a scatter plot to explore the distribution of customers\n",
    "# Using 'monetary' as the size of the points, we see that the majority of customers who spend the most also purchase more frequently\n",
    "\n",
    "plt.style.use('ggplot')\n",
    "rfm.plot.scatter(x='recency', y='frequency', s=rfm['monetary']*5e-5, figsize=(20,5), c='dodgerblue')\n",
    "plt.gca().set(xlabel='recency', ylabel='frequency', title='Customer distribution');"
   ]
  },
  {
   "cell_type": "code",
   "execution_count": 0,
   "metadata": {
    "application/vnd.databricks.v1+cell": {
     "cellMetadata": {},
     "inputWidgets": {},
     "nuid": "2041e2e4-b50c-4ba3-9b88-3425ccf9b251",
     "showTitle": false,
     "title": ""
    },
    "id": "KmxTpRsMvmqD"
   },
   "outputs": [],
   "source": [
    "# We export the dataframe to a CSV file for later processing it in Power BI\n",
    "# (We added the parameter float_format='%.2f' for setting numbers to two decimals)\n",
    "\n",
    "rfm.to_csv('rfm_asia.csv', encoding='utf-8', index=False, float_format='%.2f')"
   ]
  }
 ],
 "metadata": {
  "application/vnd.databricks.v1+notebook": {
   "dashboards": [],
   "environmentMetadata": {
    "base_environment": "",
    "client": "1"
   },
   "language": "python",
   "notebookMetadata": {
    "pythonIndentUnit": 4
   },
   "notebookName": "customer_segmentation_asia",
   "widgets": {}
  },
  "colab": {
   "collapsed_sections": [],
   "include_colab_link": true,
   "name": "customer_segmentation_asia.ipynb",
   "provenance": []
  },
  "kernelspec": {
   "display_name": "Python 3",
   "language": "python",
   "name": "python3"
  },
  "language_info": {
   "codemirror_mode": {
    "name": "ipython",
    "version": 3
   },
   "file_extension": ".py",
   "mimetype": "text/x-python",
   "name": "python",
   "nbconvert_exporter": "python",
   "pygments_lexer": "ipython3",
   "version": "3.7.7"
  }
 },
 "nbformat": 4,
 "nbformat_minor": 0
}
